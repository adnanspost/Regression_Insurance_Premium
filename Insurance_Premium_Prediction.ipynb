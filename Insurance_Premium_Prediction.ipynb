{
  "cells": [
    {
      "cell_type": "markdown",
      "metadata": {
        "id": "wDW9HbgxioNZ"
      },
      "source": [
        "# ML Models for Insurance Premium Pred: Regression"
      ]
    },
    {
      "cell_type": "markdown",
      "metadata": {
        "id": "bZN6z32EioNk"
      },
      "source": [
        "## Table of contents\n",
        "---------------------------------------------\n",
        "-  Import  Python Libraries \n",
        "-  Function Helper\n",
        "-  Import Dataset & Data Description\n",
        "-  Data Understanding\n",
        "-  Select the Features\n",
        "-  Data Pre-Processing\n",
        "-  Exploratory Data Analysis\n",
        "-  Data Transformation\n",
        "-  Feature Engineering \n",
        "-  Feature Selection\n",
        "-  Statistics Analysis\n",
        "-  Data Splitting \n",
        "-  Machine Learning Models \n",
        "-  Machine Learning Optimization\n",
        "-  Accuracy Score Summary \n",
        "-  Predication\n",
        "-  Save The Machien Learning Models "
      ]
    },
    {
      "cell_type": "markdown",
      "metadata": {
        "id": "jYPIDnyHioNl"
      },
      "source": [
        "# Import Python Libraries "
      ]
    },
    {
      "cell_type": "code",
      "execution_count": 1,
      "metadata": {
        "colab": {
          "base_uri": "https://localhost:8080/",
          "height": 0
        },
        "id": "lh2cntaeioNm",
        "outputId": "278058cf-f1e5-4723-b67b-0c7e512032ec"
      },
      "outputs": [
        {
          "output_type": "display_data",
          "data": {
            "text/html": [
              "        <script type=\"text/javascript\">\n",
              "        window.PlotlyConfig = {MathJaxConfig: 'local'};\n",
              "        if (window.MathJax) {MathJax.Hub.Config({SVG: {font: \"STIX-Web\"}});}\n",
              "        if (typeof require !== 'undefined') {\n",
              "        require.undef(\"plotly\");\n",
              "        requirejs.config({\n",
              "            paths: {\n",
              "                'plotly': ['https://cdn.plot.ly/plotly-2.8.3.min']\n",
              "            }\n",
              "        });\n",
              "        require(['plotly'], function(Plotly) {\n",
              "            window._Plotly = Plotly;\n",
              "        });\n",
              "        }\n",
              "        </script>\n",
              "        "
            ]
          },
          "metadata": {}
        }
      ],
      "source": [
        "import pandas as pd\n",
        "import numpy as np \n",
        "np.iinfo(np.uint64).max\n",
        "\n",
        "#   Visualization Libraries\n",
        "import matplotlib.pyplot as plt\n",
        "import plotly.express as px\n",
        "from termcolor import colored \n",
        "import seaborn as sns  \n",
        "from tabulate import tabulate\n",
        "\n",
        "##      Importing plotly and cufflinks in offline mode\n",
        "import cufflinks as cf\n",
        "cf.go_offline()\n",
        "cf.set_config_file(offline=False, world_readable=True)\n",
        "\n",
        "##      Figure&Display options\n",
        "plt.rcParams[\"figure.figsize\"] = (10,6)\n",
        "pd.set_option('max_colwidth',200)\n",
        "pd.set_option('display.max_rows', 1000)\n",
        "pd.set_option('display.max_columns', 200)\n",
        "pd.set_option('display.float_format', lambda x: '%.3f' % x)\n",
        "\n",
        "##      Ignore Warnings\n",
        "import warnings\n",
        "warnings.filterwarnings(\"ignore\")\n",
        "warnings.warn(\"this will not show\")\n",
        "\n",
        "#   Feature Engineering\n",
        "from sklearn.preprocessing import LabelEncoder\n",
        "from sklearn.preprocessing import OneHotEncoder\n",
        "\n",
        "le = LabelEncoder()\n",
        "le_orig = LabelEncoder()\n",
        "ohe = OneHotEncoder()\n",
        "\n",
        "#   Data Transformation \n",
        "from sklearn.preprocessing import StandardScaler\n",
        "from sklearn.preprocessing import minmax_scale\n",
        "from sklearn.preprocessing import MinMaxScaler\n",
        "from sklearn.preprocessing import RobustScaler\n",
        "from sklearn.preprocessing import PowerTransformer\n",
        "from sklearn.preprocessing import QuantileTransformer\n",
        "from sklearn.preprocessing import KBinsDiscretizer\n",
        "\n",
        "#   Feature Selection\n",
        "import sys\n",
        "import joblib\n",
        "\n",
        "sys.modules['sklearn.externals.joblib'] = joblib\n",
        "from mlxtend.feature_selection import SequentialFeatureSelector\n",
        "from sklearn.feature_selection import SelectKBest # Select features based on the k highest scores.\n",
        "from sklearn.feature_selection import SelectPercentile # Select features based on percentile of the highest scores.\n",
        "from sklearn.feature_selection import chi2 # Chi-squared stats of non-negative features for Regression tasks.\n",
        "from sklearn.feature_selection import mutual_info_classif # Mutual information for a discrete target\n",
        "from sklearn.feature_selection import f_classif # ANOVA F-value between label/feature for Regression tasks.\n",
        "\n",
        "#   Data Splitting \n",
        "from sklearn.model_selection import train_test_split\n",
        "\n",
        "#   sklearn Regressor Evaluation libraries\n",
        "from sklearn.metrics import mean_absolute_error\n",
        "from sklearn.metrics import mean_squared_error\n",
        "from sklearn.metrics import mean_absolute_percentage_error\n",
        "from sklearn.metrics import explained_variance_score\n",
        "from sklearn.metrics import explained_variance_score\n",
        "from sklearn.metrics import max_error\n",
        "from sklearn.metrics import mean_squared_log_error\n",
        "from sklearn.metrics import median_absolute_error\n",
        "from sklearn.metrics import r2_score\n",
        "from sklearn.metrics import mean_poisson_deviance\n",
        "from sklearn.metrics import mean_gamma_deviance\n",
        "from sklearn.metrics import accuracy_score # To get the accuracy score \n",
        "\n",
        "#   Supervised Machine Learning Models\n",
        "##      Random Forest Regressor\n",
        "from sklearn.ensemble import RandomForestRegressor\n",
        "\n",
        "##      Gradient Boosting Regressor \n",
        "from sklearn.ensemble import GradientBoostingRegressor\n",
        "\n",
        "##      Histogram-based Gradient Boosting Regression Tree\n",
        "from sklearn.ensemble import HistGradientBoostingRegressor\n",
        "\n",
        "##      AdaBoost Regressor\n",
        "from sklearn.ensemble import AdaBoostRegressor\n",
        "\n",
        "##      Extra Trees Regressor\n",
        "from sklearn.ensemble import ExtraTreesRegressor\n",
        "\n",
        "##      K-Nearest Neighbors Regressor\n",
        "from sklearn.neighbors import KNeighborsRegressor\n",
        "\n",
        "##      Decision Tree Regressor\n",
        "from sklearn.tree import DecisionTreeRegressor\n",
        "\n",
        "##      Linear Regressor with stochastic gradient descent SGD training.\n",
        "from sklearn.linear_model import SGDRegressor\n",
        "\n",
        "##      XGBoost Regressor\n",
        "from xgboost import XGBRegressor\n",
        "\n",
        "##      Support Vector Machines Regressor\n",
        "from sklearn.svm import SVR\n",
        "\n",
        "##      Linear Support Vector Regression\n",
        "from sklearn.svm import LinearSVR\n",
        "\n",
        "##      Multilayer Perceptron Regressor\n",
        "from sklearn.neural_network import MLPRegressor\n",
        "\n",
        "#   Model Optmization\n",
        "from sklearn.model_selection import RandomizedSearchCV\n",
        "from sklearn.model_selection import GridSearchCV\n",
        "\n",
        "# Save and Load the Machine Learning Models \n",
        "import pickle"
      ]
    },
    {
      "cell_type": "markdown",
      "metadata": {
        "id": "pWP5rZ7zioNq"
      },
      "source": [
        "# Function Helper"
      ]
    },
    {
      "cell_type": "code",
      "execution_count": 2,
      "metadata": {
        "id": "unX-GmIKioNq"
      },
      "outputs": [],
      "source": [
        "'''\n",
        "Read Dataset\n",
        "'''\n",
        "def CSV_File(path): \n",
        "\n",
        "    df_csv = pd.read_csv(path)\n",
        "\n",
        "    return df_csv\n",
        "      \n",
        "'''\n",
        "Missong Value Information\n",
        "'''\n",
        "def missing_values(df_missing_value_per):\n",
        "\n",
        "    missing_number = df_missing_value_per.isnull().sum().sort_values(ascending=False)\n",
        "    missing_percent = (df_missing_value_per.isnull().sum()/df_missing_value_per.shape[0]).sort_values(ascending=False) \n",
        "    missing_values = pd.concat([missing_number, missing_percent], axis=1, keys=['Missing_Number', 'Missing_Percent'])\n",
        "\n",
        "    return missing_values[missing_values['Missing_Number']>=0]\n",
        "\n",
        "def missing_values_info(df_missing_value):\n",
        "\n",
        "    print(colored(f\"Missing Values for Catuogirical Dataset:\\n\", attrs=['bold']), missing_values(df_missing_value),'\\n',  \n",
        "        colored('-'*79, 'red', attrs=['bold']), sep='')\n",
        "\n",
        "def SelectRowsHavingMissing_Value(df_Missing_Rows):\n",
        "\n",
        "    null_data = df_Missing_Rows[df_Missing_Rows.isnull().any(axis=1)]\n",
        "    \n",
        "    return null_data\n",
        "\n",
        "def replace_NA_by_0(df_replace, Col_NA_TO_Zero):\n",
        "\n",
        "    if Col_NA_TO_Zero !=[]:\n",
        "        df_replace[Col_NA_TO_Zero] = df_replace[Col_NA_TO_Zero].fillna(0) # if the Varibles is str we use '0', else 0\n",
        "        \n",
        "    return df_replace\n",
        "\n",
        "def replace_0_by_NA(df_replace, col_0_to_NA):\n",
        "\n",
        "    df_replace[col_0_to_NA] = df_replace[col_0_to_NA].replace('0', np.nan) # if the Varibles is str we use '0', else 0\n",
        "\n",
        "    return df_replace\n",
        "\n",
        "'''\n",
        "Split the Dataset Variables to Obj and Num\n",
        "'''\n",
        "def Data_Splitting_Num_Obj(df_split):\n",
        "\n",
        "    Obj = df_split.select_dtypes(include = ['object'])\n",
        "    Num = df_split.select_dtypes(include = np.number) \n",
        "\n",
        "    return Obj, Num\n",
        "\n",
        "'''\n",
        "Exploratory Data Analysis (EDA)\n",
        "'''\n",
        "def EDA_target(df_EDA,target):\n",
        "\n",
        "      if (df_EDA[target].dtype == 'float64' or df_EDA[target].dtype == 'int64'):\n",
        "            fig = px.histogram(df_EDA, x=target)\n",
        "            fig.show()\n",
        "            \n",
        "\n",
        "def EDA_target2(df_EDA,target):\n",
        "\n",
        "      if (df_EDA[target].dtype == 'float64' or df_EDA[target].dtype == 'int64'):\n",
        "\n",
        "            df_EDA.boxplot(column=target, figsize=(30, 20))\n",
        "            plt.show()\n",
        "\n",
        "def obj_EDA(df_EDA, cols):\n",
        "\n",
        "    for col in cols:\n",
        "        table = pd.DataFrame(df_EDA[col].value_counts())\n",
        "        print(tabulate(table, headers = 'keys', tablefmt = 'psql'))\n",
        "        plt.figure(figsize = (40, 20))\n",
        "        df_EDA[col].value_counts(normalize = True).plot(kind='bar', color= ['darkorange','steelblue'], alpha = 0.9, rot=0)\n",
        "        plt.title(col)\n",
        "        plt.show()\n",
        "\n",
        "def EDA_obj(df_EDA, cols, Target):\n",
        "\n",
        "    for col in cols:\n",
        "        print('Variable Name: ', df_EDA[col].name)\n",
        "        pd.crosstab(df_EDA[col], df_EDA[Target]).iplot(kind=\"bar\")\n",
        "\n",
        "def EDA_num(df_EDA, cols):\n",
        "\n",
        "    for col in cols: \n",
        "        fig, ax = plt.subplots(figsize=(30, 20))\n",
        "        df_EDA.hist(column=[col], ax=ax )\n",
        "\n",
        "def EDA_num_2(df_EDA, cols):\n",
        "\n",
        "    for col in cols: \n",
        "        df_EDA.boxplot(column=col, figsize=(30, 20))\n",
        "        plt.show()\n",
        "    \n",
        "def EDA_num_with_DV(df_eda, NUMcols_eda, target): \n",
        "\n",
        "    for col in NUMcols_eda:\n",
        "        sns.set_style('whitegrid')\n",
        "        plt.figure(figsize=(20,10))\n",
        "        sns.set_context('paper', font_scale=1.5)\n",
        "\n",
        "        sns.histplot(x=col, data = df_eda, bins = 30, hue = target,palette=\"Blues\", kde = True).set_title(col,fontsize=20)\n",
        "        plt.legend(['not satisfaction','satisfaction'],shadow = True, loc = 0);\n",
        "\n",
        "'''\n",
        "Data Transformation\n",
        "'''\n",
        "def NumStandardScaler(dataframe_series):\n",
        "\n",
        "    for col in list(dataframe_series.columns):\n",
        "        if (dataframe_series[col].dtype == 'float64' or dataframe_series[col].dtype == 'int64'): \n",
        "                print ('\\nStandardization Applied On:', col)\n",
        "                dataframe_series[col] = StandardScaler().fit_transform(dataframe_series[col].values.reshape(-1,1))\n",
        "\n",
        "    return dataframe_series\n",
        "\n",
        "'''\n",
        "Feature Engineering \n",
        "'''\n",
        "def AllObjLabelEncoder(dataframe_series):\n",
        "\n",
        "    from sklearn import preprocessing\n",
        "    le = preprocessing.LabelEncoder()\n",
        "    le_orig = preprocessing.LabelEncoder()\n",
        "\n",
        "    df_old = dataframe_series.copy(deep = False)\n",
        "\n",
        "    if dataframe_series.dtype=='object':\n",
        "        col = dataframe_series.name\n",
        "\n",
        "        dataframe_series = le.fit_transform(dataframe_series)\n",
        "        print('\\nLable Encoding Applied On:', col)\n",
        "\n",
        "        le.fit(dataframe_series)\n",
        "        print('New Value for',col,' Variable:', le.classes_)\n",
        "\n",
        "        le_orig.fit(df_old)\n",
        "        print('Old Value for',col,'Variable:', le_orig.classes_)\n",
        "\n",
        "    return dataframe_series\n",
        "\n",
        "'''\n",
        "Feature Selection\n",
        "'''\n",
        "def Feature_selection_forward(df_forward, target):\n",
        "\n",
        "    # Split the df into Obj and Num\n",
        "    obj, num = Data_Splitting_Num_Obj(df_forward)\n",
        "\n",
        "    list_df_num = list(num.columns)\n",
        "    if target not in list_df_num: \n",
        "        list_df_num.append(target)\n",
        "    print('All the Num Variables:',list_df_num)\n",
        "\n",
        "    list_df_Obj = list(obj.columns)\n",
        "    print('\\nAll the obj Variables:',list_df_Obj)\n",
        "\n",
        "    # Create New DataFrame Hvae only the Num Variables\n",
        "    df_num = df_forward[list_df_num]\n",
        "\n",
        "    # define dataset\n",
        "    X = df_num.drop(target, axis=1)\n",
        "    y = df_num[target]\n",
        "\n",
        "    X_train, X_test, y_train, y_test = train_test_split(X, y, test_size=0.2, random_state=42)\n",
        "\n",
        "    forward_FS = SequentialFeatureSelector(RandomForestRegressor(n_jobs= -1, ), # How many course you want to use. '-1 mwans all the course'\n",
        "                                                                k_features= (1, X.shape[1]),\n",
        "                                                                forward=True,\n",
        "                                                                floating=False,\n",
        "                                                                scoring = 'neg_mean_squared_error', # mean_squared_error, neg_mean_squared_error\n",
        "                                                                verbose=2,\n",
        "                                                                cv= 5\n",
        "                ).fit(X_train, y_train)\n",
        "\n",
        "    new_list_num = list(forward_FS.k_feature_names_)\n",
        "\n",
        "    print ('\\nMost Variables Can Effect The Target Variables: ',new_list_num)\n",
        "    print ('\\nWith Highest Score: ',forward_FS.k_score_)\n",
        "\n",
        "    \n",
        "    if target not in new_list_num: \n",
        "        new_list_num.append(target)\n",
        "    print('\\nAll the Variables Selected: ',new_list_num)\n",
        "\n",
        "    new_df_list = new_list_num + list_df_Obj\n",
        "    df_forward = df_forward[new_df_list]\n",
        "\n",
        "    forward_FS = pd.DataFrame(forward_FS.get_metric_dict()).T\n",
        "\n",
        "    return df_forward, forward_FS\n",
        "\n",
        "def Save_ML(ML_Name, _ml):\n",
        "\n",
        "    i = 0 \n",
        "\n",
        "    for ML in ML_Name:\n",
        "\n",
        "        with open(ML, \"wb\") as file:\n",
        "            \n",
        "            print(f'Create file name {ML}')\n",
        "\n",
        "            pickle.dump(_ml[i], file)\n",
        "            print('Model:', _ml[i], 'Saved\\n')\n",
        "\n",
        "        i += 1  "
      ]
    },
    {
      "cell_type": "markdown",
      "metadata": {
        "id": "W4j_T44MioNs"
      },
      "source": [
        "# Import Dataset & Data Description"
      ]
    },
    {
      "cell_type": "markdown",
      "metadata": {
        "id": "91FhLb9oioNt"
      },
      "source": [
        "## Import Dataset"
      ]
    },
    {
      "cell_type": "code",
      "execution_count": 3,
      "metadata": {
        "id": "1dYqZyHtioNu"
      },
      "outputs": [],
      "source": [
        "Path = '/content/Health_insurance.csv'\n",
        "file_type = 'C'\n",
        "\n",
        "if file_type == 'C':\n",
        "    df = CSV_File(Path)"
      ]
    },
    {
      "cell_type": "code",
      "execution_count": 4,
      "metadata": {
        "colab": {
          "base_uri": "https://localhost:8080/",
          "height": 363
        },
        "id": "BTKItbreioNu",
        "outputId": "9d56cf12-a927-4bc0-abd8-6f0fd44f561c"
      },
      "outputs": [
        {
          "output_type": "execute_result",
          "data": {
            "text/plain": [
              "   age     sex    bmi  children smoker     region   charges\n",
              "0   19  female 27.900         0    yes  southwest 16884.924\n",
              "1   18    male 33.770         1     no  southeast  1725.552\n",
              "2   28    male 33.000         3     no  southeast  4449.462\n",
              "3   33    male 22.705         0     no  northwest 21984.471\n",
              "4   32    male 28.880         0     no  northwest  3866.855\n",
              "5   31  female 25.740         0     no  southeast  3756.622\n",
              "6   46  female 33.440         1     no  southeast  8240.590\n",
              "7   37  female 27.740         3     no  northwest  7281.506\n",
              "8   37    male 29.830         2     no  northeast  6406.411\n",
              "9   60  female 25.840         0     no  northwest 28923.137"
            ],
            "text/html": [
              "\n",
              "  <div id=\"df-4bc039d8-87e8-481f-84b8-11e9342c1959\">\n",
              "    <div class=\"colab-df-container\">\n",
              "      <div>\n",
              "<style scoped>\n",
              "    .dataframe tbody tr th:only-of-type {\n",
              "        vertical-align: middle;\n",
              "    }\n",
              "\n",
              "    .dataframe tbody tr th {\n",
              "        vertical-align: top;\n",
              "    }\n",
              "\n",
              "    .dataframe thead th {\n",
              "        text-align: right;\n",
              "    }\n",
              "</style>\n",
              "<table border=\"1\" class=\"dataframe\">\n",
              "  <thead>\n",
              "    <tr style=\"text-align: right;\">\n",
              "      <th></th>\n",
              "      <th>age</th>\n",
              "      <th>sex</th>\n",
              "      <th>bmi</th>\n",
              "      <th>children</th>\n",
              "      <th>smoker</th>\n",
              "      <th>region</th>\n",
              "      <th>charges</th>\n",
              "    </tr>\n",
              "  </thead>\n",
              "  <tbody>\n",
              "    <tr>\n",
              "      <th>0</th>\n",
              "      <td>19</td>\n",
              "      <td>female</td>\n",
              "      <td>27.900</td>\n",
              "      <td>0</td>\n",
              "      <td>yes</td>\n",
              "      <td>southwest</td>\n",
              "      <td>16884.924</td>\n",
              "    </tr>\n",
              "    <tr>\n",
              "      <th>1</th>\n",
              "      <td>18</td>\n",
              "      <td>male</td>\n",
              "      <td>33.770</td>\n",
              "      <td>1</td>\n",
              "      <td>no</td>\n",
              "      <td>southeast</td>\n",
              "      <td>1725.552</td>\n",
              "    </tr>\n",
              "    <tr>\n",
              "      <th>2</th>\n",
              "      <td>28</td>\n",
              "      <td>male</td>\n",
              "      <td>33.000</td>\n",
              "      <td>3</td>\n",
              "      <td>no</td>\n",
              "      <td>southeast</td>\n",
              "      <td>4449.462</td>\n",
              "    </tr>\n",
              "    <tr>\n",
              "      <th>3</th>\n",
              "      <td>33</td>\n",
              "      <td>male</td>\n",
              "      <td>22.705</td>\n",
              "      <td>0</td>\n",
              "      <td>no</td>\n",
              "      <td>northwest</td>\n",
              "      <td>21984.471</td>\n",
              "    </tr>\n",
              "    <tr>\n",
              "      <th>4</th>\n",
              "      <td>32</td>\n",
              "      <td>male</td>\n",
              "      <td>28.880</td>\n",
              "      <td>0</td>\n",
              "      <td>no</td>\n",
              "      <td>northwest</td>\n",
              "      <td>3866.855</td>\n",
              "    </tr>\n",
              "    <tr>\n",
              "      <th>5</th>\n",
              "      <td>31</td>\n",
              "      <td>female</td>\n",
              "      <td>25.740</td>\n",
              "      <td>0</td>\n",
              "      <td>no</td>\n",
              "      <td>southeast</td>\n",
              "      <td>3756.622</td>\n",
              "    </tr>\n",
              "    <tr>\n",
              "      <th>6</th>\n",
              "      <td>46</td>\n",
              "      <td>female</td>\n",
              "      <td>33.440</td>\n",
              "      <td>1</td>\n",
              "      <td>no</td>\n",
              "      <td>southeast</td>\n",
              "      <td>8240.590</td>\n",
              "    </tr>\n",
              "    <tr>\n",
              "      <th>7</th>\n",
              "      <td>37</td>\n",
              "      <td>female</td>\n",
              "      <td>27.740</td>\n",
              "      <td>3</td>\n",
              "      <td>no</td>\n",
              "      <td>northwest</td>\n",
              "      <td>7281.506</td>\n",
              "    </tr>\n",
              "    <tr>\n",
              "      <th>8</th>\n",
              "      <td>37</td>\n",
              "      <td>male</td>\n",
              "      <td>29.830</td>\n",
              "      <td>2</td>\n",
              "      <td>no</td>\n",
              "      <td>northeast</td>\n",
              "      <td>6406.411</td>\n",
              "    </tr>\n",
              "    <tr>\n",
              "      <th>9</th>\n",
              "      <td>60</td>\n",
              "      <td>female</td>\n",
              "      <td>25.840</td>\n",
              "      <td>0</td>\n",
              "      <td>no</td>\n",
              "      <td>northwest</td>\n",
              "      <td>28923.137</td>\n",
              "    </tr>\n",
              "  </tbody>\n",
              "</table>\n",
              "</div>\n",
              "      <button class=\"colab-df-convert\" onclick=\"convertToInteractive('df-4bc039d8-87e8-481f-84b8-11e9342c1959')\"\n",
              "              title=\"Convert this dataframe to an interactive table.\"\n",
              "              style=\"display:none;\">\n",
              "        \n",
              "  <svg xmlns=\"http://www.w3.org/2000/svg\" height=\"24px\"viewBox=\"0 0 24 24\"\n",
              "       width=\"24px\">\n",
              "    <path d=\"M0 0h24v24H0V0z\" fill=\"none\"/>\n",
              "    <path d=\"M18.56 5.44l.94 2.06.94-2.06 2.06-.94-2.06-.94-.94-2.06-.94 2.06-2.06.94zm-11 1L8.5 8.5l.94-2.06 2.06-.94-2.06-.94L8.5 2.5l-.94 2.06-2.06.94zm10 10l.94 2.06.94-2.06 2.06-.94-2.06-.94-.94-2.06-.94 2.06-2.06.94z\"/><path d=\"M17.41 7.96l-1.37-1.37c-.4-.4-.92-.59-1.43-.59-.52 0-1.04.2-1.43.59L10.3 9.45l-7.72 7.72c-.78.78-.78 2.05 0 2.83L4 21.41c.39.39.9.59 1.41.59.51 0 1.02-.2 1.41-.59l7.78-7.78 2.81-2.81c.8-.78.8-2.07 0-2.86zM5.41 20L4 18.59l7.72-7.72 1.47 1.35L5.41 20z\"/>\n",
              "  </svg>\n",
              "      </button>\n",
              "      \n",
              "  <style>\n",
              "    .colab-df-container {\n",
              "      display:flex;\n",
              "      flex-wrap:wrap;\n",
              "      gap: 12px;\n",
              "    }\n",
              "\n",
              "    .colab-df-convert {\n",
              "      background-color: #E8F0FE;\n",
              "      border: none;\n",
              "      border-radius: 50%;\n",
              "      cursor: pointer;\n",
              "      display: none;\n",
              "      fill: #1967D2;\n",
              "      height: 32px;\n",
              "      padding: 0 0 0 0;\n",
              "      width: 32px;\n",
              "    }\n",
              "\n",
              "    .colab-df-convert:hover {\n",
              "      background-color: #E2EBFA;\n",
              "      box-shadow: 0px 1px 2px rgba(60, 64, 67, 0.3), 0px 1px 3px 1px rgba(60, 64, 67, 0.15);\n",
              "      fill: #174EA6;\n",
              "    }\n",
              "\n",
              "    [theme=dark] .colab-df-convert {\n",
              "      background-color: #3B4455;\n",
              "      fill: #D2E3FC;\n",
              "    }\n",
              "\n",
              "    [theme=dark] .colab-df-convert:hover {\n",
              "      background-color: #434B5C;\n",
              "      box-shadow: 0px 1px 3px 1px rgba(0, 0, 0, 0.15);\n",
              "      filter: drop-shadow(0px 1px 2px rgba(0, 0, 0, 0.3));\n",
              "      fill: #FFFFFF;\n",
              "    }\n",
              "  </style>\n",
              "\n",
              "      <script>\n",
              "        const buttonEl =\n",
              "          document.querySelector('#df-4bc039d8-87e8-481f-84b8-11e9342c1959 button.colab-df-convert');\n",
              "        buttonEl.style.display =\n",
              "          google.colab.kernel.accessAllowed ? 'block' : 'none';\n",
              "\n",
              "        async function convertToInteractive(key) {\n",
              "          const element = document.querySelector('#df-4bc039d8-87e8-481f-84b8-11e9342c1959');\n",
              "          const dataTable =\n",
              "            await google.colab.kernel.invokeFunction('convertToInteractive',\n",
              "                                                     [key], {});\n",
              "          if (!dataTable) return;\n",
              "\n",
              "          const docLinkHtml = 'Like what you see? Visit the ' +\n",
              "            '<a target=\"_blank\" href=https://colab.research.google.com/notebooks/data_table.ipynb>data table notebook</a>'\n",
              "            + ' to learn more about interactive tables.';\n",
              "          element.innerHTML = '';\n",
              "          dataTable['output_type'] = 'display_data';\n",
              "          await google.colab.output.renderOutput(dataTable, element);\n",
              "          const docLink = document.createElement('div');\n",
              "          docLink.innerHTML = docLinkHtml;\n",
              "          element.appendChild(docLink);\n",
              "        }\n",
              "      </script>\n",
              "    </div>\n",
              "  </div>\n",
              "  "
            ]
          },
          "metadata": {},
          "execution_count": 4
        }
      ],
      "source": [
        "pd.DataFrame(df.head(10))"
      ]
    },
    {
      "cell_type": "markdown",
      "metadata": {
        "id": "5NKbUY25ioNv"
      },
      "source": [
        "## Data Description"
      ]
    },
    {
      "cell_type": "markdown",
      "metadata": {
        "id": "O9qjob4nioNw"
      },
      "source": [
        ""
      ]
    },
    {
      "cell_type": "markdown",
      "metadata": {
        "id": "da5o8JZ9ioNw"
      },
      "source": [
        "# Data Understanding"
      ]
    },
    {
      "cell_type": "code",
      "execution_count": 5,
      "metadata": {
        "colab": {
          "base_uri": "https://localhost:8080/"
        },
        "id": "sjpJmtYFioNw",
        "outputId": "487406ed-2812-4ef2-be7d-19e0cfbc4dfd"
      },
      "outputs": [
        {
          "output_type": "stream",
          "name": "stdout",
          "text": [
            "<class 'pandas.core.frame.DataFrame'>\n",
            "RangeIndex: 1338 entries, 0 to 1337\n",
            "Data columns (total 7 columns):\n",
            " #   Column    Non-Null Count  Dtype  \n",
            "---  ------    --------------  -----  \n",
            " 0   age       1338 non-null   int64  \n",
            " 1   sex       1338 non-null   object \n",
            " 2   bmi       1338 non-null   float64\n",
            " 3   children  1338 non-null   int64  \n",
            " 4   smoker    1338 non-null   object \n",
            " 5   region    1338 non-null   object \n",
            " 6   charges   1338 non-null   float64\n",
            "dtypes: float64(2), int64(2), object(3)\n",
            "memory usage: 73.3+ KB\n",
            "None\n",
            "\u001b[1m\u001b[31m-------------------------------------------------------------------------------\u001b[0m\n",
            "\u001b[1mMissing Values for Catuogirical Dataset:\n",
            "\u001b[0m          Missing_Number  Missing_Percent\n",
            "age                    0            0.000\n",
            "sex                    0            0.000\n",
            "bmi                    0            0.000\n",
            "children               0            0.000\n",
            "smoker                 0            0.000\n",
            "region                 0            0.000\n",
            "charges                0            0.000\n",
            "\u001b[1m\u001b[31m-------------------------------------------------------------------------------\u001b[0m\n"
          ]
        }
      ],
      "source": [
        "print(df.info(), '\\n', \n",
        "            colored('-'*79, 'red', attrs=['bold']), sep='')\n",
        "missing_values_info(df)"
      ]
    },
    {
      "cell_type": "code",
      "execution_count": 6,
      "metadata": {
        "id": "Qz6hNC-3ioNx"
      },
      "outputs": [],
      "source": [
        "NUMcols = df.select_dtypes(np.number).columns\n",
        "Objcols = df.select_dtypes(include = ['object']).columns"
      ]
    },
    {
      "cell_type": "code",
      "execution_count": 7,
      "metadata": {
        "colab": {
          "base_uri": "https://localhost:8080/"
        },
        "id": "OAnFG974ioNx",
        "outputId": "e05eacd6-0b42-4f7b-d257-8d31eaf6b1d0"
      },
      "outputs": [
        {
          "output_type": "stream",
          "name": "stdout",
          "text": [
            "+----------+---------+-------------+-------------+---------+-----------+---------+------------+----------+\n",
            "|          |   count |        mean |         std |     min |       25% |     50% |        75% |      max |\n",
            "|----------+---------+-------------+-------------+---------+-----------+---------+------------+----------|\n",
            "| age      |    1338 |    39.207   |    14.05    |   18    |   27      |   39    |    51      |    64    |\n",
            "| bmi      |    1338 |    30.6634  |     6.09819 |   15.96 |   26.2963 |   30.4  |    34.6938 |    53.13 |\n",
            "| children |    1338 |     1.09492 |     1.20549 |    0    |    0      |    1    |     2      |     5    |\n",
            "| charges  |    1338 | 13270.4     | 12110       | 1121.87 | 4740.29   | 9382.03 | 16639.9    | 63770.4  |\n",
            "+----------+---------+-------------+-------------+---------+-----------+---------+------------+----------+\n"
          ]
        }
      ],
      "source": [
        "if len(NUMcols) != 0 :\n",
        "    su_stat = pd.DataFrame(df.describe().T)\n",
        "    print(tabulate(su_stat, headers = 'keys', tablefmt = 'psql'))"
      ]
    },
    {
      "cell_type": "code",
      "execution_count": 8,
      "metadata": {
        "colab": {
          "base_uri": "https://localhost:8080/"
        },
        "id": "TJSsLj9QioNy",
        "outputId": "90da517d-2011-486d-b288-301e06abb218"
      },
      "outputs": [
        {
          "output_type": "stream",
          "name": "stdout",
          "text": [
            "+--------+---------+----------+-----------+--------+\n",
            "|        |   count |   unique | top       |   freq |\n",
            "|--------+---------+----------+-----------+--------|\n",
            "| sex    |    1338 |        2 | male      |    676 |\n",
            "| smoker |    1338 |        2 | no        |   1064 |\n",
            "| region |    1338 |        4 | southeast |    364 |\n",
            "+--------+---------+----------+-----------+--------+\n"
          ]
        }
      ],
      "source": [
        "if len(Objcols) != 0 :\n",
        "    su_stat = pd.DataFrame(df.describe(include=object).T)\n",
        "    print(tabulate(su_stat, headers = 'keys', tablefmt = 'psql'))"
      ]
    },
    {
      "cell_type": "code",
      "execution_count": 9,
      "metadata": {
        "colab": {
          "base_uri": "https://localhost:8080/",
          "height": 0
        },
        "id": "opz5B741ioNy",
        "outputId": "d6ccbd20-5d5a-4811-d540-4b72a88cbbc7"
      },
      "outputs": [
        {
          "output_type": "execute_result",
          "data": {
            "text/plain": [
              "                     0\n",
              "age            197.401\n",
              "bmi             37.188\n",
              "children         1.453\n",
              "charges  146652372.153"
            ],
            "text/html": [
              "\n",
              "  <div id=\"df-39e01e86-1f17-442e-8283-f1cf5efe4754\">\n",
              "    <div class=\"colab-df-container\">\n",
              "      <div>\n",
              "<style scoped>\n",
              "    .dataframe tbody tr th:only-of-type {\n",
              "        vertical-align: middle;\n",
              "    }\n",
              "\n",
              "    .dataframe tbody tr th {\n",
              "        vertical-align: top;\n",
              "    }\n",
              "\n",
              "    .dataframe thead th {\n",
              "        text-align: right;\n",
              "    }\n",
              "</style>\n",
              "<table border=\"1\" class=\"dataframe\">\n",
              "  <thead>\n",
              "    <tr style=\"text-align: right;\">\n",
              "      <th></th>\n",
              "      <th>0</th>\n",
              "    </tr>\n",
              "  </thead>\n",
              "  <tbody>\n",
              "    <tr>\n",
              "      <th>age</th>\n",
              "      <td>197.401</td>\n",
              "    </tr>\n",
              "    <tr>\n",
              "      <th>bmi</th>\n",
              "      <td>37.188</td>\n",
              "    </tr>\n",
              "    <tr>\n",
              "      <th>children</th>\n",
              "      <td>1.453</td>\n",
              "    </tr>\n",
              "    <tr>\n",
              "      <th>charges</th>\n",
              "      <td>146652372.153</td>\n",
              "    </tr>\n",
              "  </tbody>\n",
              "</table>\n",
              "</div>\n",
              "      <button class=\"colab-df-convert\" onclick=\"convertToInteractive('df-39e01e86-1f17-442e-8283-f1cf5efe4754')\"\n",
              "              title=\"Convert this dataframe to an interactive table.\"\n",
              "              style=\"display:none;\">\n",
              "        \n",
              "  <svg xmlns=\"http://www.w3.org/2000/svg\" height=\"24px\"viewBox=\"0 0 24 24\"\n",
              "       width=\"24px\">\n",
              "    <path d=\"M0 0h24v24H0V0z\" fill=\"none\"/>\n",
              "    <path d=\"M18.56 5.44l.94 2.06.94-2.06 2.06-.94-2.06-.94-.94-2.06-.94 2.06-2.06.94zm-11 1L8.5 8.5l.94-2.06 2.06-.94-2.06-.94L8.5 2.5l-.94 2.06-2.06.94zm10 10l.94 2.06.94-2.06 2.06-.94-2.06-.94-.94-2.06-.94 2.06-2.06.94z\"/><path d=\"M17.41 7.96l-1.37-1.37c-.4-.4-.92-.59-1.43-.59-.52 0-1.04.2-1.43.59L10.3 9.45l-7.72 7.72c-.78.78-.78 2.05 0 2.83L4 21.41c.39.39.9.59 1.41.59.51 0 1.02-.2 1.41-.59l7.78-7.78 2.81-2.81c.8-.78.8-2.07 0-2.86zM5.41 20L4 18.59l7.72-7.72 1.47 1.35L5.41 20z\"/>\n",
              "  </svg>\n",
              "      </button>\n",
              "      \n",
              "  <style>\n",
              "    .colab-df-container {\n",
              "      display:flex;\n",
              "      flex-wrap:wrap;\n",
              "      gap: 12px;\n",
              "    }\n",
              "\n",
              "    .colab-df-convert {\n",
              "      background-color: #E8F0FE;\n",
              "      border: none;\n",
              "      border-radius: 50%;\n",
              "      cursor: pointer;\n",
              "      display: none;\n",
              "      fill: #1967D2;\n",
              "      height: 32px;\n",
              "      padding: 0 0 0 0;\n",
              "      width: 32px;\n",
              "    }\n",
              "\n",
              "    .colab-df-convert:hover {\n",
              "      background-color: #E2EBFA;\n",
              "      box-shadow: 0px 1px 2px rgba(60, 64, 67, 0.3), 0px 1px 3px 1px rgba(60, 64, 67, 0.15);\n",
              "      fill: #174EA6;\n",
              "    }\n",
              "\n",
              "    [theme=dark] .colab-df-convert {\n",
              "      background-color: #3B4455;\n",
              "      fill: #D2E3FC;\n",
              "    }\n",
              "\n",
              "    [theme=dark] .colab-df-convert:hover {\n",
              "      background-color: #434B5C;\n",
              "      box-shadow: 0px 1px 3px 1px rgba(0, 0, 0, 0.15);\n",
              "      filter: drop-shadow(0px 1px 2px rgba(0, 0, 0, 0.3));\n",
              "      fill: #FFFFFF;\n",
              "    }\n",
              "  </style>\n",
              "\n",
              "      <script>\n",
              "        const buttonEl =\n",
              "          document.querySelector('#df-39e01e86-1f17-442e-8283-f1cf5efe4754 button.colab-df-convert');\n",
              "        buttonEl.style.display =\n",
              "          google.colab.kernel.accessAllowed ? 'block' : 'none';\n",
              "\n",
              "        async function convertToInteractive(key) {\n",
              "          const element = document.querySelector('#df-39e01e86-1f17-442e-8283-f1cf5efe4754');\n",
              "          const dataTable =\n",
              "            await google.colab.kernel.invokeFunction('convertToInteractive',\n",
              "                                                     [key], {});\n",
              "          if (!dataTable) return;\n",
              "\n",
              "          const docLinkHtml = 'Like what you see? Visit the ' +\n",
              "            '<a target=\"_blank\" href=https://colab.research.google.com/notebooks/data_table.ipynb>data table notebook</a>'\n",
              "            + ' to learn more about interactive tables.';\n",
              "          element.innerHTML = '';\n",
              "          dataTable['output_type'] = 'display_data';\n",
              "          await google.colab.output.renderOutput(dataTable, element);\n",
              "          const docLink = document.createElement('div');\n",
              "          docLink.innerHTML = docLinkHtml;\n",
              "          element.appendChild(docLink);\n",
              "        }\n",
              "      </script>\n",
              "    </div>\n",
              "  </div>\n",
              "  "
            ]
          },
          "metadata": {},
          "execution_count": 9
        }
      ],
      "source": [
        "pd.DataFrame(df.var())"
      ]
    },
    {
      "cell_type": "markdown",
      "metadata": {
        "id": "bL-gmyb_ioNz"
      },
      "source": [
        "# Select the Features"
      ]
    },
    {
      "cell_type": "code",
      "execution_count": 10,
      "metadata": {
        "id": "xMJSRiNUioNz"
      },
      "outputs": [],
      "source": [
        "'''\n",
        "                1)        Target Varibale\n",
        "'''\n",
        "target = 'charges'\n",
        "\n",
        "\n",
        "'''\n",
        "                3)        Convert Data Type \n",
        "'''\n",
        "# to convert variable type to str\n",
        "convert_to_str = 'Enable' \n",
        "col_convert_str = [  \n",
        "                    \n",
        "                    'children'\n",
        "                ]\n",
        "\n",
        "'''\n",
        "                7)        Data Transformation\n",
        "'''\n",
        "DT = 'StandardScaler' # 'StandardScaler' , or 'Disable'\n",
        "\n",
        "\n",
        "'''\n",
        "                8)        Featuers Selection And Featuers Engineering\n",
        "'''\n",
        "# Featuers\n",
        "FE = 'LableEncodeing' # 'LableEncodeing' , or 'Disable'\n",
        "FS = 'Forward' # 'Forward'  or 'Disable'\n",
        "\n",
        "'''\n",
        "                10)        Data Splitting\n",
        "'''\n",
        "# Randomly\n",
        "Random = 'Enable'\n",
        "Split_size = 0.15 # Testing Size\n",
        "Randon_state_size = 42\n",
        "'''\n",
        "                11)        Machine Learning Models \n",
        "'''\n",
        "ML_ST = 'Enable'\n",
        "\n",
        "'''  \n",
        "                12)        Machine Learning Optimization \n",
        "'''\n",
        "ML_OP = 'Enable'"
      ]
    },
    {
      "cell_type": "markdown",
      "metadata": {
        "id": "YoN8aPvoioNz"
      },
      "source": [
        "# Data Pre-Processing"
      ]
    },
    {
      "cell_type": "markdown",
      "metadata": {
        "id": "qCRRaG55ioN0"
      },
      "source": [
        "## Split the Dataset"
      ]
    },
    {
      "cell_type": "code",
      "execution_count": 11,
      "metadata": {
        "id": "b2DVSuPqioN0"
      },
      "outputs": [],
      "source": [
        "NUMcols = df.select_dtypes(np.number).columns\n",
        "Objcols = df.select_dtypes(include = ['object']).columns"
      ]
    },
    {
      "cell_type": "markdown",
      "metadata": {
        "id": "y3yoiUDMioN0"
      },
      "source": [
        "# Exploratory Data Analysis (EDA)"
      ]
    },
    {
      "cell_type": "code",
      "execution_count": 12,
      "metadata": {
        "id": "RmVXXkpIioN0"
      },
      "outputs": [],
      "source": [
        "NUMcols = df.select_dtypes(np.number).columns\n",
        "NUMcols = NUMcols.drop(target)\n",
        "\n",
        "Objcols = df.select_dtypes(include = ['object']).columns"
      ]
    },
    {
      "cell_type": "markdown",
      "metadata": {
        "id": "-LCqcj7oioN1"
      },
      "source": [
        "## Dependent Variables"
      ]
    },
    {
      "cell_type": "code",
      "execution_count": 13,
      "metadata": {
        "colab": {
          "base_uri": "https://localhost:8080/",
          "height": 0
        },
        "id": "7-f7Bt8XioN1",
        "outputId": "fd5090d7-aa1c-4596-fe29-98f2fd2eb517"
      },
      "outputs": [
        {
          "output_type": "display_data",
          "data": {
            "application/vnd.plotly.v1+json": {
              "data": [
                {
                  "alignmentgroup": "True",
                  "bingroup": "x",
                  "hovertemplate": "charges=%{x}<br>count=%{y}<extra></extra>",
                  "legendgroup": "",
                  "marker": {
                    "color": "#636efa",
                    "pattern": {
                      "shape": ""
                    }
                  },
                  "name": "",
                  "offsetgroup": "",
                  "orientation": "v",
                  "showlegend": false,
                  "x": [
                    16884.924,
                    1725.5523,
                    4449.462,
                    21984.47061,
                    3866.8552,
                    3756.6216,
                    8240.5896,
                    7281.5056,
                    6406.4107,
                    28923.13692,
                    2721.3208,
                    27808.7251,
                    1826.843,
                    11090.7178,
                    39611.7577,
                    1837.237,
                    10797.3362,
                    2395.17155,
                    10602.385,
                    36837.467,
                    13228.84695,
                    4149.736,
                    1137.011,
                    37701.8768,
                    6203.90175,
                    14001.1338,
                    14451.83515,
                    12268.63225,
                    2775.19215,
                    38711,
                    35585.576,
                    2198.18985,
                    4687.797,
                    13770.0979,
                    51194.55914,
                    1625.43375,
                    15612.19335,
                    2302.3,
                    39774.2763,
                    48173.361,
                    3046.062,
                    4949.7587,
                    6272.4772,
                    6313.759,
                    6079.6715,
                    20630.28351,
                    3393.35635,
                    3556.9223,
                    12629.8967,
                    38709.176,
                    2211.13075,
                    3579.8287,
                    23568.272,
                    37742.5757,
                    8059.6791,
                    47496.49445,
                    13607.36875,
                    34303.1672,
                    23244.7902,
                    5989.52365,
                    8606.2174,
                    4504.6624,
                    30166.61817,
                    4133.64165,
                    14711.7438,
                    1743.214,
                    14235.072,
                    6389.37785,
                    5920.1041,
                    17663.1442,
                    16577.7795,
                    6799.458,
                    11741.726,
                    11946.6259,
                    7726.854,
                    11356.6609,
                    3947.4131,
                    1532.4697,
                    2755.02095,
                    6571.02435,
                    4441.21315,
                    7935.29115,
                    37165.1638,
                    11033.6617,
                    39836.519,
                    21098.55405,
                    43578.9394,
                    11073.176,
                    8026.6666,
                    11082.5772,
                    2026.9741,
                    10942.13205,
                    30184.9367,
                    5729.0053,
                    47291.055,
                    3766.8838,
                    12105.32,
                    10226.2842,
                    22412.6485,
                    15820.699,
                    6186.127,
                    3645.0894,
                    21344.8467,
                    30942.1918,
                    5003.853,
                    17560.37975,
                    2331.519,
                    3877.30425,
                    2867.1196,
                    47055.5321,
                    10825.2537,
                    11881.358,
                    4646.759,
                    2404.7338,
                    11488.31695,
                    30259.99556,
                    11381.3254,
                    19107.7796,
                    8601.3293,
                    6686.4313,
                    7740.337,
                    1705.6245,
                    2257.47525,
                    39556.4945,
                    10115.00885,
                    3385.39915,
                    17081.08,
                    9634.538,
                    32734.1863,
                    6082.405,
                    12815.44495,
                    13616.3586,
                    11163.568,
                    1632.56445,
                    2457.21115,
                    2155.6815,
                    1261.442,
                    2045.68525,
                    27322.73386,
                    2166.732,
                    27375.90478,
                    3490.5491,
                    18972.495,
                    18157.876,
                    20745.9891,
                    5138.2567,
                    40720.55105,
                    9877.6077,
                    10959.6947,
                    1842.519,
                    5125.2157,
                    7789.635,
                    6334.34355,
                    19964.7463,
                    7077.1894,
                    6948.7008,
                    21223.6758,
                    15518.18025,
                    36950.2567,
                    19749.38338,
                    21348.706,
                    36149.4835,
                    10450.552,
                    5152.134,
                    5028.1466,
                    10407.08585,
                    4830.63,
                    6128.79745,
                    2719.27975,
                    4827.90495,
                    13405.3903,
                    8116.68,
                    1694.7964,
                    5246.047,
                    2855.43755,
                    48824.45,
                    6455.86265,
                    10436.096,
                    8823.279,
                    8538.28845,
                    11735.87905,
                    1631.8212,
                    4005.4225,
                    7419.4779,
                    7731.4271,
                    43753.33705,
                    3981.9768,
                    5325.651,
                    6775.961,
                    4922.9159,
                    12557.6053,
                    4883.866,
                    2137.6536,
                    12044.342,
                    1137.4697,
                    1639.5631,
                    5649.715,
                    8516.829,
                    9644.2525,
                    14901.5167,
                    2130.6759,
                    8871.1517,
                    13012.20865,
                    37133.8982,
                    7147.105,
                    4337.7352,
                    11743.299,
                    20984.0936,
                    13880.949,
                    6610.1097,
                    1980.07,
                    8162.71625,
                    3537.703,
                    5002.7827,
                    8520.026,
                    7371.772,
                    10355.641,
                    2483.736,
                    3392.9768,
                    25081.76784,
                    5012.471,
                    10564.8845,
                    5253.524,
                    34779.615,
                    19515.5416,
                    11987.1682,
                    2689.4954,
                    24227.33724,
                    7358.17565,
                    9225.2564,
                    7443.64305,
                    14001.2867,
                    1727.785,
                    12333.828,
                    6710.1919,
                    19444.2658,
                    1615.7667,
                    4463.2051,
                    17352.6803,
                    7152.6714,
                    38511.6283,
                    5354.07465,
                    35160.13457,
                    7196.867,
                    29523.1656,
                    24476.47851,
                    12648.7034,
                    1986.9334,
                    1832.094,
                    4040.55825,
                    12829.4551,
                    47305.305,
                    44260.7499,
                    4260.744,
                    41097.16175,
                    13047.33235,
                    43921.1837,
                    5400.9805,
                    11520.09985,
                    33750.2918,
                    11837.16,
                    17085.2676,
                    24869.8368,
                    36219.40545,
                    20462.99766,
                    46151.1245,
                    17179.522,
                    14590.63205,
                    7441.053,
                    9282.4806,
                    1719.4363,
                    42856.838,
                    7265.7025,
                    9617.66245,
                    2523.1695,
                    9715.841,
                    2803.69785,
                    2150.469,
                    12928.7911,
                    9855.1314,
                    22331.5668,
                    48549.17835,
                    4237.12655,
                    11879.10405,
                    9625.92,
                    7742.1098,
                    9432.9253,
                    14256.1928,
                    47896.79135,
                    25992.82104,
                    3172.018,
                    20277.80751,
                    42112.2356,
                    2156.7518,
                    3906.127,
                    1704.5681,
                    16297.846,
                    21978.6769,
                    38746.3551,
                    9249.4952,
                    6746.7425,
                    24873.3849,
                    12265.5069,
                    4349.462,
                    12646.207,
                    19442.3535,
                    20177.67113,
                    4151.0287,
                    11944.59435,
                    7749.1564,
                    8444.474,
                    1737.376,
                    42124.5153,
                    8124.4084,
                    34838.873,
                    9722.7695,
                    8835.26495,
                    10435.06525,
                    7421.19455,
                    4667.60765,
                    4894.7533,
                    24671.66334,
                    35491.64,
                    11566.30055,
                    2866.091,
                    6600.20595,
                    3561.8889,
                    42760.5022,
                    47928.03,
                    9144.565,
                    48517.56315,
                    24393.6224,
                    13429.0354,
                    11658.37915,
                    19144.57652,
                    13822.803,
                    12142.5786,
                    13937.6665,
                    41919.097,
                    8232.6388,
                    18955.22017,
                    13352.0998,
                    13217.0945,
                    13981.85035,
                    10977.2063,
                    6184.2994,
                    4889.9995,
                    8334.45755,
                    5478.0368,
                    1635.73365,
                    11830.6072,
                    8932.084,
                    3554.203,
                    12404.8791,
                    14133.03775,
                    24603.04837,
                    8944.1151,
                    9620.3307,
                    1837.2819,
                    1607.5101,
                    10043.249,
                    4751.07,
                    13844.506,
                    2597.779,
                    3180.5101,
                    9778.3472,
                    13430.265,
                    8017.06115,
                    8116.26885,
                    3481.868,
                    13415.0381,
                    12029.2867,
                    7639.41745,
                    36085.219,
                    1391.5287,
                    18033.9679,
                    21659.9301,
                    38126.2465,
                    16455.70785,
                    27000.98473,
                    15006.57945,
                    42303.69215,
                    20781.48892,
                    5846.9176,
                    8302.53565,
                    1261.859,
                    11856.4115,
                    30284.64294,
                    3176.8159,
                    4618.0799,
                    10736.87075,
                    2138.0707,
                    8964.06055,
                    9290.1395,
                    9411.005,
                    7526.70645,
                    8522.003,
                    16586.49771,
                    14988.432,
                    1631.6683,
                    9264.797,
                    8083.9198,
                    14692.66935,
                    10269.46,
                    3260.199,
                    11396.9002,
                    4185.0979,
                    8539.671,
                    6652.5288,
                    4074.4537,
                    1621.3402,
                    19594.80965,
                    14455.64405,
                    5080.096,
                    2134.9015,
                    7345.7266,
                    9140.951,
                    18608.262,
                    14418.2804,
                    28950.4692,
                    46889.2612,
                    46599.1084,
                    39125.33225,
                    2727.3951,
                    8968.33,
                    9788.8659,
                    6555.07035,
                    7323.734819,
                    3167.45585,
                    18804.7524,
                    23082.95533,
                    4906.40965,
                    5969.723,
                    12638.195,
                    4243.59005,
                    13919.8229,
                    2254.7967,
                    5926.846,
                    12592.5345,
                    2897.3235,
                    4738.2682,
                    37079.372,
                    1149.3959,
                    28287.89766,
                    26109.32905,
                    7345.084,
                    12730.9996,
                    11454.0215,
                    5910.944,
                    4762.329,
                    7512.267,
                    4032.2407,
                    1969.614,
                    1769.53165,
                    4686.3887,
                    21797.0004,
                    11881.9696,
                    11840.77505,
                    10601.412,
                    7682.67,
                    10381.4787,
                    22144.032,
                    15230.32405,
                    11165.41765,
                    1632.03625,
                    19521.9682,
                    13224.693,
                    12643.3778,
                    23288.9284,
                    2201.0971,
                    2497.0383,
                    2203.47185,
                    1744.465,
                    20878.78443,
                    25382.297,
                    28868.6639,
                    35147.52848,
                    2534.39375,
                    1534.3045,
                    1824.2854,
                    15555.18875,
                    9304.7019,
                    1622.1885,
                    9880.068,
                    9563.029,
                    4347.02335,
                    12475.3513,
                    1253.936,
                    48885.13561,
                    10461.9794,
                    1748.774,
                    24513.09126,
                    2196.4732,
                    12574.049,
                    17942.106,
                    1967.0227,
                    4931.647,
                    8027.968,
                    8211.1002,
                    13470.86,
                    36197.699,
                    6837.3687,
                    22218.1149,
                    32548.3405,
                    5974.3847,
                    6796.86325,
                    2643.2685,
                    3077.0955,
                    3044.2133,
                    11455.28,
                    11763.0009,
                    2498.4144,
                    9361.3268,
                    1256.299,
                    21082.16,
                    11362.755,
                    27724.28875,
                    8413.46305,
                    5240.765,
                    3857.75925,
                    25656.57526,
                    3994.1778,
                    9866.30485,
                    5397.6167,
                    38245.59327,
                    11482.63485,
                    24059.68019,
                    9861.025,
                    8342.90875,
                    1708.0014,
                    48675.5177,
                    14043.4767,
                    12925.886,
                    19214.70553,
                    13831.1152,
                    6067.12675,
                    5972.378,
                    8825.086,
                    8233.0975,
                    27346.04207,
                    6196.448,
                    3056.3881,
                    13887.204,
                    63770.42801,
                    10231.4999,
                    23807.2406,
                    3268.84665,
                    11538.421,
                    3213.62205,
                    45863.205,
                    13390.559,
                    3972.9247,
                    12957.118,
                    11187.6567,
                    17878.90068,
                    3847.674,
                    8334.5896,
                    3935.1799,
                    39983.42595,
                    1646.4297,
                    9193.8385,
                    10923.9332,
                    2494.022,
                    9058.7303,
                    2801.2588,
                    2128.43105,
                    6373.55735,
                    7256.7231,
                    11552.904,
                    45702.02235,
                    3761.292,
                    2219.4451,
                    4753.6368,
                    31620.00106,
                    13224.05705,
                    12222.8983,
                    1664.9996,
                    58571.07448,
                    9724.53,
                    3206.49135,
                    12913.9924,
                    1639.5631,
                    6356.2707,
                    17626.23951,
                    1242.816,
                    4779.6023,
                    3861.20965,
                    43943.8761,
                    13635.6379,
                    5976.8311,
                    11842.442,
                    8428.0693,
                    2566.4707,
                    15359.1045,
                    5709.1644,
                    8823.98575,
                    7640.3092,
                    5594.8455,
                    7441.501,
                    33471.97189,
                    1633.0444,
                    9174.13565,
                    11070.535,
                    16085.1275,
                    17468.9839,
                    9283.562,
                    3558.62025,
                    25678.77845,
                    4435.0942,
                    39241.442,
                    8547.6913,
                    6571.544,
                    2207.69745,
                    6753.038,
                    1880.07,
                    42969.8527,
                    11658.11505,
                    23306.547,
                    34439.8559,
                    10713.644,
                    3659.346,
                    40182.246,
                    9182.17,
                    34617.84065,
                    12129.61415,
                    3736.4647,
                    6748.5912,
                    11326.71487,
                    11365.952,
                    42983.4585,
                    10085.846,
                    1977.815,
                    3366.6697,
                    7173.35995,
                    9391.346,
                    14410.9321,
                    2709.1119,
                    24915.04626,
                    20149.3229,
                    12949.1554,
                    6666.243,
                    32787.45859,
                    13143.86485,
                    4466.6214,
                    18806.14547,
                    10141.1362,
                    6123.5688,
                    8252.2843,
                    1712.227,
                    12430.95335,
                    9800.8882,
                    10579.711,
                    8280.6227,
                    8527.532,
                    12244.531,
                    24667.419,
                    3410.324,
                    4058.71245,
                    26392.26029,
                    14394.39815,
                    6435.6237,
                    22192.43711,
                    5148.5526,
                    1136.3994,
                    27037.9141,
                    42560.4304,
                    8703.456,
                    40003.33225,
                    45710.20785,
                    6500.2359,
                    4837.5823,
                    3943.5954,
                    4399.731,
                    6185.3208,
                    46200.9851,
                    7222.78625,
                    12485.8009,
                    46130.5265,
                    12363.547,
                    10156.7832,
                    2585.269,
                    1242.26,
                    40103.89,
                    9863.4718,
                    4766.022,
                    11244.3769,
                    7729.64575,
                    5438.7491,
                    26236.57997,
                    34806.4677,
                    2104.1134,
                    8068.185,
                    2362.22905,
                    2352.96845,
                    3577.999,
                    3201.24515,
                    29186.48236,
                    40273.6455,
                    10976.24575,
                    3500.6123,
                    2020.5523,
                    9541.69555,
                    9504.3103,
                    5385.3379,
                    8930.93455,
                    5375.038,
                    44400.4064,
                    10264.4421,
                    6113.23105,
                    5469.0066,
                    1727.54,
                    10107.2206,
                    8310.83915,
                    1984.4533,
                    2457.502,
                    12146.971,
                    9566.9909,
                    13112.6048,
                    10848.1343,
                    12231.6136,
                    9875.6804,
                    11264.541,
                    12979.358,
                    1263.249,
                    10106.13425,
                    40932.4295,
                    6664.68595,
                    16657.71745,
                    2217.6012,
                    6781.3542,
                    19361.9988,
                    10065.413,
                    4234.927,
                    9447.25035,
                    14007.222,
                    9583.8933,
                    40419.0191,
                    3484.331,
                    36189.1017,
                    44585.45587,
                    8604.48365,
                    18246.4955,
                    43254.41795,
                    3757.8448,
                    8827.2099,
                    9910.35985,
                    11737.84884,
                    1627.28245,
                    8556.907,
                    3062.50825,
                    19539.243,
                    1906.35825,
                    14210.53595,
                    11833.7823,
                    17128.42608,
                    5031.26955,
                    7985.815,
                    23065.4207,
                    5428.7277,
                    36307.7983,
                    3925.7582,
                    2416.955,
                    19040.876,
                    3070.8087,
                    9095.06825,
                    11842.62375,
                    8062.764,
                    7050.642,
                    14319.031,
                    6933.24225,
                    27941.28758,
                    11150.78,
                    12797.20962,
                    17748.5062,
                    7261.741,
                    10560.4917,
                    6986.697,
                    7448.40395,
                    5934.3798,
                    9869.8102,
                    18259.216,
                    1146.7966,
                    9386.1613,
                    24520.264,
                    4350.5144,
                    6414.178,
                    12741.16745,
                    1917.3184,
                    5209.57885,
                    13457.9608,
                    5662.225,
                    1252.407,
                    2731.9122,
                    21195.818,
                    7209.4918,
                    18310.742,
                    4266.1658,
                    4719.52405,
                    11848.141,
                    17904.52705,
                    7046.7222,
                    14313.8463,
                    2103.08,
                    38792.6856,
                    1815.8759,
                    7731.85785,
                    28476.73499,
                    2136.88225,
                    1131.5066,
                    3309.7926,
                    9414.92,
                    6360.9936,
                    11013.7119,
                    4428.88785,
                    5584.3057,
                    1877.9294,
                    2842.76075,
                    3597.596,
                    23401.30575,
                    55135.40209,
                    7445.918,
                    2680.9493,
                    1621.8827,
                    8219.2039,
                    12523.6048,
                    16069.08475,
                    43813.8661,
                    20773.62775,
                    39597.4072,
                    6117.4945,
                    13393.756,
                    5266.3656,
                    4719.73655,
                    11743.9341,
                    5377.4578,
                    7160.3303,
                    4402.233,
                    11657.7189,
                    6402.29135,
                    12622.1795,
                    1526.312,
                    12323.936,
                    36021.0112,
                    27533.9129,
                    10072.05505,
                    45008.9555,
                    9872.701,
                    2438.0552,
                    2974.126,
                    10601.63225,
                    37270.1512,
                    14119.62,
                    42111.6647,
                    11729.6795,
                    24106.91255,
                    1875.344,
                    40974.1649,
                    15817.9857,
                    18218.16139,
                    10965.446,
                    46113.511,
                    7151.092,
                    12269.68865,
                    5458.04645,
                    8782.469,
                    6600.361,
                    1141.4451,
                    11576.13,
                    13129.60345,
                    4391.652,
                    8457.818,
                    3392.3652,
                    5966.8874,
                    6849.026,
                    8891.1395,
                    2690.1138,
                    26140.3603,
                    6653.7886,
                    6282.235,
                    6311.952,
                    3443.064,
                    2789.0574,
                    2585.85065,
                    46255.1125,
                    4877.98105,
                    19719.6947,
                    27218.43725,
                    5272.1758,
                    1682.597,
                    11945.1327,
                    29330.98315,
                    7243.8136,
                    10422.91665,
                    44202.6536,
                    13555.0049,
                    13063.883,
                    19798.05455,
                    2221.56445,
                    1634.5734,
                    2117.33885,
                    8688.85885,
                    48673.5588,
                    4661.28635,
                    8125.7845,
                    12644.589,
                    4564.19145,
                    4846.92015,
                    7633.7206,
                    15170.069,
                    17496.306,
                    2639.0429,
                    33732.6867,
                    14382.70905,
                    7626.993,
                    5257.50795,
                    2473.3341,
                    21774.32215,
                    35069.37452,
                    13041.921,
                    5245.2269,
                    13451.122,
                    13462.52,
                    5488.262,
                    4320.41085,
                    6250.435,
                    25333.33284,
                    2913.569,
                    12032.326,
                    13470.8044,
                    6289.7549,
                    2927.0647,
                    6238.298,
                    10096.97,
                    7348.142,
                    4673.3922,
                    12233.828,
                    32108.66282,
                    8965.79575,
                    2304.0022,
                    9487.6442,
                    1121.8739,
                    9549.5651,
                    2217.46915,
                    1628.4709,
                    12982.8747,
                    11674.13,
                    7160.094,
                    39047.285,
                    6358.77645,
                    19933.458,
                    11534.87265,
                    47462.894,
                    4527.18295,
                    38998.546,
                    20009.63365,
                    3875.7341,
                    41999.52,
                    12609.88702,
                    41034.2214,
                    28468.91901,
                    2730.10785,
                    3353.284,
                    14474.675,
                    9500.57305,
                    26467.09737,
                    4746.344,
                    23967.38305,
                    7518.02535,
                    3279.86855,
                    8596.8278,
                    10702.6424,
                    4992.3764,
                    2527.81865,
                    1759.338,
                    2322.6218,
                    16138.76205,
                    7804.1605,
                    2902.9065,
                    9704.66805,
                    4889.0368,
                    25517.11363,
                    4500.33925,
                    19199.944,
                    16796.41194,
                    4915.05985,
                    7624.63,
                    8410.04685,
                    28340.18885,
                    4518.82625,
                    14571.8908,
                    3378.91,
                    7144.86265,
                    10118.424,
                    5484.4673,
                    16420.49455,
                    7986.47525,
                    7418.522,
                    13887.9685,
                    6551.7501,
                    5267.81815,
                    17361.7661,
                    34472.841,
                    1972.95,
                    21232.18226,
                    8627.5411,
                    4433.3877,
                    4438.2634,
                    24915.22085,
                    23241.47453,
                    9957.7216,
                    8269.044,
                    18767.7377,
                    36580.28216,
                    8765.249,
                    5383.536,
                    12124.9924,
                    2709.24395,
                    3987.926,
                    12495.29085,
                    26018.95052,
                    8798.593,
                    35595.5898,
                    42211.1382,
                    1711.0268,
                    8569.8618,
                    2020.177,
                    16450.8947,
                    21595.38229,
                    9850.432,
                    6877.9801,
                    21677.28345,
                    44423.803,
                    4137.5227,
                    13747.87235,
                    12950.0712,
                    12094.478,
                    37484.4493,
                    39725.51805,
                    2250.8352,
                    22493.65964,
                    20234.85475,
                    1704.70015,
                    33475.81715,
                    3161.454,
                    11394.06555,
                    21880.82,
                    7325.0482,
                    44501.3982,
                    3594.17085,
                    39727.614,
                    8023.13545,
                    14394.5579,
                    9288.0267,
                    25309.489,
                    3353.4703,
                    10594.50155,
                    8277.523,
                    17929.30337,
                    2480.9791,
                    4462.7218,
                    1981.5819,
                    11554.2236,
                    48970.2476,
                    6548.19505,
                    5708.867,
                    7045.499,
                    8978.1851,
                    5757.41345,
                    14349.8544,
                    10928.849,
                    39871.7043,
                    13974.45555,
                    1909.52745,
                    12096.6512,
                    13204.28565,
                    4562.8421,
                    8551.347,
                    2102.2647,
                    34672.1472,
                    15161.5344,
                    11884.04858,
                    4454.40265,
                    5855.9025,
                    4076.497,
                    15019.76005,
                    19023.26,
                    10796.35025,
                    11353.2276,
                    9748.9106,
                    10577.087,
                    41676.0811,
                    11286.5387,
                    3591.48,
                    33907.548,
                    11299.343,
                    4561.1885,
                    44641.1974,
                    1674.6323,
                    23045.56616,
                    3227.1211,
                    16776.30405,
                    11253.421,
                    3471.4096,
                    11363.2832,
                    20420.60465,
                    10338.9316,
                    8988.15875,
                    10493.9458,
                    2904.088,
                    8605.3615,
                    11512.405,
                    41949.2441,
                    24180.9335,
                    5312.16985,
                    2396.0959,
                    10807.4863,
                    9222.4026,
                    36124.5737,
                    38282.7495,
                    5693.4305,
                    34166.273,
                    8347.1643,
                    46661.4424,
                    18903.49141,
                    40904.1995,
                    14254.6082,
                    10214.636,
                    5836.5204,
                    14358.36437,
                    1728.897,
                    8582.3023,
                    3693.428,
                    20709.02034,
                    9991.03765,
                    19673.33573,
                    11085.5868,
                    7623.518,
                    3176.2877,
                    3704.3545,
                    36898.73308,
                    9048.0273,
                    7954.517,
                    27117.99378,
                    6338.0756,
                    9630.397,
                    11289.10925,
                    52590.82939,
                    2261.5688,
                    10791.96,
                    5979.731,
                    2203.73595,
                    12235.8392,
                    40941.2854,
                    5630.45785,
                    11015.1747,
                    7228.21565,
                    39722.7462,
                    14426.07385,
                    2459.7201,
                    3989.841,
                    7727.2532,
                    5124.1887,
                    18963.17192,
                    2200.83085,
                    7153.5539,
                    5227.98875,
                    10982.5013,
                    4529.477,
                    4670.64,
                    6112.35295,
                    17178.6824,
                    22478.6,
                    11093.6229,
                    6457.8434,
                    4433.9159,
                    2154.361,
                    23887.6627,
                    6496.886,
                    2899.48935,
                    19350.3689,
                    7650.77375,
                    2850.68375,
                    2632.992,
                    9447.3824,
                    18328.2381,
                    8603.8234,
                    37465.34375,
                    13844.7972,
                    21771.3423,
                    13126.67745,
                    5327.40025,
                    13725.47184,
                    13019.16105,
                    8671.19125,
                    4134.08245,
                    18838.70366,
                    33307.5508,
                    5699.8375,
                    6393.60345,
                    4934.705,
                    6198.7518,
                    8733.22925,
                    2055.3249,
                    9964.06,
                    18223.4512,
                    5116.5004,
                    36910.60803,
                    38415.474,
                    20296.86345,
                    12347.172,
                    5373.36425,
                    23563.01618,
                    1702.4553,
                    10806.839,
                    3956.07145,
                    12890.05765,
                    5415.6612,
                    4058.1161,
                    41661.602,
                    7537.1639,
                    4718.20355,
                    6593.5083,
                    8442.667,
                    26125.67477,
                    6858.4796,
                    4795.6568,
                    6640.54485,
                    7162.0122,
                    10594.2257,
                    11938.25595,
                    60021.39897,
                    20167.33603,
                    12479.70895,
                    11345.519,
                    8515.7587,
                    2699.56835,
                    14449.8544,
                    12224.35085,
                    6985.50695,
                    3238.4357,
                    47269.854,
                    49577.6624,
                    4296.2712,
                    3171.6149,
                    1135.9407,
                    5615.369,
                    9101.798,
                    6059.173,
                    1633.9618,
                    37607.5277,
                    18648.4217,
                    1241.565,
                    16232.847,
                    15828.82173,
                    4415.1588,
                    6474.013,
                    11436.73815,
                    11305.93455,
                    30063.58055,
                    10197.7722,
                    4544.2348,
                    3277.161,
                    6770.1925,
                    7337.748,
                    10370.91255,
                    26926.5144,
                    10704.47,
                    34254.05335,
                    1880.487,
                    8615.3,
                    3292.52985,
                    3021.80915,
                    14478.33015,
                    4747.0529,
                    17043.3414,
                    10959.33,
                    2741.948,
                    4357.04365,
                    22462.04375,
                    4189.1131,
                    8283.6807,
                    24535.69855,
                    14283.4594,
                    1720.3537,
                    47403.88,
                    8534.6718,
                    3732.6251,
                    5472.449,
                    38344.566,
                    7147.4728,
                    7133.9025,
                    34828.654,
                    1515.3449,
                    9301.89355,
                    11931.12525,
                    1964.78,
                    1708.92575,
                    4340.4409,
                    5261.46945,
                    2710.82855,
                    62592.87309,
                    46718.16325,
                    3208.787,
                    37829.7242,
                    21259.37795,
                    2464.6188,
                    16115.3045,
                    21472.4788,
                    33900.653,
                    6875.961,
                    6940.90985,
                    4571.41305,
                    4536.259,
                    36397.576,
                    18765.87545,
                    11272.33139,
                    1731.677,
                    1163.4627,
                    19496.71917,
                    7201.70085,
                    5425.02335,
                    28101.33305,
                    12981.3457,
                    43896.3763,
                    4239.89265,
                    13143.33665,
                    7050.0213,
                    9377.9047,
                    22395.74424,
                    10325.206,
                    12629.1656,
                    10795.93733,
                    11411.685,
                    10600.5483,
                    2205.9808,
                    1629.8335,
                    2007.945,
                    29141.3603
                  ],
                  "xaxis": "x",
                  "yaxis": "y",
                  "type": "histogram"
                }
              ],
              "layout": {
                "template": {
                  "data": {
                    "bar": [
                      {
                        "error_x": {
                          "color": "#2a3f5f"
                        },
                        "error_y": {
                          "color": "#2a3f5f"
                        },
                        "marker": {
                          "line": {
                            "color": "#E5ECF6",
                            "width": 0.5
                          },
                          "pattern": {
                            "fillmode": "overlay",
                            "size": 10,
                            "solidity": 0.2
                          }
                        },
                        "type": "bar"
                      }
                    ],
                    "barpolar": [
                      {
                        "marker": {
                          "line": {
                            "color": "#E5ECF6",
                            "width": 0.5
                          },
                          "pattern": {
                            "fillmode": "overlay",
                            "size": 10,
                            "solidity": 0.2
                          }
                        },
                        "type": "barpolar"
                      }
                    ],
                    "carpet": [
                      {
                        "aaxis": {
                          "endlinecolor": "#2a3f5f",
                          "gridcolor": "white",
                          "linecolor": "white",
                          "minorgridcolor": "white",
                          "startlinecolor": "#2a3f5f"
                        },
                        "baxis": {
                          "endlinecolor": "#2a3f5f",
                          "gridcolor": "white",
                          "linecolor": "white",
                          "minorgridcolor": "white",
                          "startlinecolor": "#2a3f5f"
                        },
                        "type": "carpet"
                      }
                    ],
                    "choropleth": [
                      {
                        "colorbar": {
                          "outlinewidth": 0,
                          "ticks": ""
                        },
                        "type": "choropleth"
                      }
                    ],
                    "contour": [
                      {
                        "colorbar": {
                          "outlinewidth": 0,
                          "ticks": ""
                        },
                        "colorscale": [
                          [
                            0,
                            "#0d0887"
                          ],
                          [
                            0.1111111111111111,
                            "#46039f"
                          ],
                          [
                            0.2222222222222222,
                            "#7201a8"
                          ],
                          [
                            0.3333333333333333,
                            "#9c179e"
                          ],
                          [
                            0.4444444444444444,
                            "#bd3786"
                          ],
                          [
                            0.5555555555555556,
                            "#d8576b"
                          ],
                          [
                            0.6666666666666666,
                            "#ed7953"
                          ],
                          [
                            0.7777777777777778,
                            "#fb9f3a"
                          ],
                          [
                            0.8888888888888888,
                            "#fdca26"
                          ],
                          [
                            1,
                            "#f0f921"
                          ]
                        ],
                        "type": "contour"
                      }
                    ],
                    "contourcarpet": [
                      {
                        "colorbar": {
                          "outlinewidth": 0,
                          "ticks": ""
                        },
                        "type": "contourcarpet"
                      }
                    ],
                    "heatmap": [
                      {
                        "colorbar": {
                          "outlinewidth": 0,
                          "ticks": ""
                        },
                        "colorscale": [
                          [
                            0,
                            "#0d0887"
                          ],
                          [
                            0.1111111111111111,
                            "#46039f"
                          ],
                          [
                            0.2222222222222222,
                            "#7201a8"
                          ],
                          [
                            0.3333333333333333,
                            "#9c179e"
                          ],
                          [
                            0.4444444444444444,
                            "#bd3786"
                          ],
                          [
                            0.5555555555555556,
                            "#d8576b"
                          ],
                          [
                            0.6666666666666666,
                            "#ed7953"
                          ],
                          [
                            0.7777777777777778,
                            "#fb9f3a"
                          ],
                          [
                            0.8888888888888888,
                            "#fdca26"
                          ],
                          [
                            1,
                            "#f0f921"
                          ]
                        ],
                        "type": "heatmap"
                      }
                    ],
                    "heatmapgl": [
                      {
                        "colorbar": {
                          "outlinewidth": 0,
                          "ticks": ""
                        },
                        "colorscale": [
                          [
                            0,
                            "#0d0887"
                          ],
                          [
                            0.1111111111111111,
                            "#46039f"
                          ],
                          [
                            0.2222222222222222,
                            "#7201a8"
                          ],
                          [
                            0.3333333333333333,
                            "#9c179e"
                          ],
                          [
                            0.4444444444444444,
                            "#bd3786"
                          ],
                          [
                            0.5555555555555556,
                            "#d8576b"
                          ],
                          [
                            0.6666666666666666,
                            "#ed7953"
                          ],
                          [
                            0.7777777777777778,
                            "#fb9f3a"
                          ],
                          [
                            0.8888888888888888,
                            "#fdca26"
                          ],
                          [
                            1,
                            "#f0f921"
                          ]
                        ],
                        "type": "heatmapgl"
                      }
                    ],
                    "histogram": [
                      {
                        "marker": {
                          "pattern": {
                            "fillmode": "overlay",
                            "size": 10,
                            "solidity": 0.2
                          }
                        },
                        "type": "histogram"
                      }
                    ],
                    "histogram2d": [
                      {
                        "colorbar": {
                          "outlinewidth": 0,
                          "ticks": ""
                        },
                        "colorscale": [
                          [
                            0,
                            "#0d0887"
                          ],
                          [
                            0.1111111111111111,
                            "#46039f"
                          ],
                          [
                            0.2222222222222222,
                            "#7201a8"
                          ],
                          [
                            0.3333333333333333,
                            "#9c179e"
                          ],
                          [
                            0.4444444444444444,
                            "#bd3786"
                          ],
                          [
                            0.5555555555555556,
                            "#d8576b"
                          ],
                          [
                            0.6666666666666666,
                            "#ed7953"
                          ],
                          [
                            0.7777777777777778,
                            "#fb9f3a"
                          ],
                          [
                            0.8888888888888888,
                            "#fdca26"
                          ],
                          [
                            1,
                            "#f0f921"
                          ]
                        ],
                        "type": "histogram2d"
                      }
                    ],
                    "histogram2dcontour": [
                      {
                        "colorbar": {
                          "outlinewidth": 0,
                          "ticks": ""
                        },
                        "colorscale": [
                          [
                            0,
                            "#0d0887"
                          ],
                          [
                            0.1111111111111111,
                            "#46039f"
                          ],
                          [
                            0.2222222222222222,
                            "#7201a8"
                          ],
                          [
                            0.3333333333333333,
                            "#9c179e"
                          ],
                          [
                            0.4444444444444444,
                            "#bd3786"
                          ],
                          [
                            0.5555555555555556,
                            "#d8576b"
                          ],
                          [
                            0.6666666666666666,
                            "#ed7953"
                          ],
                          [
                            0.7777777777777778,
                            "#fb9f3a"
                          ],
                          [
                            0.8888888888888888,
                            "#fdca26"
                          ],
                          [
                            1,
                            "#f0f921"
                          ]
                        ],
                        "type": "histogram2dcontour"
                      }
                    ],
                    "mesh3d": [
                      {
                        "colorbar": {
                          "outlinewidth": 0,
                          "ticks": ""
                        },
                        "type": "mesh3d"
                      }
                    ],
                    "parcoords": [
                      {
                        "line": {
                          "colorbar": {
                            "outlinewidth": 0,
                            "ticks": ""
                          }
                        },
                        "type": "parcoords"
                      }
                    ],
                    "pie": [
                      {
                        "automargin": true,
                        "type": "pie"
                      }
                    ],
                    "scatter": [
                      {
                        "marker": {
                          "colorbar": {
                            "outlinewidth": 0,
                            "ticks": ""
                          }
                        },
                        "type": "scatter"
                      }
                    ],
                    "scatter3d": [
                      {
                        "line": {
                          "colorbar": {
                            "outlinewidth": 0,
                            "ticks": ""
                          }
                        },
                        "marker": {
                          "colorbar": {
                            "outlinewidth": 0,
                            "ticks": ""
                          }
                        },
                        "type": "scatter3d"
                      }
                    ],
                    "scattercarpet": [
                      {
                        "marker": {
                          "colorbar": {
                            "outlinewidth": 0,
                            "ticks": ""
                          }
                        },
                        "type": "scattercarpet"
                      }
                    ],
                    "scattergeo": [
                      {
                        "marker": {
                          "colorbar": {
                            "outlinewidth": 0,
                            "ticks": ""
                          }
                        },
                        "type": "scattergeo"
                      }
                    ],
                    "scattergl": [
                      {
                        "marker": {
                          "colorbar": {
                            "outlinewidth": 0,
                            "ticks": ""
                          }
                        },
                        "type": "scattergl"
                      }
                    ],
                    "scattermapbox": [
                      {
                        "marker": {
                          "colorbar": {
                            "outlinewidth": 0,
                            "ticks": ""
                          }
                        },
                        "type": "scattermapbox"
                      }
                    ],
                    "scatterpolar": [
                      {
                        "marker": {
                          "colorbar": {
                            "outlinewidth": 0,
                            "ticks": ""
                          }
                        },
                        "type": "scatterpolar"
                      }
                    ],
                    "scatterpolargl": [
                      {
                        "marker": {
                          "colorbar": {
                            "outlinewidth": 0,
                            "ticks": ""
                          }
                        },
                        "type": "scatterpolargl"
                      }
                    ],
                    "scatterternary": [
                      {
                        "marker": {
                          "colorbar": {
                            "outlinewidth": 0,
                            "ticks": ""
                          }
                        },
                        "type": "scatterternary"
                      }
                    ],
                    "surface": [
                      {
                        "colorbar": {
                          "outlinewidth": 0,
                          "ticks": ""
                        },
                        "colorscale": [
                          [
                            0,
                            "#0d0887"
                          ],
                          [
                            0.1111111111111111,
                            "#46039f"
                          ],
                          [
                            0.2222222222222222,
                            "#7201a8"
                          ],
                          [
                            0.3333333333333333,
                            "#9c179e"
                          ],
                          [
                            0.4444444444444444,
                            "#bd3786"
                          ],
                          [
                            0.5555555555555556,
                            "#d8576b"
                          ],
                          [
                            0.6666666666666666,
                            "#ed7953"
                          ],
                          [
                            0.7777777777777778,
                            "#fb9f3a"
                          ],
                          [
                            0.8888888888888888,
                            "#fdca26"
                          ],
                          [
                            1,
                            "#f0f921"
                          ]
                        ],
                        "type": "surface"
                      }
                    ],
                    "table": [
                      {
                        "cells": {
                          "fill": {
                            "color": "#EBF0F8"
                          },
                          "line": {
                            "color": "white"
                          }
                        },
                        "header": {
                          "fill": {
                            "color": "#C8D4E3"
                          },
                          "line": {
                            "color": "white"
                          }
                        },
                        "type": "table"
                      }
                    ]
                  },
                  "layout": {
                    "annotationdefaults": {
                      "arrowcolor": "#2a3f5f",
                      "arrowhead": 0,
                      "arrowwidth": 1
                    },
                    "autotypenumbers": "strict",
                    "coloraxis": {
                      "colorbar": {
                        "outlinewidth": 0,
                        "ticks": ""
                      }
                    },
                    "colorscale": {
                      "diverging": [
                        [
                          0,
                          "#8e0152"
                        ],
                        [
                          0.1,
                          "#c51b7d"
                        ],
                        [
                          0.2,
                          "#de77ae"
                        ],
                        [
                          0.3,
                          "#f1b6da"
                        ],
                        [
                          0.4,
                          "#fde0ef"
                        ],
                        [
                          0.5,
                          "#f7f7f7"
                        ],
                        [
                          0.6,
                          "#e6f5d0"
                        ],
                        [
                          0.7,
                          "#b8e186"
                        ],
                        [
                          0.8,
                          "#7fbc41"
                        ],
                        [
                          0.9,
                          "#4d9221"
                        ],
                        [
                          1,
                          "#276419"
                        ]
                      ],
                      "sequential": [
                        [
                          0,
                          "#0d0887"
                        ],
                        [
                          0.1111111111111111,
                          "#46039f"
                        ],
                        [
                          0.2222222222222222,
                          "#7201a8"
                        ],
                        [
                          0.3333333333333333,
                          "#9c179e"
                        ],
                        [
                          0.4444444444444444,
                          "#bd3786"
                        ],
                        [
                          0.5555555555555556,
                          "#d8576b"
                        ],
                        [
                          0.6666666666666666,
                          "#ed7953"
                        ],
                        [
                          0.7777777777777778,
                          "#fb9f3a"
                        ],
                        [
                          0.8888888888888888,
                          "#fdca26"
                        ],
                        [
                          1,
                          "#f0f921"
                        ]
                      ],
                      "sequentialminus": [
                        [
                          0,
                          "#0d0887"
                        ],
                        [
                          0.1111111111111111,
                          "#46039f"
                        ],
                        [
                          0.2222222222222222,
                          "#7201a8"
                        ],
                        [
                          0.3333333333333333,
                          "#9c179e"
                        ],
                        [
                          0.4444444444444444,
                          "#bd3786"
                        ],
                        [
                          0.5555555555555556,
                          "#d8576b"
                        ],
                        [
                          0.6666666666666666,
                          "#ed7953"
                        ],
                        [
                          0.7777777777777778,
                          "#fb9f3a"
                        ],
                        [
                          0.8888888888888888,
                          "#fdca26"
                        ],
                        [
                          1,
                          "#f0f921"
                        ]
                      ]
                    },
                    "colorway": [
                      "#636efa",
                      "#EF553B",
                      "#00cc96",
                      "#ab63fa",
                      "#FFA15A",
                      "#19d3f3",
                      "#FF6692",
                      "#B6E880",
                      "#FF97FF",
                      "#FECB52"
                    ],
                    "font": {
                      "color": "#2a3f5f"
                    },
                    "geo": {
                      "bgcolor": "white",
                      "lakecolor": "white",
                      "landcolor": "#E5ECF6",
                      "showlakes": true,
                      "showland": true,
                      "subunitcolor": "white"
                    },
                    "hoverlabel": {
                      "align": "left"
                    },
                    "hovermode": "closest",
                    "mapbox": {
                      "style": "light"
                    },
                    "paper_bgcolor": "white",
                    "plot_bgcolor": "#E5ECF6",
                    "polar": {
                      "angularaxis": {
                        "gridcolor": "white",
                        "linecolor": "white",
                        "ticks": ""
                      },
                      "bgcolor": "#E5ECF6",
                      "radialaxis": {
                        "gridcolor": "white",
                        "linecolor": "white",
                        "ticks": ""
                      }
                    },
                    "scene": {
                      "xaxis": {
                        "backgroundcolor": "#E5ECF6",
                        "gridcolor": "white",
                        "gridwidth": 2,
                        "linecolor": "white",
                        "showbackground": true,
                        "ticks": "",
                        "zerolinecolor": "white"
                      },
                      "yaxis": {
                        "backgroundcolor": "#E5ECF6",
                        "gridcolor": "white",
                        "gridwidth": 2,
                        "linecolor": "white",
                        "showbackground": true,
                        "ticks": "",
                        "zerolinecolor": "white"
                      },
                      "zaxis": {
                        "backgroundcolor": "#E5ECF6",
                        "gridcolor": "white",
                        "gridwidth": 2,
                        "linecolor": "white",
                        "showbackground": true,
                        "ticks": "",
                        "zerolinecolor": "white"
                      }
                    },
                    "shapedefaults": {
                      "line": {
                        "color": "#2a3f5f"
                      }
                    },
                    "ternary": {
                      "aaxis": {
                        "gridcolor": "white",
                        "linecolor": "white",
                        "ticks": ""
                      },
                      "baxis": {
                        "gridcolor": "white",
                        "linecolor": "white",
                        "ticks": ""
                      },
                      "bgcolor": "#E5ECF6",
                      "caxis": {
                        "gridcolor": "white",
                        "linecolor": "white",
                        "ticks": ""
                      }
                    },
                    "title": {
                      "x": 0.05
                    },
                    "xaxis": {
                      "automargin": true,
                      "gridcolor": "white",
                      "linecolor": "white",
                      "ticks": "",
                      "title": {
                        "standoff": 15
                      },
                      "zerolinecolor": "white",
                      "zerolinewidth": 2
                    },
                    "yaxis": {
                      "automargin": true,
                      "gridcolor": "white",
                      "linecolor": "white",
                      "ticks": "",
                      "title": {
                        "standoff": 15
                      },
                      "zerolinecolor": "white",
                      "zerolinewidth": 2
                    }
                  }
                },
                "xaxis": {
                  "anchor": "y",
                  "domain": [
                    0,
                    1
                  ],
                  "title": {
                    "text": "charges"
                  }
                },
                "yaxis": {
                  "anchor": "x",
                  "domain": [
                    0,
                    1
                  ],
                  "title": {
                    "text": "count"
                  }
                },
                "legend": {
                  "tracegroupgap": 0
                },
                "margin": {
                  "t": 60
                },
                "barmode": "relative"
              },
              "config": {
                "plotlyServerURL": "https://plot.ly"
              }
            },
            "text/html": [
              "<div>                            <div id=\"c168671d-78ce-4a7a-acbb-107f0c6e99c4\" class=\"plotly-graph-div\" style=\"height:525px; width:100%;\"></div>            <script type=\"text/javascript\">                require([\"plotly\"], function(Plotly) {                    window.PLOTLYENV=window.PLOTLYENV || {};                                    if (document.getElementById(\"c168671d-78ce-4a7a-acbb-107f0c6e99c4\")) {                    Plotly.newPlot(                        \"c168671d-78ce-4a7a-acbb-107f0c6e99c4\",                        [{\"alignmentgroup\":\"True\",\"bingroup\":\"x\",\"hovertemplate\":\"charges=%{x}<br>count=%{y}<extra></extra>\",\"legendgroup\":\"\",\"marker\":{\"color\":\"#636efa\",\"pattern\":{\"shape\":\"\"}},\"name\":\"\",\"offsetgroup\":\"\",\"orientation\":\"v\",\"showlegend\":false,\"x\":[16884.924,1725.5523,4449.462,21984.47061,3866.8552,3756.6216,8240.5896,7281.5056,6406.4107,28923.13692,2721.3208,27808.7251,1826.843,11090.7178,39611.7577,1837.237,10797.3362,2395.17155,10602.385,36837.467,13228.84695,4149.736,1137.011,37701.8768,6203.90175,14001.1338,14451.83515,12268.63225,2775.19215,38711.0,35585.576,2198.18985,4687.797,13770.0979,51194.55914,1625.43375,15612.19335,2302.3,39774.2763,48173.361,3046.062,4949.7587,6272.4772,6313.759,6079.6715,20630.28351,3393.35635,3556.9223,12629.8967,38709.176,2211.13075,3579.8287,23568.272,37742.5757,8059.6791,47496.49445,13607.36875,34303.1672,23244.7902,5989.52365,8606.2174,4504.6624,30166.61817,4133.64165,14711.7438,1743.214,14235.072,6389.37785,5920.1041,17663.1442,16577.7795,6799.458,11741.726,11946.6259,7726.854,11356.6609,3947.4131,1532.4697,2755.02095,6571.02435,4441.21315,7935.29115,37165.1638,11033.6617,39836.519,21098.55405,43578.9394,11073.176,8026.6666,11082.5772,2026.9741,10942.13205,30184.9367,5729.0053,47291.055,3766.8838,12105.32,10226.2842,22412.6485,15820.699,6186.127,3645.0894,21344.8467,30942.1918,5003.853,17560.37975,2331.519,3877.30425,2867.1196,47055.5321,10825.2537,11881.358,4646.759,2404.7338,11488.31695,30259.99556,11381.3254,19107.7796,8601.3293,6686.4313,7740.337,1705.6245,2257.47525,39556.4945,10115.00885,3385.39915,17081.08,9634.538,32734.1863,6082.405,12815.44495,13616.3586,11163.568,1632.56445,2457.21115,2155.6815,1261.442,2045.68525,27322.73386,2166.732,27375.90478,3490.5491,18972.495,18157.876,20745.9891,5138.2567,40720.55105,9877.6077,10959.6947,1842.519,5125.2157,7789.635,6334.34355,19964.7463,7077.1894,6948.7008,21223.6758,15518.18025,36950.2567,19749.38338,21348.706,36149.4835,10450.552,5152.134,5028.1466,10407.08585,4830.63,6128.79745,2719.27975,4827.90495,13405.3903,8116.68,1694.7964,5246.047,2855.43755,48824.45,6455.86265,10436.096,8823.279,8538.28845,11735.87905,1631.8212,4005.4225,7419.4779,7731.4271,43753.33705,3981.9768,5325.651,6775.961,4922.9159,12557.6053,4883.866,2137.6536,12044.342,1137.4697,1639.5631,5649.715,8516.829,9644.2525,14901.5167,2130.6759,8871.1517,13012.20865,37133.8982,7147.105,4337.7352,11743.299,20984.0936,13880.949,6610.1097,1980.07,8162.71625,3537.703,5002.7827,8520.026,7371.772,10355.641,2483.736,3392.9768,25081.76784,5012.471,10564.8845,5253.524,34779.615,19515.5416,11987.1682,2689.4954,24227.33724,7358.17565,9225.2564,7443.64305,14001.2867,1727.785,12333.828,6710.1919,19444.2658,1615.7667,4463.2051,17352.6803,7152.6714,38511.6283,5354.07465,35160.13457,7196.867,29523.1656,24476.47851,12648.7034,1986.9334,1832.094,4040.55825,12829.4551,47305.305,44260.7499,4260.744,41097.16175,13047.33235,43921.1837,5400.9805,11520.09985,33750.2918,11837.16,17085.2676,24869.8368,36219.40545,20462.99766,46151.1245,17179.522,14590.63205,7441.053,9282.4806,1719.4363,42856.838,7265.7025,9617.66245,2523.1695,9715.841,2803.69785,2150.469,12928.7911,9855.1314,22331.5668,48549.17835,4237.12655,11879.10405,9625.92,7742.1098,9432.9253,14256.1928,47896.79135,25992.82104,3172.018,20277.80751,42112.2356,2156.7518,3906.127,1704.5681,16297.846,21978.6769,38746.3551,9249.4952,6746.7425,24873.3849,12265.5069,4349.462,12646.207,19442.3535,20177.67113,4151.0287,11944.59435,7749.1564,8444.474,1737.376,42124.5153,8124.4084,34838.873,9722.7695,8835.26495,10435.06525,7421.19455,4667.60765,4894.7533,24671.66334,35491.64,11566.30055,2866.091,6600.20595,3561.8889,42760.5022,47928.03,9144.565,48517.56315,24393.6224,13429.0354,11658.37915,19144.57652,13822.803,12142.5786,13937.6665,41919.097,8232.6388,18955.22017,13352.0998,13217.0945,13981.85035,10977.2063,6184.2994,4889.9995,8334.45755,5478.0368,1635.73365,11830.6072,8932.084,3554.203,12404.8791,14133.03775,24603.04837,8944.1151,9620.3307,1837.2819,1607.5101,10043.249,4751.07,13844.506,2597.779,3180.5101,9778.3472,13430.265,8017.06115,8116.26885,3481.868,13415.0381,12029.2867,7639.41745,36085.219,1391.5287,18033.9679,21659.9301,38126.2465,16455.70785,27000.98473,15006.57945,42303.69215,20781.48892,5846.9176,8302.53565,1261.859,11856.4115,30284.64294,3176.8159,4618.0799,10736.87075,2138.0707,8964.06055,9290.1395,9411.005,7526.70645,8522.003,16586.49771,14988.432,1631.6683,9264.797,8083.9198,14692.66935,10269.46,3260.199,11396.9002,4185.0979,8539.671,6652.5288,4074.4537,1621.3402,19594.80965,14455.64405,5080.096,2134.9015,7345.7266,9140.951,18608.262,14418.2804,28950.4692,46889.2612,46599.1084,39125.33225,2727.3951,8968.33,9788.8659,6555.07035,7323.734819,3167.45585,18804.7524,23082.95533,4906.40965,5969.723,12638.195,4243.59005,13919.8229,2254.7967,5926.846,12592.5345,2897.3235,4738.2682,37079.372,1149.3959,28287.89766,26109.32905,7345.084,12730.9996,11454.0215,5910.944,4762.329,7512.267,4032.2407,1969.614,1769.53165,4686.3887,21797.0004,11881.9696,11840.77505,10601.412,7682.67,10381.4787,22144.032,15230.32405,11165.41765,1632.03625,19521.9682,13224.693,12643.3778,23288.9284,2201.0971,2497.0383,2203.47185,1744.465,20878.78443,25382.297,28868.6639,35147.52848,2534.39375,1534.3045,1824.2854,15555.18875,9304.7019,1622.1885,9880.068,9563.029,4347.02335,12475.3513,1253.936,48885.13561,10461.9794,1748.774,24513.09126,2196.4732,12574.049,17942.106,1967.0227,4931.647,8027.968,8211.1002,13470.86,36197.699,6837.3687,22218.1149,32548.3405,5974.3847,6796.86325,2643.2685,3077.0955,3044.2133,11455.28,11763.0009,2498.4144,9361.3268,1256.299,21082.16,11362.755,27724.28875,8413.46305,5240.765,3857.75925,25656.57526,3994.1778,9866.30485,5397.6167,38245.59327,11482.63485,24059.68019,9861.025,8342.90875,1708.0014,48675.5177,14043.4767,12925.886,19214.70553,13831.1152,6067.12675,5972.378,8825.086,8233.0975,27346.04207,6196.448,3056.3881,13887.204,63770.42801,10231.4999,23807.2406,3268.84665,11538.421,3213.62205,45863.205,13390.559,3972.9247,12957.118,11187.6567,17878.90068,3847.674,8334.5896,3935.1799,39983.42595,1646.4297,9193.8385,10923.9332,2494.022,9058.7303,2801.2588,2128.43105,6373.55735,7256.7231,11552.904,45702.02235,3761.292,2219.4451,4753.6368,31620.00106,13224.05705,12222.8983,1664.9996,58571.07448,9724.53,3206.49135,12913.9924,1639.5631,6356.2707,17626.23951,1242.816,4779.6023,3861.20965,43943.8761,13635.6379,5976.8311,11842.442,8428.0693,2566.4707,15359.1045,5709.1644,8823.98575,7640.3092,5594.8455,7441.501,33471.97189,1633.0444,9174.13565,11070.535,16085.1275,17468.9839,9283.562,3558.62025,25678.77845,4435.0942,39241.442,8547.6913,6571.544,2207.69745,6753.038,1880.07,42969.8527,11658.11505,23306.547,34439.8559,10713.644,3659.346,40182.246,9182.17,34617.84065,12129.61415,3736.4647,6748.5912,11326.71487,11365.952,42983.4585,10085.846,1977.815,3366.6697,7173.35995,9391.346,14410.9321,2709.1119,24915.04626,20149.3229,12949.1554,6666.243,32787.45859,13143.86485,4466.6214,18806.14547,10141.1362,6123.5688,8252.2843,1712.227,12430.95335,9800.8882,10579.711,8280.6227,8527.532,12244.531,24667.419,3410.324,4058.71245,26392.26029,14394.39815,6435.6237,22192.43711,5148.5526,1136.3994,27037.9141,42560.4304,8703.456,40003.33225,45710.20785,6500.2359,4837.5823,3943.5954,4399.731,6185.3208,46200.9851,7222.78625,12485.8009,46130.5265,12363.547,10156.7832,2585.269,1242.26,40103.89,9863.4718,4766.022,11244.3769,7729.64575,5438.7491,26236.57997,34806.4677,2104.1134,8068.185,2362.22905,2352.96845,3577.999,3201.24515,29186.48236,40273.6455,10976.24575,3500.6123,2020.5523,9541.69555,9504.3103,5385.3379,8930.93455,5375.038,44400.4064,10264.4421,6113.23105,5469.0066,1727.54,10107.2206,8310.83915,1984.4533,2457.502,12146.971,9566.9909,13112.6048,10848.1343,12231.6136,9875.6804,11264.541,12979.358,1263.249,10106.13425,40932.4295,6664.68595,16657.71745,2217.6012,6781.3542,19361.9988,10065.413,4234.927,9447.25035,14007.222,9583.8933,40419.0191,3484.331,36189.1017,44585.45587,8604.48365,18246.4955,43254.41795,3757.8448,8827.2099,9910.35985,11737.84884,1627.28245,8556.907,3062.50825,19539.243,1906.35825,14210.53595,11833.7823,17128.42608,5031.26955,7985.815,23065.4207,5428.7277,36307.7983,3925.7582,2416.955,19040.876,3070.8087,9095.06825,11842.62375,8062.764,7050.642,14319.031,6933.24225,27941.28758,11150.78,12797.20962,17748.5062,7261.741,10560.4917,6986.697,7448.40395,5934.3798,9869.8102,18259.216,1146.7966,9386.1613,24520.264,4350.5144,6414.178,12741.16745,1917.3184,5209.57885,13457.9608,5662.225,1252.407,2731.9122,21195.818,7209.4918,18310.742,4266.1658,4719.52405,11848.141,17904.52705,7046.7222,14313.8463,2103.08,38792.6856,1815.8759,7731.85785,28476.73499,2136.88225,1131.5066,3309.7926,9414.92,6360.9936,11013.7119,4428.88785,5584.3057,1877.9294,2842.76075,3597.596,23401.30575,55135.40209,7445.918,2680.9493,1621.8827,8219.2039,12523.6048,16069.08475,43813.8661,20773.62775,39597.4072,6117.4945,13393.756,5266.3656,4719.73655,11743.9341,5377.4578,7160.3303,4402.233,11657.7189,6402.29135,12622.1795,1526.312,12323.936,36021.0112,27533.9129,10072.05505,45008.9555,9872.701,2438.0552,2974.126,10601.63225,37270.1512,14119.62,42111.6647,11729.6795,24106.91255,1875.344,40974.1649,15817.9857,18218.16139,10965.446,46113.511,7151.092,12269.68865,5458.04645,8782.469,6600.361,1141.4451,11576.13,13129.60345,4391.652,8457.818,3392.3652,5966.8874,6849.026,8891.1395,2690.1138,26140.3603,6653.7886,6282.235,6311.952,3443.064,2789.0574,2585.85065,46255.1125,4877.98105,19719.6947,27218.43725,5272.1758,1682.597,11945.1327,29330.98315,7243.8136,10422.91665,44202.6536,13555.0049,13063.883,19798.05455,2221.56445,1634.5734,2117.33885,8688.85885,48673.5588,4661.28635,8125.7845,12644.589,4564.19145,4846.92015,7633.7206,15170.069,17496.306,2639.0429,33732.6867,14382.70905,7626.993,5257.50795,2473.3341,21774.32215,35069.37452,13041.921,5245.2269,13451.122,13462.52,5488.262,4320.41085,6250.435,25333.33284,2913.569,12032.326,13470.8044,6289.7549,2927.0647,6238.298,10096.97,7348.142,4673.3922,12233.828,32108.66282,8965.79575,2304.0022,9487.6442,1121.8739,9549.5651,2217.46915,1628.4709,12982.8747,11674.13,7160.094,39047.285,6358.77645,19933.458,11534.87265,47462.894,4527.18295,38998.546,20009.63365,3875.7341,41999.52,12609.88702,41034.2214,28468.91901,2730.10785,3353.284,14474.675,9500.57305,26467.09737,4746.344,23967.38305,7518.02535,3279.86855,8596.8278,10702.6424,4992.3764,2527.81865,1759.338,2322.6218,16138.76205,7804.1605,2902.9065,9704.66805,4889.0368,25517.11363,4500.33925,19199.944,16796.41194,4915.05985,7624.63,8410.04685,28340.18885,4518.82625,14571.8908,3378.91,7144.86265,10118.424,5484.4673,16420.49455,7986.47525,7418.522,13887.9685,6551.7501,5267.81815,17361.7661,34472.841,1972.95,21232.18226,8627.5411,4433.3877,4438.2634,24915.22085,23241.47453,9957.7216,8269.044,18767.7377,36580.28216,8765.249,5383.536,12124.9924,2709.24395,3987.926,12495.29085,26018.95052,8798.593,35595.5898,42211.1382,1711.0268,8569.8618,2020.177,16450.8947,21595.38229,9850.432,6877.9801,21677.28345,44423.803,4137.5227,13747.87235,12950.0712,12094.478,37484.4493,39725.51805,2250.8352,22493.65964,20234.85475,1704.70015,33475.81715,3161.454,11394.06555,21880.82,7325.0482,44501.3982,3594.17085,39727.614,8023.13545,14394.5579,9288.0267,25309.489,3353.4703,10594.50155,8277.523,17929.30337,2480.9791,4462.7218,1981.5819,11554.2236,48970.2476,6548.19505,5708.867,7045.499,8978.1851,5757.41345,14349.8544,10928.849,39871.7043,13974.45555,1909.52745,12096.6512,13204.28565,4562.8421,8551.347,2102.2647,34672.1472,15161.5344,11884.04858,4454.40265,5855.9025,4076.497,15019.76005,19023.26,10796.35025,11353.2276,9748.9106,10577.087,41676.0811,11286.5387,3591.48,33907.548,11299.343,4561.1885,44641.1974,1674.6323,23045.56616,3227.1211,16776.30405,11253.421,3471.4096,11363.2832,20420.60465,10338.9316,8988.15875,10493.9458,2904.088,8605.3615,11512.405,41949.2441,24180.9335,5312.16985,2396.0959,10807.4863,9222.4026,36124.5737,38282.7495,5693.4305,34166.273,8347.1643,46661.4424,18903.49141,40904.1995,14254.6082,10214.636,5836.5204,14358.36437,1728.897,8582.3023,3693.428,20709.02034,9991.03765,19673.33573,11085.5868,7623.518,3176.2877,3704.3545,36898.73308,9048.0273,7954.517,27117.99378,6338.0756,9630.397,11289.10925,52590.82939,2261.5688,10791.96,5979.731,2203.73595,12235.8392,40941.2854,5630.45785,11015.1747,7228.21565,39722.7462,14426.07385,2459.7201,3989.841,7727.2532,5124.1887,18963.17192,2200.83085,7153.5539,5227.98875,10982.5013,4529.477,4670.64,6112.35295,17178.6824,22478.6,11093.6229,6457.8434,4433.9159,2154.361,23887.6627,6496.886,2899.48935,19350.3689,7650.77375,2850.68375,2632.992,9447.3824,18328.2381,8603.8234,37465.34375,13844.7972,21771.3423,13126.67745,5327.40025,13725.47184,13019.16105,8671.19125,4134.08245,18838.70366,33307.5508,5699.8375,6393.60345,4934.705,6198.7518,8733.22925,2055.3249,9964.06,18223.4512,5116.5004,36910.60803,38415.474,20296.86345,12347.172,5373.36425,23563.01618,1702.4553,10806.839,3956.07145,12890.05765,5415.6612,4058.1161,41661.602,7537.1639,4718.20355,6593.5083,8442.667,26125.67477,6858.4796,4795.6568,6640.54485,7162.0122,10594.2257,11938.25595,60021.39897,20167.33603,12479.70895,11345.519,8515.7587,2699.56835,14449.8544,12224.35085,6985.50695,3238.4357,47269.854,49577.6624,4296.2712,3171.6149,1135.9407,5615.369,9101.798,6059.173,1633.9618,37607.5277,18648.4217,1241.565,16232.847,15828.82173,4415.1588,6474.013,11436.73815,11305.93455,30063.58055,10197.7722,4544.2348,3277.161,6770.1925,7337.748,10370.91255,26926.5144,10704.47,34254.05335,1880.487,8615.3,3292.52985,3021.80915,14478.33015,4747.0529,17043.3414,10959.33,2741.948,4357.04365,22462.04375,4189.1131,8283.6807,24535.69855,14283.4594,1720.3537,47403.88,8534.6718,3732.6251,5472.449,38344.566,7147.4728,7133.9025,34828.654,1515.3449,9301.89355,11931.12525,1964.78,1708.92575,4340.4409,5261.46945,2710.82855,62592.87309,46718.16325,3208.787,37829.7242,21259.37795,2464.6188,16115.3045,21472.4788,33900.653,6875.961,6940.90985,4571.41305,4536.259,36397.576,18765.87545,11272.33139,1731.677,1163.4627,19496.71917,7201.70085,5425.02335,28101.33305,12981.3457,43896.3763,4239.89265,13143.33665,7050.0213,9377.9047,22395.74424,10325.206,12629.1656,10795.93733,11411.685,10600.5483,2205.9808,1629.8335,2007.945,29141.3603],\"xaxis\":\"x\",\"yaxis\":\"y\",\"type\":\"histogram\"}],                        {\"template\":{\"data\":{\"bar\":[{\"error_x\":{\"color\":\"#2a3f5f\"},\"error_y\":{\"color\":\"#2a3f5f\"},\"marker\":{\"line\":{\"color\":\"#E5ECF6\",\"width\":0.5},\"pattern\":{\"fillmode\":\"overlay\",\"size\":10,\"solidity\":0.2}},\"type\":\"bar\"}],\"barpolar\":[{\"marker\":{\"line\":{\"color\":\"#E5ECF6\",\"width\":0.5},\"pattern\":{\"fillmode\":\"overlay\",\"size\":10,\"solidity\":0.2}},\"type\":\"barpolar\"}],\"carpet\":[{\"aaxis\":{\"endlinecolor\":\"#2a3f5f\",\"gridcolor\":\"white\",\"linecolor\":\"white\",\"minorgridcolor\":\"white\",\"startlinecolor\":\"#2a3f5f\"},\"baxis\":{\"endlinecolor\":\"#2a3f5f\",\"gridcolor\":\"white\",\"linecolor\":\"white\",\"minorgridcolor\":\"white\",\"startlinecolor\":\"#2a3f5f\"},\"type\":\"carpet\"}],\"choropleth\":[{\"colorbar\":{\"outlinewidth\":0,\"ticks\":\"\"},\"type\":\"choropleth\"}],\"contour\":[{\"colorbar\":{\"outlinewidth\":0,\"ticks\":\"\"},\"colorscale\":[[0.0,\"#0d0887\"],[0.1111111111111111,\"#46039f\"],[0.2222222222222222,\"#7201a8\"],[0.3333333333333333,\"#9c179e\"],[0.4444444444444444,\"#bd3786\"],[0.5555555555555556,\"#d8576b\"],[0.6666666666666666,\"#ed7953\"],[0.7777777777777778,\"#fb9f3a\"],[0.8888888888888888,\"#fdca26\"],[1.0,\"#f0f921\"]],\"type\":\"contour\"}],\"contourcarpet\":[{\"colorbar\":{\"outlinewidth\":0,\"ticks\":\"\"},\"type\":\"contourcarpet\"}],\"heatmap\":[{\"colorbar\":{\"outlinewidth\":0,\"ticks\":\"\"},\"colorscale\":[[0.0,\"#0d0887\"],[0.1111111111111111,\"#46039f\"],[0.2222222222222222,\"#7201a8\"],[0.3333333333333333,\"#9c179e\"],[0.4444444444444444,\"#bd3786\"],[0.5555555555555556,\"#d8576b\"],[0.6666666666666666,\"#ed7953\"],[0.7777777777777778,\"#fb9f3a\"],[0.8888888888888888,\"#fdca26\"],[1.0,\"#f0f921\"]],\"type\":\"heatmap\"}],\"heatmapgl\":[{\"colorbar\":{\"outlinewidth\":0,\"ticks\":\"\"},\"colorscale\":[[0.0,\"#0d0887\"],[0.1111111111111111,\"#46039f\"],[0.2222222222222222,\"#7201a8\"],[0.3333333333333333,\"#9c179e\"],[0.4444444444444444,\"#bd3786\"],[0.5555555555555556,\"#d8576b\"],[0.6666666666666666,\"#ed7953\"],[0.7777777777777778,\"#fb9f3a\"],[0.8888888888888888,\"#fdca26\"],[1.0,\"#f0f921\"]],\"type\":\"heatmapgl\"}],\"histogram\":[{\"marker\":{\"pattern\":{\"fillmode\":\"overlay\",\"size\":10,\"solidity\":0.2}},\"type\":\"histogram\"}],\"histogram2d\":[{\"colorbar\":{\"outlinewidth\":0,\"ticks\":\"\"},\"colorscale\":[[0.0,\"#0d0887\"],[0.1111111111111111,\"#46039f\"],[0.2222222222222222,\"#7201a8\"],[0.3333333333333333,\"#9c179e\"],[0.4444444444444444,\"#bd3786\"],[0.5555555555555556,\"#d8576b\"],[0.6666666666666666,\"#ed7953\"],[0.7777777777777778,\"#fb9f3a\"],[0.8888888888888888,\"#fdca26\"],[1.0,\"#f0f921\"]],\"type\":\"histogram2d\"}],\"histogram2dcontour\":[{\"colorbar\":{\"outlinewidth\":0,\"ticks\":\"\"},\"colorscale\":[[0.0,\"#0d0887\"],[0.1111111111111111,\"#46039f\"],[0.2222222222222222,\"#7201a8\"],[0.3333333333333333,\"#9c179e\"],[0.4444444444444444,\"#bd3786\"],[0.5555555555555556,\"#d8576b\"],[0.6666666666666666,\"#ed7953\"],[0.7777777777777778,\"#fb9f3a\"],[0.8888888888888888,\"#fdca26\"],[1.0,\"#f0f921\"]],\"type\":\"histogram2dcontour\"}],\"mesh3d\":[{\"colorbar\":{\"outlinewidth\":0,\"ticks\":\"\"},\"type\":\"mesh3d\"}],\"parcoords\":[{\"line\":{\"colorbar\":{\"outlinewidth\":0,\"ticks\":\"\"}},\"type\":\"parcoords\"}],\"pie\":[{\"automargin\":true,\"type\":\"pie\"}],\"scatter\":[{\"marker\":{\"colorbar\":{\"outlinewidth\":0,\"ticks\":\"\"}},\"type\":\"scatter\"}],\"scatter3d\":[{\"line\":{\"colorbar\":{\"outlinewidth\":0,\"ticks\":\"\"}},\"marker\":{\"colorbar\":{\"outlinewidth\":0,\"ticks\":\"\"}},\"type\":\"scatter3d\"}],\"scattercarpet\":[{\"marker\":{\"colorbar\":{\"outlinewidth\":0,\"ticks\":\"\"}},\"type\":\"scattercarpet\"}],\"scattergeo\":[{\"marker\":{\"colorbar\":{\"outlinewidth\":0,\"ticks\":\"\"}},\"type\":\"scattergeo\"}],\"scattergl\":[{\"marker\":{\"colorbar\":{\"outlinewidth\":0,\"ticks\":\"\"}},\"type\":\"scattergl\"}],\"scattermapbox\":[{\"marker\":{\"colorbar\":{\"outlinewidth\":0,\"ticks\":\"\"}},\"type\":\"scattermapbox\"}],\"scatterpolar\":[{\"marker\":{\"colorbar\":{\"outlinewidth\":0,\"ticks\":\"\"}},\"type\":\"scatterpolar\"}],\"scatterpolargl\":[{\"marker\":{\"colorbar\":{\"outlinewidth\":0,\"ticks\":\"\"}},\"type\":\"scatterpolargl\"}],\"scatterternary\":[{\"marker\":{\"colorbar\":{\"outlinewidth\":0,\"ticks\":\"\"}},\"type\":\"scatterternary\"}],\"surface\":[{\"colorbar\":{\"outlinewidth\":0,\"ticks\":\"\"},\"colorscale\":[[0.0,\"#0d0887\"],[0.1111111111111111,\"#46039f\"],[0.2222222222222222,\"#7201a8\"],[0.3333333333333333,\"#9c179e\"],[0.4444444444444444,\"#bd3786\"],[0.5555555555555556,\"#d8576b\"],[0.6666666666666666,\"#ed7953\"],[0.7777777777777778,\"#fb9f3a\"],[0.8888888888888888,\"#fdca26\"],[1.0,\"#f0f921\"]],\"type\":\"surface\"}],\"table\":[{\"cells\":{\"fill\":{\"color\":\"#EBF0F8\"},\"line\":{\"color\":\"white\"}},\"header\":{\"fill\":{\"color\":\"#C8D4E3\"},\"line\":{\"color\":\"white\"}},\"type\":\"table\"}]},\"layout\":{\"annotationdefaults\":{\"arrowcolor\":\"#2a3f5f\",\"arrowhead\":0,\"arrowwidth\":1},\"autotypenumbers\":\"strict\",\"coloraxis\":{\"colorbar\":{\"outlinewidth\":0,\"ticks\":\"\"}},\"colorscale\":{\"diverging\":[[0,\"#8e0152\"],[0.1,\"#c51b7d\"],[0.2,\"#de77ae\"],[0.3,\"#f1b6da\"],[0.4,\"#fde0ef\"],[0.5,\"#f7f7f7\"],[0.6,\"#e6f5d0\"],[0.7,\"#b8e186\"],[0.8,\"#7fbc41\"],[0.9,\"#4d9221\"],[1,\"#276419\"]],\"sequential\":[[0.0,\"#0d0887\"],[0.1111111111111111,\"#46039f\"],[0.2222222222222222,\"#7201a8\"],[0.3333333333333333,\"#9c179e\"],[0.4444444444444444,\"#bd3786\"],[0.5555555555555556,\"#d8576b\"],[0.6666666666666666,\"#ed7953\"],[0.7777777777777778,\"#fb9f3a\"],[0.8888888888888888,\"#fdca26\"],[1.0,\"#f0f921\"]],\"sequentialminus\":[[0.0,\"#0d0887\"],[0.1111111111111111,\"#46039f\"],[0.2222222222222222,\"#7201a8\"],[0.3333333333333333,\"#9c179e\"],[0.4444444444444444,\"#bd3786\"],[0.5555555555555556,\"#d8576b\"],[0.6666666666666666,\"#ed7953\"],[0.7777777777777778,\"#fb9f3a\"],[0.8888888888888888,\"#fdca26\"],[1.0,\"#f0f921\"]]},\"colorway\":[\"#636efa\",\"#EF553B\",\"#00cc96\",\"#ab63fa\",\"#FFA15A\",\"#19d3f3\",\"#FF6692\",\"#B6E880\",\"#FF97FF\",\"#FECB52\"],\"font\":{\"color\":\"#2a3f5f\"},\"geo\":{\"bgcolor\":\"white\",\"lakecolor\":\"white\",\"landcolor\":\"#E5ECF6\",\"showlakes\":true,\"showland\":true,\"subunitcolor\":\"white\"},\"hoverlabel\":{\"align\":\"left\"},\"hovermode\":\"closest\",\"mapbox\":{\"style\":\"light\"},\"paper_bgcolor\":\"white\",\"plot_bgcolor\":\"#E5ECF6\",\"polar\":{\"angularaxis\":{\"gridcolor\":\"white\",\"linecolor\":\"white\",\"ticks\":\"\"},\"bgcolor\":\"#E5ECF6\",\"radialaxis\":{\"gridcolor\":\"white\",\"linecolor\":\"white\",\"ticks\":\"\"}},\"scene\":{\"xaxis\":{\"backgroundcolor\":\"#E5ECF6\",\"gridcolor\":\"white\",\"gridwidth\":2,\"linecolor\":\"white\",\"showbackground\":true,\"ticks\":\"\",\"zerolinecolor\":\"white\"},\"yaxis\":{\"backgroundcolor\":\"#E5ECF6\",\"gridcolor\":\"white\",\"gridwidth\":2,\"linecolor\":\"white\",\"showbackground\":true,\"ticks\":\"\",\"zerolinecolor\":\"white\"},\"zaxis\":{\"backgroundcolor\":\"#E5ECF6\",\"gridcolor\":\"white\",\"gridwidth\":2,\"linecolor\":\"white\",\"showbackground\":true,\"ticks\":\"\",\"zerolinecolor\":\"white\"}},\"shapedefaults\":{\"line\":{\"color\":\"#2a3f5f\"}},\"ternary\":{\"aaxis\":{\"gridcolor\":\"white\",\"linecolor\":\"white\",\"ticks\":\"\"},\"baxis\":{\"gridcolor\":\"white\",\"linecolor\":\"white\",\"ticks\":\"\"},\"bgcolor\":\"#E5ECF6\",\"caxis\":{\"gridcolor\":\"white\",\"linecolor\":\"white\",\"ticks\":\"\"}},\"title\":{\"x\":0.05},\"xaxis\":{\"automargin\":true,\"gridcolor\":\"white\",\"linecolor\":\"white\",\"ticks\":\"\",\"title\":{\"standoff\":15},\"zerolinecolor\":\"white\",\"zerolinewidth\":2},\"yaxis\":{\"automargin\":true,\"gridcolor\":\"white\",\"linecolor\":\"white\",\"ticks\":\"\",\"title\":{\"standoff\":15},\"zerolinecolor\":\"white\",\"zerolinewidth\":2}}},\"xaxis\":{\"anchor\":\"y\",\"domain\":[0.0,1.0],\"title\":{\"text\":\"charges\"}},\"yaxis\":{\"anchor\":\"x\",\"domain\":[0.0,1.0],\"title\":{\"text\":\"count\"}},\"legend\":{\"tracegroupgap\":0},\"margin\":{\"t\":60},\"barmode\":\"relative\"},                        {\"responsive\": true}                    ).then(function(){\n",
              "                            \n",
              "var gd = document.getElementById('c168671d-78ce-4a7a-acbb-107f0c6e99c4');\n",
              "var x = new MutationObserver(function (mutations, observer) {{\n",
              "        var display = window.getComputedStyle(gd).display;\n",
              "        if (!display || display === 'none') {{\n",
              "            console.log([gd, 'removed!']);\n",
              "            Plotly.purge(gd);\n",
              "            observer.disconnect();\n",
              "        }}\n",
              "}});\n",
              "\n",
              "// Listen for the removal of the full notebook cells\n",
              "var notebookContainer = gd.closest('#notebook-container');\n",
              "if (notebookContainer) {{\n",
              "    x.observe(notebookContainer, {childList: true});\n",
              "}}\n",
              "\n",
              "// Listen for the clearing of the current output cell\n",
              "var outputEl = gd.closest('.output');\n",
              "if (outputEl) {{\n",
              "    x.observe(outputEl, {childList: true});\n",
              "}}\n",
              "\n",
              "                        })                };                });            </script>        </div>"
            ]
          },
          "metadata": {}
        }
      ],
      "source": [
        "EDA_target(df, target)"
      ]
    },
    {
      "cell_type": "code",
      "execution_count": 14,
      "metadata": {
        "colab": {
          "base_uri": "https://localhost:8080/",
          "height": 0
        },
        "id": "55eT-s5WioN1",
        "outputId": "04effdda-51f7-454f-ffef-32d6e2d0aae8"
      },
      "outputs": [
        {
          "output_type": "display_data",
          "data": {
            "text/plain": [
              "<Figure size 2160x1440 with 1 Axes>"
            ],
            "image/png": "[encoded data removed]"
          },
          "metadata": {
            "needs_background": "light"
          }
        }
      ],
      "source": [
        "EDA_target2(df, target)"
      ]
    },
    {
      "cell_type": "markdown",
      "metadata": {
        "id": "ww1PP76MioN2"
      },
      "source": [
        "## Independent Dependent Variables"
      ]
    },
    {
      "cell_type": "markdown",
      "metadata": {
        "id": "DNcELPo7ioN2"
      },
      "source": [
        "### Independent Dependent Variables (Object Variables) "
      ]
    },
    {
      "cell_type": "code",
      "execution_count": 15,
      "metadata": {
        "colab": {
          "base_uri": "https://localhost:8080/",
          "height": 0
        },
        "id": "KbrbyK0fioN2",
        "outputId": "7966210a-3458-4de6-e08d-951421933d86"
      },
      "outputs": [
        {
          "output_type": "stream",
          "name": "stdout",
          "text": [
            "+--------+-------+\n",
            "|        |   sex |\n",
            "|--------+-------|\n",
            "| male   |   676 |\n",
            "| female |   662 |\n",
            "+--------+-------+\n"
          ]
        },
        {
          "output_type": "display_data",
          "data": {
            "text/plain": [
              "<Figure size 2880x1440 with 1 Axes>"
            ],
            "image/png": "[encoded data removed]"
          },
          "metadata": {
            "needs_background": "light"
          }
        },
        {
          "output_type": "stream",
          "name": "stdout",
          "text": [
            "+-----+----------+\n",
            "|     |   smoker |\n",
            "|-----+----------|\n",
            "| no  |     1064 |\n",
            "| yes |      274 |\n",
            "+-----+----------+\n"
          ]
        },
        {
          "output_type": "display_data",
          "data": {
            "text/plain": [
              "<Figure size 2880x1440 with 1 Axes>"
            ],
            "image/png": "[encoded data removed]"
          },
          "metadata": {
            "needs_background": "light"
          }
        },
        {
          "output_type": "stream",
          "name": "stdout",
          "text": [
            "+-----------+----------+\n",
            "|           |   region |\n",
            "|-----------+----------|\n",
            "| southeast |      364 |\n",
            "| southwest |      325 |\n",
            "| northwest |      325 |\n",
            "| northeast |      324 |\n",
            "+-----------+----------+\n"
          ]
        },
        {
          "output_type": "display_data",
          "data": {
            "text/plain": [
              "<Figure size 2880x1440 with 1 Axes>"
            ],
            "image/png": "[encoded data removed]"
          },
          "metadata": {
            "needs_background": "light"
          }
        }
      ],
      "source": [
        "obj_EDA(df, Objcols)"
      ]
    },
    {
      "cell_type": "markdown",
      "metadata": {
        "id": "r_IN3AfgioN2"
      },
      "source": [
        "### Independent Dependent Variables (Numerical)"
      ]
    },
    {
      "cell_type": "code",
      "execution_count": 16,
      "metadata": {
        "colab": {
          "base_uri": "https://localhost:8080/",
          "height": 0
        },
        "id": "bV4v9zrpioN3",
        "outputId": "ceb8d0d5-a445-4da6-e111-d9c4127347e1"
      },
      "outputs": [
        {
          "output_type": "display_data",
          "data": {
            "text/plain": [
              "<Figure size 2160x1440 with 1 Axes>"
            ],
            "image/png": "[encoded data removed]"
          },
          "metadata": {
            "needs_background": "light"
          }
        },
        {
          "output_type": "display_data",
          "data": {
            "text/plain": [
              "<Figure size 2160x1440 with 1 Axes>"
            ],
            "image/png": "[encoded data removed]"
          },
          "metadata": {
            "needs_background": "light"
          }
        },
        {
          "output_type": "display_data",
          "data": {
            "text/plain": [
              "<Figure size 2160x1440 with 1 Axes>"
            ],
            "image/png": "[encoded data removed]"
          },
          "metadata": {
            "needs_background": "light"
          }
        }
      ],
      "source": [
        "EDA_num(df, NUMcols)"
      ]
    },
    {
      "cell_type": "code",
      "execution_count": 17,
      "metadata": {
        "colab": {
          "base_uri": "https://localhost:8080/",
          "height": 0
        },
        "id": "nhBpF21FioN3",
        "outputId": "d7745527-2062-4b28-8ce7-b1ab89bd8f6b"
      },
      "outputs": [
        {
          "output_type": "display_data",
          "data": {
            "text/plain": [
              "<Figure size 2160x1440 with 1 Axes>"
            ],
            "image/png": "[encoded data removed]"
          },
          "metadata": {
            "needs_background": "light"
          }
        },
        {
          "output_type": "display_data",
          "data": {
            "text/plain": [
              "<Figure size 2160x1440 with 1 Axes>"
            ],
            "image/png": "[encoded data removed]"
          },
          "metadata": {
            "needs_background": "light"
          }
        },
        {
          "output_type": "display_data",
          "data": {
            "text/plain": [
              "<Figure size 2160x1440 with 1 Axes>"
            ],
            "image/png": "[encoded data removed]"
          },
          "metadata": {
            "needs_background": "light"
          }
        }
      ],
      "source": [
        "EDA_num_2(df, NUMcols)"
      ]
    },
    {
      "cell_type": "markdown",
      "metadata": {
        "id": "oFXF2sdIioN3"
      },
      "source": [
        "# Data Transformation"
      ]
    },
    {
      "cell_type": "code",
      "execution_count": 18,
      "metadata": {
        "colab": {
          "base_uri": "https://localhost:8080/"
        },
        "id": "oX_v3QfvioN4",
        "outputId": "bd36220d-99e1-4c17-c4fa-b40c95c6080d"
      },
      "outputs": [
        {
          "output_type": "stream",
          "name": "stdout",
          "text": [
            "\n",
            "Standardization Applied On: age\n",
            "\n",
            "Standardization Applied On: bmi\n",
            "\n",
            "Standardization Applied On: children\n",
            "\n",
            "Standardization Applied On: charges\n"
          ]
        }
      ],
      "source": [
        "if DT == 'StandardScaler' : \n",
        "    # StandardScaler\n",
        "    df = NumStandardScaler(df)"
      ]
    },
    {
      "cell_type": "code",
      "execution_count": 19,
      "metadata": {
        "colab": {
          "base_uri": "https://localhost:8080/",
          "height": 0
        },
        "id": "S_8iX8-CioN4",
        "outputId": "23f43396-4a70-48e5-cd9c-70389b18e90f"
      },
      "outputs": [
        {
          "output_type": "execute_result",
          "data": {
            "text/plain": [
              "     age     sex    bmi  children smoker     region  charges\n",
              "0 -1.439  female -0.453    -0.909    yes  southwest    0.299\n",
              "1 -1.510    male  0.510    -0.079     no  southeast   -0.954\n",
              "2 -0.798    male  0.383     1.581     no  southeast   -0.729\n",
              "3 -0.442    male -1.306    -0.909     no  northwest    0.720\n",
              "4 -0.513    male -0.293    -0.909     no  northwest   -0.777"
            ],
            "text/html": [
              "\n",
              "  <div id=\"df-affede56-d107-467d-a775-bcae99eefae7\">\n",
              "    <div class=\"colab-df-container\">\n",
              "      <div>\n",
              "<style scoped>\n",
              "    .dataframe tbody tr th:only-of-type {\n",
              "        vertical-align: middle;\n",
              "    }\n",
              "\n",
              "    .dataframe tbody tr th {\n",
              "        vertical-align: top;\n",
              "    }\n",
              "\n",
              "    .dataframe thead th {\n",
              "        text-align: right;\n",
              "    }\n",
              "</style>\n",
              "<table border=\"1\" class=\"dataframe\">\n",
              "  <thead>\n",
              "    <tr style=\"text-align: right;\">\n",
              "      <th></th>\n",
              "      <th>age</th>\n",
              "      <th>sex</th>\n",
              "      <th>bmi</th>\n",
              "      <th>children</th>\n",
              "      <th>smoker</th>\n",
              "      <th>region</th>\n",
              "      <th>charges</th>\n",
              "    </tr>\n",
              "  </thead>\n",
              "  <tbody>\n",
              "    <tr>\n",
              "      <th>0</th>\n",
              "      <td>-1.439</td>\n",
              "      <td>female</td>\n",
              "      <td>-0.453</td>\n",
              "      <td>-0.909</td>\n",
              "      <td>yes</td>\n",
              "      <td>southwest</td>\n",
              "      <td>0.299</td>\n",
              "    </tr>\n",
              "    <tr>\n",
              "      <th>1</th>\n",
              "      <td>-1.510</td>\n",
              "      <td>male</td>\n",
              "      <td>0.510</td>\n",
              "      <td>-0.079</td>\n",
              "      <td>no</td>\n",
              "      <td>southeast</td>\n",
              "      <td>-0.954</td>\n",
              "    </tr>\n",
              "    <tr>\n",
              "      <th>2</th>\n",
              "      <td>-0.798</td>\n",
              "      <td>male</td>\n",
              "      <td>0.383</td>\n",
              "      <td>1.581</td>\n",
              "      <td>no</td>\n",
              "      <td>southeast</td>\n",
              "      <td>-0.729</td>\n",
              "    </tr>\n",
              "    <tr>\n",
              "      <th>3</th>\n",
              "      <td>-0.442</td>\n",
              "      <td>male</td>\n",
              "      <td>-1.306</td>\n",
              "      <td>-0.909</td>\n",
              "      <td>no</td>\n",
              "      <td>northwest</td>\n",
              "      <td>0.720</td>\n",
              "    </tr>\n",
              "    <tr>\n",
              "      <th>4</th>\n",
              "      <td>-0.513</td>\n",
              "      <td>male</td>\n",
              "      <td>-0.293</td>\n",
              "      <td>-0.909</td>\n",
              "      <td>no</td>\n",
              "      <td>northwest</td>\n",
              "      <td>-0.777</td>\n",
              "    </tr>\n",
              "  </tbody>\n",
              "</table>\n",
              "</div>\n",
              "      <button class=\"colab-df-convert\" onclick=\"convertToInteractive('df-affede56-d107-467d-a775-bcae99eefae7')\"\n",
              "              title=\"Convert this dataframe to an interactive table.\"\n",
              "              style=\"display:none;\">\n",
              "        \n",
              "  <svg xmlns=\"http://www.w3.org/2000/svg\" height=\"24px\"viewBox=\"0 0 24 24\"\n",
              "       width=\"24px\">\n",
              "    <path d=\"M0 0h24v24H0V0z\" fill=\"none\"/>\n",
              "    <path d=\"M18.56 5.44l.94 2.06.94-2.06 2.06-.94-2.06-.94-.94-2.06-.94 2.06-2.06.94zm-11 1L8.5 8.5l.94-2.06 2.06-.94-2.06-.94L8.5 2.5l-.94 2.06-2.06.94zm10 10l.94 2.06.94-2.06 2.06-.94-2.06-.94-.94-2.06-.94 2.06-2.06.94z\"/><path d=\"M17.41 7.96l-1.37-1.37c-.4-.4-.92-.59-1.43-.59-.52 0-1.04.2-1.43.59L10.3 9.45l-7.72 7.72c-.78.78-.78 2.05 0 2.83L4 21.41c.39.39.9.59 1.41.59.51 0 1.02-.2 1.41-.59l7.78-7.78 2.81-2.81c.8-.78.8-2.07 0-2.86zM5.41 20L4 18.59l7.72-7.72 1.47 1.35L5.41 20z\"/>\n",
              "  </svg>\n",
              "      </button>\n",
              "      \n",
              "  <style>\n",
              "    .colab-df-container {\n",
              "      display:flex;\n",
              "      flex-wrap:wrap;\n",
              "      gap: 12px;\n",
              "    }\n",
              "\n",
              "    .colab-df-convert {\n",
              "      background-color: #E8F0FE;\n",
              "      border: none;\n",
              "      border-radius: 50%;\n",
              "      cursor: pointer;\n",
              "      display: none;\n",
              "      fill: #1967D2;\n",
              "      height: 32px;\n",
              "      padding: 0 0 0 0;\n",
              "      width: 32px;\n",
              "    }\n",
              "\n",
              "    .colab-df-convert:hover {\n",
              "      background-color: #E2EBFA;\n",
              "      box-shadow: 0px 1px 2px rgba(60, 64, 67, 0.3), 0px 1px 3px 1px rgba(60, 64, 67, 0.15);\n",
              "      fill: #174EA6;\n",
              "    }\n",
              "\n",
              "    [theme=dark] .colab-df-convert {\n",
              "      background-color: #3B4455;\n",
              "      fill: #D2E3FC;\n",
              "    }\n",
              "\n",
              "    [theme=dark] .colab-df-convert:hover {\n",
              "      background-color: #434B5C;\n",
              "      box-shadow: 0px 1px 3px 1px rgba(0, 0, 0, 0.15);\n",
              "      filter: drop-shadow(0px 1px 2px rgba(0, 0, 0, 0.3));\n",
              "      fill: #FFFFFF;\n",
              "    }\n",
              "  </style>\n",
              "\n",
              "      <script>\n",
              "        const buttonEl =\n",
              "          document.querySelector('#df-affede56-d107-467d-a775-bcae99eefae7 button.colab-df-convert');\n",
              "        buttonEl.style.display =\n",
              "          google.colab.kernel.accessAllowed ? 'block' : 'none';\n",
              "\n",
              "        async function convertToInteractive(key) {\n",
              "          const element = document.querySelector('#df-affede56-d107-467d-a775-bcae99eefae7');\n",
              "          const dataTable =\n",
              "            await google.colab.kernel.invokeFunction('convertToInteractive',\n",
              "                                                     [key], {});\n",
              "          if (!dataTable) return;\n",
              "\n",
              "          const docLinkHtml = 'Like what you see? Visit the ' +\n",
              "            '<a target=\"_blank\" href=https://colab.research.google.com/notebooks/data_table.ipynb>data table notebook</a>'\n",
              "            + ' to learn more about interactive tables.';\n",
              "          element.innerHTML = '';\n",
              "          dataTable['output_type'] = 'display_data';\n",
              "          await google.colab.output.renderOutput(dataTable, element);\n",
              "          const docLink = document.createElement('div');\n",
              "          docLink.innerHTML = docLinkHtml;\n",
              "          element.appendChild(docLink);\n",
              "        }\n",
              "      </script>\n",
              "    </div>\n",
              "  </div>\n",
              "  "
            ]
          },
          "metadata": {},
          "execution_count": 19
        }
      ],
      "source": [
        "pd.DataFrame(df.head())"
      ]
    },
    {
      "cell_type": "markdown",
      "metadata": {
        "id": "4_MT0FsLioN4"
      },
      "source": [
        "# Feature Engineering "
      ]
    },
    {
      "cell_type": "code",
      "execution_count": 20,
      "metadata": {
        "colab": {
          "base_uri": "https://localhost:8080/"
        },
        "id": "hJaRTmDrioN4",
        "outputId": "24cb73ea-880e-4644-a2c7-67b4627fcfae"
      },
      "outputs": [
        {
          "output_type": "stream",
          "name": "stdout",
          "text": [
            "\n",
            "Lable Encoding Applied On: sex\n",
            "New Value for sex  Variable: [0 1]\n",
            "Old Value for sex Variable: ['female' 'male']\n",
            "\n",
            "Lable Encoding Applied On: smoker\n",
            "New Value for smoker  Variable: [0 1]\n",
            "Old Value for smoker Variable: ['no' 'yes']\n",
            "\n",
            "Lable Encoding Applied On: region\n",
            "New Value for region  Variable: [0 1 2 3]\n",
            "Old Value for region Variable: ['northeast' 'northwest' 'southeast' 'southwest']\n"
          ]
        }
      ],
      "source": [
        "if FE == 'LableEncodeing':\n",
        "    df = df.apply(lambda x: AllObjLabelEncoder(x))"
      ]
    },
    {
      "cell_type": "code",
      "execution_count": 21,
      "metadata": {
        "colab": {
          "base_uri": "https://localhost:8080/",
          "height": 0
        },
        "id": "wl_krHISioN5",
        "outputId": "7c5ded49-2c16-42e6-fd92-b95f867a44d5"
      },
      "outputs": [
        {
          "output_type": "execute_result",
          "data": {
            "text/plain": [
              "     age  sex    bmi  children  smoker  region  charges\n",
              "0 -1.439    0 -0.453    -0.909       1       3    0.299\n",
              "1 -1.510    1  0.510    -0.079       0       2   -0.954\n",
              "2 -0.798    1  0.383     1.581       0       2   -0.729\n",
              "3 -0.442    1 -1.306    -0.909       0       1    0.720\n",
              "4 -0.513    1 -0.293    -0.909       0       1   -0.777"
            ],
            "text/html": [
              "\n",
              "  <div id=\"df-44c92b1c-f092-4ec5-9d8a-b96ee937b26b\">\n",
              "    <div class=\"colab-df-container\">\n",
              "      <div>\n",
              "<style scoped>\n",
              "    .dataframe tbody tr th:only-of-type {\n",
              "        vertical-align: middle;\n",
              "    }\n",
              "\n",
              "    .dataframe tbody tr th {\n",
              "        vertical-align: top;\n",
              "    }\n",
              "\n",
              "    .dataframe thead th {\n",
              "        text-align: right;\n",
              "    }\n",
              "</style>\n",
              "<table border=\"1\" class=\"dataframe\">\n",
              "  <thead>\n",
              "    <tr style=\"text-align: right;\">\n",
              "      <th></th>\n",
              "      <th>age</th>\n",
              "      <th>sex</th>\n",
              "      <th>bmi</th>\n",
              "      <th>children</th>\n",
              "      <th>smoker</th>\n",
              "      <th>region</th>\n",
              "      <th>charges</th>\n",
              "    </tr>\n",
              "  </thead>\n",
              "  <tbody>\n",
              "    <tr>\n",
              "      <th>0</th>\n",
              "      <td>-1.439</td>\n",
              "      <td>0</td>\n",
              "      <td>-0.453</td>\n",
              "      <td>-0.909</td>\n",
              "      <td>1</td>\n",
              "      <td>3</td>\n",
              "      <td>0.299</td>\n",
              "    </tr>\n",
              "    <tr>\n",
              "      <th>1</th>\n",
              "      <td>-1.510</td>\n",
              "      <td>1</td>\n",
              "      <td>0.510</td>\n",
              "      <td>-0.079</td>\n",
              "      <td>0</td>\n",
              "      <td>2</td>\n",
              "      <td>-0.954</td>\n",
              "    </tr>\n",
              "    <tr>\n",
              "      <th>2</th>\n",
              "      <td>-0.798</td>\n",
              "      <td>1</td>\n",
              "      <td>0.383</td>\n",
              "      <td>1.581</td>\n",
              "      <td>0</td>\n",
              "      <td>2</td>\n",
              "      <td>-0.729</td>\n",
              "    </tr>\n",
              "    <tr>\n",
              "      <th>3</th>\n",
              "      <td>-0.442</td>\n",
              "      <td>1</td>\n",
              "      <td>-1.306</td>\n",
              "      <td>-0.909</td>\n",
              "      <td>0</td>\n",
              "      <td>1</td>\n",
              "      <td>0.720</td>\n",
              "    </tr>\n",
              "    <tr>\n",
              "      <th>4</th>\n",
              "      <td>-0.513</td>\n",
              "      <td>1</td>\n",
              "      <td>-0.293</td>\n",
              "      <td>-0.909</td>\n",
              "      <td>0</td>\n",
              "      <td>1</td>\n",
              "      <td>-0.777</td>\n",
              "    </tr>\n",
              "  </tbody>\n",
              "</table>\n",
              "</div>\n",
              "      <button class=\"colab-df-convert\" onclick=\"convertToInteractive('df-44c92b1c-f092-4ec5-9d8a-b96ee937b26b')\"\n",
              "              title=\"Convert this dataframe to an interactive table.\"\n",
              "              style=\"display:none;\">\n",
              "        \n",
              "  <svg xmlns=\"http://www.w3.org/2000/svg\" height=\"24px\"viewBox=\"0 0 24 24\"\n",
              "       width=\"24px\">\n",
              "    <path d=\"M0 0h24v24H0V0z\" fill=\"none\"/>\n",
              "    <path d=\"M18.56 5.44l.94 2.06.94-2.06 2.06-.94-2.06-.94-.94-2.06-.94 2.06-2.06.94zm-11 1L8.5 8.5l.94-2.06 2.06-.94-2.06-.94L8.5 2.5l-.94 2.06-2.06.94zm10 10l.94 2.06.94-2.06 2.06-.94-2.06-.94-.94-2.06-.94 2.06-2.06.94z\"/><path d=\"M17.41 7.96l-1.37-1.37c-.4-.4-.92-.59-1.43-.59-.52 0-1.04.2-1.43.59L10.3 9.45l-7.72 7.72c-.78.78-.78 2.05 0 2.83L4 21.41c.39.39.9.59 1.41.59.51 0 1.02-.2 1.41-.59l7.78-7.78 2.81-2.81c.8-.78.8-2.07 0-2.86zM5.41 20L4 18.59l7.72-7.72 1.47 1.35L5.41 20z\"/>\n",
              "  </svg>\n",
              "      </button>\n",
              "      \n",
              "  <style>\n",
              "    .colab-df-container {\n",
              "      display:flex;\n",
              "      flex-wrap:wrap;\n",
              "      gap: 12px;\n",
              "    }\n",
              "\n",
              "    .colab-df-convert {\n",
              "      background-color: #E8F0FE;\n",
              "      border: none;\n",
              "      border-radius: 50%;\n",
              "      cursor: pointer;\n",
              "      display: none;\n",
              "      fill: #1967D2;\n",
              "      height: 32px;\n",
              "      padding: 0 0 0 0;\n",
              "      width: 32px;\n",
              "    }\n",
              "\n",
              "    .colab-df-convert:hover {\n",
              "      background-color: #E2EBFA;\n",
              "      box-shadow: 0px 1px 2px rgba(60, 64, 67, 0.3), 0px 1px 3px 1px rgba(60, 64, 67, 0.15);\n",
              "      fill: #174EA6;\n",
              "    }\n",
              "\n",
              "    [theme=dark] .colab-df-convert {\n",
              "      background-color: #3B4455;\n",
              "      fill: #D2E3FC;\n",
              "    }\n",
              "\n",
              "    [theme=dark] .colab-df-convert:hover {\n",
              "      background-color: #434B5C;\n",
              "      box-shadow: 0px 1px 3px 1px rgba(0, 0, 0, 0.15);\n",
              "      filter: drop-shadow(0px 1px 2px rgba(0, 0, 0, 0.3));\n",
              "      fill: #FFFFFF;\n",
              "    }\n",
              "  </style>\n",
              "\n",
              "      <script>\n",
              "        const buttonEl =\n",
              "          document.querySelector('#df-44c92b1c-f092-4ec5-9d8a-b96ee937b26b button.colab-df-convert');\n",
              "        buttonEl.style.display =\n",
              "          google.colab.kernel.accessAllowed ? 'block' : 'none';\n",
              "\n",
              "        async function convertToInteractive(key) {\n",
              "          const element = document.querySelector('#df-44c92b1c-f092-4ec5-9d8a-b96ee937b26b');\n",
              "          const dataTable =\n",
              "            await google.colab.kernel.invokeFunction('convertToInteractive',\n",
              "                                                     [key], {});\n",
              "          if (!dataTable) return;\n",
              "\n",
              "          const docLinkHtml = 'Like what you see? Visit the ' +\n",
              "            '<a target=\"_blank\" href=https://colab.research.google.com/notebooks/data_table.ipynb>data table notebook</a>'\n",
              "            + ' to learn more about interactive tables.';\n",
              "          element.innerHTML = '';\n",
              "          dataTable['output_type'] = 'display_data';\n",
              "          await google.colab.output.renderOutput(dataTable, element);\n",
              "          const docLink = document.createElement('div');\n",
              "          docLink.innerHTML = docLinkHtml;\n",
              "          element.appendChild(docLink);\n",
              "        }\n",
              "      </script>\n",
              "    </div>\n",
              "  </div>\n",
              "  "
            ]
          },
          "metadata": {},
          "execution_count": 21
        }
      ],
      "source": [
        "pd.DataFrame(df.head())"
      ]
    },
    {
      "cell_type": "markdown",
      "metadata": {
        "id": "dgDAnsLnioN5"
      },
      "source": [
        "# Feature Selection"
      ]
    },
    {
      "cell_type": "code",
      "execution_count": 22,
      "metadata": {
        "colab": {
          "base_uri": "https://localhost:8080/"
        },
        "id": "ufI9vPbtioN5",
        "outputId": "c5c4d76e-b595-4c5b-dd9c-9737ea224d75"
      },
      "outputs": [
        {
          "output_type": "stream",
          "name": "stdout",
          "text": [
            "All the Num Variables: ['age', 'sex', 'bmi', 'children', 'smoker', 'region', 'charges']\n",
            "\n",
            "All the obj Variables: []\n"
          ]
        },
        {
          "output_type": "stream",
          "name": "stderr",
          "text": [
            "[Parallel(n_jobs=1)]: Using backend SequentialBackend with 1 concurrent workers.\n",
            "[Parallel(n_jobs=1)]: Done   1 out of   1 | elapsed:    4.2s remaining:    0.0s\n",
            "[Parallel(n_jobs=1)]: Done   6 out of   6 | elapsed:   14.9s finished\n",
            "\n",
            "[2022-07-20 02:44:52] Features: 1/6 -- score: -0.38754337483669055[Parallel(n_jobs=1)]: Using backend SequentialBackend with 1 concurrent workers.\n",
            "[Parallel(n_jobs=1)]: Done   1 out of   1 | elapsed:    1.7s remaining:    0.0s\n",
            "[Parallel(n_jobs=1)]: Done   5 out of   5 | elapsed:    8.3s finished\n",
            "\n",
            "[2022-07-20 02:45:00] Features: 2/6 -- score: -0.3316118795002746[Parallel(n_jobs=1)]: Using backend SequentialBackend with 1 concurrent workers.\n",
            "[Parallel(n_jobs=1)]: Done   1 out of   1 | elapsed:    2.2s remaining:    0.0s\n",
            "[Parallel(n_jobs=1)]: Done   4 out of   4 | elapsed:    8.1s finished\n",
            "\n",
            "[2022-07-20 02:45:08] Features: 3/6 -- score: -0.19211376871951263[Parallel(n_jobs=1)]: Using backend SequentialBackend with 1 concurrent workers.\n",
            "[Parallel(n_jobs=1)]: Done   1 out of   1 | elapsed:    2.1s remaining:    0.0s\n",
            "[Parallel(n_jobs=1)]: Done   3 out of   3 | elapsed:    7.1s finished\n",
            "\n",
            "[2022-07-20 02:45:15] Features: 4/6 -- score: -0.17803762763237513[Parallel(n_jobs=1)]: Using backend SequentialBackend with 1 concurrent workers.\n",
            "[Parallel(n_jobs=1)]: Done   1 out of   1 | elapsed:    2.1s remaining:    0.0s\n",
            "[Parallel(n_jobs=1)]: Done   2 out of   2 | elapsed:    4.3s finished\n",
            "\n",
            "[2022-07-20 02:45:20] Features: 5/6 -- score: -0.1695598302227142[Parallel(n_jobs=1)]: Using backend SequentialBackend with 1 concurrent workers.\n"
          ]
        },
        {
          "output_type": "stream",
          "name": "stdout",
          "text": [
            "\n",
            "Most Variables Can Effect The Target Variables:  ['age', 'bmi', 'children', 'smoker', 'region']\n",
            "\n",
            "With Highest Score:  -0.1695598302227142\n",
            "\n",
            "All the Variables Selected:  ['age', 'bmi', 'children', 'smoker', 'region', 'charges']\n"
          ]
        },
        {
          "output_type": "stream",
          "name": "stderr",
          "text": [
            "[Parallel(n_jobs=1)]: Done   1 out of   1 | elapsed:    2.2s remaining:    0.0s\n",
            "[Parallel(n_jobs=1)]: Done   1 out of   1 | elapsed:    2.2s finished\n",
            "\n",
            "[2022-07-20 02:45:22] Features: 6/6 -- score: -0.17009421141912306"
          ]
        }
      ],
      "source": [
        "fs = None\n",
        "\n",
        "if FS == 'Forward':\n",
        "    df, fs = Feature_selection_forward(df, target)"
      ]
    },
    {
      "cell_type": "code",
      "execution_count": 23,
      "metadata": {
        "colab": {
          "base_uri": "https://localhost:8080/",
          "height": 490
        },
        "id": "RdVEH-HGioN6",
        "outputId": "1d3bf4e1-4700-44aa-eb6b-597ceb9308d7"
      },
      "outputs": [
        {
          "output_type": "execute_result",
          "data": {
            "text/plain": [
              "          feature_idx  \\\n",
              "1                (4,)   \n",
              "2              (2, 4)   \n",
              "3           (0, 2, 4)   \n",
              "4        (0, 2, 4, 5)   \n",
              "5     (0, 2, 3, 4, 5)   \n",
              "6  (0, 1, 2, 3, 4, 5)   \n",
              "\n",
              "                                                                                                        cv_scores  \\\n",
              "1   [-0.37009892982711023, -0.38916166709569106, -0.3635594852276959, -0.44209342165718124, -0.37280337037577443]   \n",
              "2    [-0.34416789704359896, -0.30811142541732706, -0.3395107288498616, -0.3417524465733027, -0.32451689961728253]   \n",
              "3  [-0.20652148221001068, -0.14437426018182334, -0.17827900388293763, -0.24620068643223236, -0.18519341089055907]   \n",
              "4     [-0.1998346260734629, -0.1327967526773593, -0.15959936324707175, -0.22741980535470854, -0.1705375908092732]   \n",
              "5   [-0.17693826192917256, -0.11258539661326943, -0.18222702298978413, -0.2109281123008297, -0.16512035728051508]   \n",
              "6  [-0.17454193067693752, -0.10982490455654939, -0.18641827367062727, -0.20592091802958765, -0.17376503016191347]   \n",
              "\n",
              "  avg_score                              feature_names ci_bound std_dev  \\\n",
              "1    -0.388                                  (smoker,)    0.037   0.029   \n",
              "2    -0.332                              (bmi, smoker)    0.017   0.014   \n",
              "3    -0.192                         (age, bmi, smoker)    0.043   0.034   \n",
              "4    -0.178                 (age, bmi, smoker, region)    0.042   0.033   \n",
              "5    -0.170       (age, bmi, children, smoker, region)    0.041   0.032   \n",
              "6    -0.170  (age, sex, bmi, children, smoker, region)    0.042   0.032   \n",
              "\n",
              "  std_err  \n",
              "1   0.014  \n",
              "2   0.007  \n",
              "3   0.017  \n",
              "4   0.016  \n",
              "5   0.016  \n",
              "6   0.016  "
            ],
            "text/html": [
              "\n",
              "  <div id=\"df-99ba9257-5827-47e6-b886-05c5c28bb840\">\n",
              "    <div class=\"colab-df-container\">\n",
              "      <div>\n",
              "<style scoped>\n",
              "    .dataframe tbody tr th:only-of-type {\n",
              "        vertical-align: middle;\n",
              "    }\n",
              "\n",
              "    .dataframe tbody tr th {\n",
              "        vertical-align: top;\n",
              "    }\n",
              "\n",
              "    .dataframe thead th {\n",
              "        text-align: right;\n",
              "    }\n",
              "</style>\n",
              "<table border=\"1\" class=\"dataframe\">\n",
              "  <thead>\n",
              "    <tr style=\"text-align: right;\">\n",
              "      <th></th>\n",
              "      <th>feature_idx</th>\n",
              "      <th>cv_scores</th>\n",
              "      <th>avg_score</th>\n",
              "      <th>feature_names</th>\n",
              "      <th>ci_bound</th>\n",
              "      <th>std_dev</th>\n",
              "      <th>std_err</th>\n",
              "    </tr>\n",
              "  </thead>\n",
              "  <tbody>\n",
              "    <tr>\n",
              "      <th>1</th>\n",
              "      <td>(4,)</td>\n",
              "      <td>[-0.37009892982711023, -0.38916166709569106, -0.3635594852276959, -0.44209342165718124, -0.37280337037577443]</td>\n",
              "      <td>-0.388</td>\n",
              "      <td>(smoker,)</td>\n",
              "      <td>0.037</td>\n",
              "      <td>0.029</td>\n",
              "      <td>0.014</td>\n",
              "    </tr>\n",
              "    <tr>\n",
              "      <th>2</th>\n",
              "      <td>(2, 4)</td>\n",
              "      <td>[-0.34416789704359896, -0.30811142541732706, -0.3395107288498616, -0.3417524465733027, -0.32451689961728253]</td>\n",
              "      <td>-0.332</td>\n",
              "      <td>(bmi, smoker)</td>\n",
              "      <td>0.017</td>\n",
              "      <td>0.014</td>\n",
              "      <td>0.007</td>\n",
              "    </tr>\n",
              "    <tr>\n",
              "      <th>3</th>\n",
              "      <td>(0, 2, 4)</td>\n",
              "      <td>[-0.20652148221001068, -0.14437426018182334, -0.17827900388293763, -0.24620068643223236, -0.18519341089055907]</td>\n",
              "      <td>-0.192</td>\n",
              "      <td>(age, bmi, smoker)</td>\n",
              "      <td>0.043</td>\n",
              "      <td>0.034</td>\n",
              "      <td>0.017</td>\n",
              "    </tr>\n",
              "    <tr>\n",
              "      <th>4</th>\n",
              "      <td>(0, 2, 4, 5)</td>\n",
              "      <td>[-0.1998346260734629, -0.1327967526773593, -0.15959936324707175, -0.22741980535470854, -0.1705375908092732]</td>\n",
              "      <td>-0.178</td>\n",
              "      <td>(age, bmi, smoker, region)</td>\n",
              "      <td>0.042</td>\n",
              "      <td>0.033</td>\n",
              "      <td>0.016</td>\n",
              "    </tr>\n",
              "    <tr>\n",
              "      <th>5</th>\n",
              "      <td>(0, 2, 3, 4, 5)</td>\n",
              "      <td>[-0.17693826192917256, -0.11258539661326943, -0.18222702298978413, -0.2109281123008297, -0.16512035728051508]</td>\n",
              "      <td>-0.170</td>\n",
              "      <td>(age, bmi, children, smoker, region)</td>\n",
              "      <td>0.041</td>\n",
              "      <td>0.032</td>\n",
              "      <td>0.016</td>\n",
              "    </tr>\n",
              "    <tr>\n",
              "      <th>6</th>\n",
              "      <td>(0, 1, 2, 3, 4, 5)</td>\n",
              "      <td>[-0.17454193067693752, -0.10982490455654939, -0.18641827367062727, -0.20592091802958765, -0.17376503016191347]</td>\n",
              "      <td>-0.170</td>\n",
              "      <td>(age, sex, bmi, children, smoker, region)</td>\n",
              "      <td>0.042</td>\n",
              "      <td>0.032</td>\n",
              "      <td>0.016</td>\n",
              "    </tr>\n",
              "  </tbody>\n",
              "</table>\n",
              "</div>\n",
              "      <button class=\"colab-df-convert\" onclick=\"convertToInteractive('df-99ba9257-5827-47e6-b886-05c5c28bb840')\"\n",
              "              title=\"Convert this dataframe to an interactive table.\"\n",
              "              style=\"display:none;\">\n",
              "        \n",
              "  <svg xmlns=\"http://www.w3.org/2000/svg\" height=\"24px\"viewBox=\"0 0 24 24\"\n",
              "       width=\"24px\">\n",
              "    <path d=\"M0 0h24v24H0V0z\" fill=\"none\"/>\n",
              "    <path d=\"M18.56 5.44l.94 2.06.94-2.06 2.06-.94-2.06-.94-.94-2.06-.94 2.06-2.06.94zm-11 1L8.5 8.5l.94-2.06 2.06-.94-2.06-.94L8.5 2.5l-.94 2.06-2.06.94zm10 10l.94 2.06.94-2.06 2.06-.94-2.06-.94-.94-2.06-.94 2.06-2.06.94z\"/><path d=\"M17.41 7.96l-1.37-1.37c-.4-.4-.92-.59-1.43-.59-.52 0-1.04.2-1.43.59L10.3 9.45l-7.72 7.72c-.78.78-.78 2.05 0 2.83L4 21.41c.39.39.9.59 1.41.59.51 0 1.02-.2 1.41-.59l7.78-7.78 2.81-2.81c.8-.78.8-2.07 0-2.86zM5.41 20L4 18.59l7.72-7.72 1.47 1.35L5.41 20z\"/>\n",
              "  </svg>\n",
              "      </button>\n",
              "      \n",
              "  <style>\n",
              "    .colab-df-container {\n",
              "      display:flex;\n",
              "      flex-wrap:wrap;\n",
              "      gap: 12px;\n",
              "    }\n",
              "\n",
              "    .colab-df-convert {\n",
              "      background-color: #E8F0FE;\n",
              "      border: none;\n",
              "      border-radius: 50%;\n",
              "      cursor: pointer;\n",
              "      display: none;\n",
              "      fill: #1967D2;\n",
              "      height: 32px;\n",
              "      padding: 0 0 0 0;\n",
              "      width: 32px;\n",
              "    }\n",
              "\n",
              "    .colab-df-convert:hover {\n",
              "      background-color: #E2EBFA;\n",
              "      box-shadow: 0px 1px 2px rgba(60, 64, 67, 0.3), 0px 1px 3px 1px rgba(60, 64, 67, 0.15);\n",
              "      fill: #174EA6;\n",
              "    }\n",
              "\n",
              "    [theme=dark] .colab-df-convert {\n",
              "      background-color: #3B4455;\n",
              "      fill: #D2E3FC;\n",
              "    }\n",
              "\n",
              "    [theme=dark] .colab-df-convert:hover {\n",
              "      background-color: #434B5C;\n",
              "      box-shadow: 0px 1px 3px 1px rgba(0, 0, 0, 0.15);\n",
              "      filter: drop-shadow(0px 1px 2px rgba(0, 0, 0, 0.3));\n",
              "      fill: #FFFFFF;\n",
              "    }\n",
              "  </style>\n",
              "\n",
              "      <script>\n",
              "        const buttonEl =\n",
              "          document.querySelector('#df-99ba9257-5827-47e6-b886-05c5c28bb840 button.colab-df-convert');\n",
              "        buttonEl.style.display =\n",
              "          google.colab.kernel.accessAllowed ? 'block' : 'none';\n",
              "\n",
              "        async function convertToInteractive(key) {\n",
              "          const element = document.querySelector('#df-99ba9257-5827-47e6-b886-05c5c28bb840');\n",
              "          const dataTable =\n",
              "            await google.colab.kernel.invokeFunction('convertToInteractive',\n",
              "                                                     [key], {});\n",
              "          if (!dataTable) return;\n",
              "\n",
              "          const docLinkHtml = 'Like what you see? Visit the ' +\n",
              "            '<a target=\"_blank\" href=https://colab.research.google.com/notebooks/data_table.ipynb>data table notebook</a>'\n",
              "            + ' to learn more about interactive tables.';\n",
              "          element.innerHTML = '';\n",
              "          dataTable['output_type'] = 'display_data';\n",
              "          await google.colab.output.renderOutput(dataTable, element);\n",
              "          const docLink = document.createElement('div');\n",
              "          docLink.innerHTML = docLinkHtml;\n",
              "          element.appendChild(docLink);\n",
              "        }\n",
              "      </script>\n",
              "    </div>\n",
              "  </div>\n",
              "  "
            ]
          },
          "metadata": {},
          "execution_count": 23
        }
      ],
      "source": [
        "pd.DataFrame(fs)"
      ]
    },
    {
      "cell_type": "code",
      "execution_count": 24,
      "metadata": {
        "colab": {
          "base_uri": "https://localhost:8080/",
          "height": 206
        },
        "id": "lpm8BQJmioN6",
        "outputId": "4fa606a1-79c8-4f4e-9b48-f5e8a3b6a116"
      },
      "outputs": [
        {
          "output_type": "execute_result",
          "data": {
            "text/plain": [
              "     age    bmi  children  smoker  region  charges\n",
              "0 -1.439 -0.453    -0.909       1       3    0.299\n",
              "1 -1.510  0.510    -0.079       0       2   -0.954\n",
              "2 -0.798  0.383     1.581       0       2   -0.729\n",
              "3 -0.442 -1.306    -0.909       0       1    0.720\n",
              "4 -0.513 -0.293    -0.909       0       1   -0.777"
            ],
            "text/html": [
              "\n",
              "  <div id=\"df-72c2d036-eafa-41e0-b913-1d09b0fea399\">\n",
              "    <div class=\"colab-df-container\">\n",
              "      <div>\n",
              "<style scoped>\n",
              "    .dataframe tbody tr th:only-of-type {\n",
              "        vertical-align: middle;\n",
              "    }\n",
              "\n",
              "    .dataframe tbody tr th {\n",
              "        vertical-align: top;\n",
              "    }\n",
              "\n",
              "    .dataframe thead th {\n",
              "        text-align: right;\n",
              "    }\n",
              "</style>\n",
              "<table border=\"1\" class=\"dataframe\">\n",
              "  <thead>\n",
              "    <tr style=\"text-align: right;\">\n",
              "      <th></th>\n",
              "      <th>age</th>\n",
              "      <th>bmi</th>\n",
              "      <th>children</th>\n",
              "      <th>smoker</th>\n",
              "      <th>region</th>\n",
              "      <th>charges</th>\n",
              "    </tr>\n",
              "  </thead>\n",
              "  <tbody>\n",
              "    <tr>\n",
              "      <th>0</th>\n",
              "      <td>-1.439</td>\n",
              "      <td>-0.453</td>\n",
              "      <td>-0.909</td>\n",
              "      <td>1</td>\n",
              "      <td>3</td>\n",
              "      <td>0.299</td>\n",
              "    </tr>\n",
              "    <tr>\n",
              "      <th>1</th>\n",
              "      <td>-1.510</td>\n",
              "      <td>0.510</td>\n",
              "      <td>-0.079</td>\n",
              "      <td>0</td>\n",
              "      <td>2</td>\n",
              "      <td>-0.954</td>\n",
              "    </tr>\n",
              "    <tr>\n",
              "      <th>2</th>\n",
              "      <td>-0.798</td>\n",
              "      <td>0.383</td>\n",
              "      <td>1.581</td>\n",
              "      <td>0</td>\n",
              "      <td>2</td>\n",
              "      <td>-0.729</td>\n",
              "    </tr>\n",
              "    <tr>\n",
              "      <th>3</th>\n",
              "      <td>-0.442</td>\n",
              "      <td>-1.306</td>\n",
              "      <td>-0.909</td>\n",
              "      <td>0</td>\n",
              "      <td>1</td>\n",
              "      <td>0.720</td>\n",
              "    </tr>\n",
              "    <tr>\n",
              "      <th>4</th>\n",
              "      <td>-0.513</td>\n",
              "      <td>-0.293</td>\n",
              "      <td>-0.909</td>\n",
              "      <td>0</td>\n",
              "      <td>1</td>\n",
              "      <td>-0.777</td>\n",
              "    </tr>\n",
              "  </tbody>\n",
              "</table>\n",
              "</div>\n",
              "      <button class=\"colab-df-convert\" onclick=\"convertToInteractive('df-72c2d036-eafa-41e0-b913-1d09b0fea399')\"\n",
              "              title=\"Convert this dataframe to an interactive table.\"\n",
              "              style=\"display:none;\">\n",
              "        \n",
              "  <svg xmlns=\"http://www.w3.org/2000/svg\" height=\"24px\"viewBox=\"0 0 24 24\"\n",
              "       width=\"24px\">\n",
              "    <path d=\"M0 0h24v24H0V0z\" fill=\"none\"/>\n",
              "    <path d=\"M18.56 5.44l.94 2.06.94-2.06 2.06-.94-2.06-.94-.94-2.06-.94 2.06-2.06.94zm-11 1L8.5 8.5l.94-2.06 2.06-.94-2.06-.94L8.5 2.5l-.94 2.06-2.06.94zm10 10l.94 2.06.94-2.06 2.06-.94-2.06-.94-.94-2.06-.94 2.06-2.06.94z\"/><path d=\"M17.41 7.96l-1.37-1.37c-.4-.4-.92-.59-1.43-.59-.52 0-1.04.2-1.43.59L10.3 9.45l-7.72 7.72c-.78.78-.78 2.05 0 2.83L4 21.41c.39.39.9.59 1.41.59.51 0 1.02-.2 1.41-.59l7.78-7.78 2.81-2.81c.8-.78.8-2.07 0-2.86zM5.41 20L4 18.59l7.72-7.72 1.47 1.35L5.41 20z\"/>\n",
              "  </svg>\n",
              "      </button>\n",
              "      \n",
              "  <style>\n",
              "    .colab-df-container {\n",
              "      display:flex;\n",
              "      flex-wrap:wrap;\n",
              "      gap: 12px;\n",
              "    }\n",
              "\n",
              "    .colab-df-convert {\n",
              "      background-color: #E8F0FE;\n",
              "      border: none;\n",
              "      border-radius: 50%;\n",
              "      cursor: pointer;\n",
              "      display: none;\n",
              "      fill: #1967D2;\n",
              "      height: 32px;\n",
              "      padding: 0 0 0 0;\n",
              "      width: 32px;\n",
              "    }\n",
              "\n",
              "    .colab-df-convert:hover {\n",
              "      background-color: #E2EBFA;\n",
              "      box-shadow: 0px 1px 2px rgba(60, 64, 67, 0.3), 0px 1px 3px 1px rgba(60, 64, 67, 0.15);\n",
              "      fill: #174EA6;\n",
              "    }\n",
              "\n",
              "    [theme=dark] .colab-df-convert {\n",
              "      background-color: #3B4455;\n",
              "      fill: #D2E3FC;\n",
              "    }\n",
              "\n",
              "    [theme=dark] .colab-df-convert:hover {\n",
              "      background-color: #434B5C;\n",
              "      box-shadow: 0px 1px 3px 1px rgba(0, 0, 0, 0.15);\n",
              "      filter: drop-shadow(0px 1px 2px rgba(0, 0, 0, 0.3));\n",
              "      fill: #FFFFFF;\n",
              "    }\n",
              "  </style>\n",
              "\n",
              "      <script>\n",
              "        const buttonEl =\n",
              "          document.querySelector('#df-72c2d036-eafa-41e0-b913-1d09b0fea399 button.colab-df-convert');\n",
              "        buttonEl.style.display =\n",
              "          google.colab.kernel.accessAllowed ? 'block' : 'none';\n",
              "\n",
              "        async function convertToInteractive(key) {\n",
              "          const element = document.querySelector('#df-72c2d036-eafa-41e0-b913-1d09b0fea399');\n",
              "          const dataTable =\n",
              "            await google.colab.kernel.invokeFunction('convertToInteractive',\n",
              "                                                     [key], {});\n",
              "          if (!dataTable) return;\n",
              "\n",
              "          const docLinkHtml = 'Like what you see? Visit the ' +\n",
              "            '<a target=\"_blank\" href=https://colab.research.google.com/notebooks/data_table.ipynb>data table notebook</a>'\n",
              "            + ' to learn more about interactive tables.';\n",
              "          element.innerHTML = '';\n",
              "          dataTable['output_type'] = 'display_data';\n",
              "          await google.colab.output.renderOutput(dataTable, element);\n",
              "          const docLink = document.createElement('div');\n",
              "          docLink.innerHTML = docLinkHtml;\n",
              "          element.appendChild(docLink);\n",
              "        }\n",
              "      </script>\n",
              "    </div>\n",
              "  </div>\n",
              "  "
            ]
          },
          "metadata": {},
          "execution_count": 24
        }
      ],
      "source": [
        "pd.DataFrame(df.head())"
      ]
    },
    {
      "cell_type": "markdown",
      "metadata": {
        "id": "vpZWHRHpioN6"
      },
      "source": [
        "# Statistics Analytics"
      ]
    },
    {
      "cell_type": "markdown",
      "metadata": {
        "id": "8MoEDoMfioN6"
      },
      "source": [
        "## Correlation between Independent Dependent Variables and Dependent Variables"
      ]
    },
    {
      "cell_type": "code",
      "execution_count": 25,
      "metadata": {
        "colab": {
          "base_uri": "https://localhost:8080/",
          "height": 0
        },
        "id": "jWp0dvpRioN7",
        "outputId": "7e335e60-1378-4203-d3ce-b84da52ffe0f"
      },
      "outputs": [
        {
          "output_type": "execute_result",
          "data": {
            "text/plain": [
              "      index  charges\n",
              "0   charges    1.000\n",
              "1    smoker    0.787\n",
              "2       age    0.299\n",
              "3       bmi    0.198\n",
              "4  children    0.068\n",
              "5    region   -0.006"
            ],
            "text/html": [
              "\n",
              "  <div id=\"df-2e9a1328-f38b-4172-b09a-75cd85e3f879\">\n",
              "    <div class=\"colab-df-container\">\n",
              "      <div>\n",
              "<style scoped>\n",
              "    .dataframe tbody tr th:only-of-type {\n",
              "        vertical-align: middle;\n",
              "    }\n",
              "\n",
              "    .dataframe tbody tr th {\n",
              "        vertical-align: top;\n",
              "    }\n",
              "\n",
              "    .dataframe thead th {\n",
              "        text-align: right;\n",
              "    }\n",
              "</style>\n",
              "<table border=\"1\" class=\"dataframe\">\n",
              "  <thead>\n",
              "    <tr style=\"text-align: right;\">\n",
              "      <th></th>\n",
              "      <th>index</th>\n",
              "      <th>charges</th>\n",
              "    </tr>\n",
              "  </thead>\n",
              "  <tbody>\n",
              "    <tr>\n",
              "      <th>0</th>\n",
              "      <td>charges</td>\n",
              "      <td>1.000</td>\n",
              "    </tr>\n",
              "    <tr>\n",
              "      <th>1</th>\n",
              "      <td>smoker</td>\n",
              "      <td>0.787</td>\n",
              "    </tr>\n",
              "    <tr>\n",
              "      <th>2</th>\n",
              "      <td>age</td>\n",
              "      <td>0.299</td>\n",
              "    </tr>\n",
              "    <tr>\n",
              "      <th>3</th>\n",
              "      <td>bmi</td>\n",
              "      <td>0.198</td>\n",
              "    </tr>\n",
              "    <tr>\n",
              "      <th>4</th>\n",
              "      <td>children</td>\n",
              "      <td>0.068</td>\n",
              "    </tr>\n",
              "    <tr>\n",
              "      <th>5</th>\n",
              "      <td>region</td>\n",
              "      <td>-0.006</td>\n",
              "    </tr>\n",
              "  </tbody>\n",
              "</table>\n",
              "</div>\n",
              "      <button class=\"colab-df-convert\" onclick=\"convertToInteractive('df-2e9a1328-f38b-4172-b09a-75cd85e3f879')\"\n",
              "              title=\"Convert this dataframe to an interactive table.\"\n",
              "              style=\"display:none;\">\n",
              "        \n",
              "  <svg xmlns=\"http://www.w3.org/2000/svg\" height=\"24px\"viewBox=\"0 0 24 24\"\n",
              "       width=\"24px\">\n",
              "    <path d=\"M0 0h24v24H0V0z\" fill=\"none\"/>\n",
              "    <path d=\"M18.56 5.44l.94 2.06.94-2.06 2.06-.94-2.06-.94-.94-2.06-.94 2.06-2.06.94zm-11 1L8.5 8.5l.94-2.06 2.06-.94-2.06-.94L8.5 2.5l-.94 2.06-2.06.94zm10 10l.94 2.06.94-2.06 2.06-.94-2.06-.94-.94-2.06-.94 2.06-2.06.94z\"/><path d=\"M17.41 7.96l-1.37-1.37c-.4-.4-.92-.59-1.43-.59-.52 0-1.04.2-1.43.59L10.3 9.45l-7.72 7.72c-.78.78-.78 2.05 0 2.83L4 21.41c.39.39.9.59 1.41.59.51 0 1.02-.2 1.41-.59l7.78-7.78 2.81-2.81c.8-.78.8-2.07 0-2.86zM5.41 20L4 18.59l7.72-7.72 1.47 1.35L5.41 20z\"/>\n",
              "  </svg>\n",
              "      </button>\n",
              "      \n",
              "  <style>\n",
              "    .colab-df-container {\n",
              "      display:flex;\n",
              "      flex-wrap:wrap;\n",
              "      gap: 12px;\n",
              "    }\n",
              "\n",
              "    .colab-df-convert {\n",
              "      background-color: #E8F0FE;\n",
              "      border: none;\n",
              "      border-radius: 50%;\n",
              "      cursor: pointer;\n",
              "      display: none;\n",
              "      fill: #1967D2;\n",
              "      height: 32px;\n",
              "      padding: 0 0 0 0;\n",
              "      width: 32px;\n",
              "    }\n",
              "\n",
              "    .colab-df-convert:hover {\n",
              "      background-color: #E2EBFA;\n",
              "      box-shadow: 0px 1px 2px rgba(60, 64, 67, 0.3), 0px 1px 3px 1px rgba(60, 64, 67, 0.15);\n",
              "      fill: #174EA6;\n",
              "    }\n",
              "\n",
              "    [theme=dark] .colab-df-convert {\n",
              "      background-color: #3B4455;\n",
              "      fill: #D2E3FC;\n",
              "    }\n",
              "\n",
              "    [theme=dark] .colab-df-convert:hover {\n",
              "      background-color: #434B5C;\n",
              "      box-shadow: 0px 1px 3px 1px rgba(0, 0, 0, 0.15);\n",
              "      filter: drop-shadow(0px 1px 2px rgba(0, 0, 0, 0.3));\n",
              "      fill: #FFFFFF;\n",
              "    }\n",
              "  </style>\n",
              "\n",
              "      <script>\n",
              "        const buttonEl =\n",
              "          document.querySelector('#df-2e9a1328-f38b-4172-b09a-75cd85e3f879 button.colab-df-convert');\n",
              "        buttonEl.style.display =\n",
              "          google.colab.kernel.accessAllowed ? 'block' : 'none';\n",
              "\n",
              "        async function convertToInteractive(key) {\n",
              "          const element = document.querySelector('#df-2e9a1328-f38b-4172-b09a-75cd85e3f879');\n",
              "          const dataTable =\n",
              "            await google.colab.kernel.invokeFunction('convertToInteractive',\n",
              "                                                     [key], {});\n",
              "          if (!dataTable) return;\n",
              "\n",
              "          const docLinkHtml = 'Like what you see? Visit the ' +\n",
              "            '<a target=\"_blank\" href=https://colab.research.google.com/notebooks/data_table.ipynb>data table notebook</a>'\n",
              "            + ' to learn more about interactive tables.';\n",
              "          element.innerHTML = '';\n",
              "          dataTable['output_type'] = 'display_data';\n",
              "          await google.colab.output.renderOutput(dataTable, element);\n",
              "          const docLink = document.createElement('div');\n",
              "          docLink.innerHTML = docLinkHtml;\n",
              "          element.appendChild(docLink);\n",
              "        }\n",
              "      </script>\n",
              "    </div>\n",
              "  </div>\n",
              "  "
            ]
          },
          "metadata": {},
          "execution_count": 25
        }
      ],
      "source": [
        "pd.DataFrame(df.corr()[target].sort_values(ascending = False).reset_index())"
      ]
    },
    {
      "cell_type": "markdown",
      "metadata": {
        "id": "2BKll4D-ioN7"
      },
      "source": [
        "## Correlation between all the Variables"
      ]
    },
    {
      "cell_type": "code",
      "execution_count": 26,
      "metadata": {
        "colab": {
          "base_uri": "https://localhost:8080/",
          "height": 0
        },
        "id": "gcisxAOkioN7",
        "outputId": "d1208408-70c4-496d-b74f-891770e1eed7"
      },
      "outputs": [
        {
          "output_type": "execute_result",
          "data": {
            "text/plain": [
              "            age   bmi  children  smoker  region  charges\n",
              "age       1.000 0.109     0.042  -0.025   0.002    0.299\n",
              "bmi       0.109 1.000     0.013   0.004   0.158    0.198\n",
              "children  0.042 0.013     1.000   0.008   0.017    0.068\n",
              "smoker   -0.025 0.004     0.008   1.000  -0.002    0.787\n",
              "region    0.002 0.158     0.017  -0.002   1.000   -0.006\n",
              "charges   0.299 0.198     0.068   0.787  -0.006    1.000"
            ],
            "text/html": [
              "\n",
              "  <div id=\"df-0385ca2c-917c-44a6-b90c-7fcc8cbd55d7\">\n",
              "    <div class=\"colab-df-container\">\n",
              "      <div>\n",
              "<style scoped>\n",
              "    .dataframe tbody tr th:only-of-type {\n",
              "        vertical-align: middle;\n",
              "    }\n",
              "\n",
              "    .dataframe tbody tr th {\n",
              "        vertical-align: top;\n",
              "    }\n",
              "\n",
              "    .dataframe thead th {\n",
              "        text-align: right;\n",
              "    }\n",
              "</style>\n",
              "<table border=\"1\" class=\"dataframe\">\n",
              "  <thead>\n",
              "    <tr style=\"text-align: right;\">\n",
              "      <th></th>\n",
              "      <th>age</th>\n",
              "      <th>bmi</th>\n",
              "      <th>children</th>\n",
              "      <th>smoker</th>\n",
              "      <th>region</th>\n",
              "      <th>charges</th>\n",
              "    </tr>\n",
              "  </thead>\n",
              "  <tbody>\n",
              "    <tr>\n",
              "      <th>age</th>\n",
              "      <td>1.000</td>\n",
              "      <td>0.109</td>\n",
              "      <td>0.042</td>\n",
              "      <td>-0.025</td>\n",
              "      <td>0.002</td>\n",
              "      <td>0.299</td>\n",
              "    </tr>\n",
              "    <tr>\n",
              "      <th>bmi</th>\n",
              "      <td>0.109</td>\n",
              "      <td>1.000</td>\n",
              "      <td>0.013</td>\n",
              "      <td>0.004</td>\n",
              "      <td>0.158</td>\n",
              "      <td>0.198</td>\n",
              "    </tr>\n",
              "    <tr>\n",
              "      <th>children</th>\n",
              "      <td>0.042</td>\n",
              "      <td>0.013</td>\n",
              "      <td>1.000</td>\n",
              "      <td>0.008</td>\n",
              "      <td>0.017</td>\n",
              "      <td>0.068</td>\n",
              "    </tr>\n",
              "    <tr>\n",
              "      <th>smoker</th>\n",
              "      <td>-0.025</td>\n",
              "      <td>0.004</td>\n",
              "      <td>0.008</td>\n",
              "      <td>1.000</td>\n",
              "      <td>-0.002</td>\n",
              "      <td>0.787</td>\n",
              "    </tr>\n",
              "    <tr>\n",
              "      <th>region</th>\n",
              "      <td>0.002</td>\n",
              "      <td>0.158</td>\n",
              "      <td>0.017</td>\n",
              "      <td>-0.002</td>\n",
              "      <td>1.000</td>\n",
              "      <td>-0.006</td>\n",
              "    </tr>\n",
              "    <tr>\n",
              "      <th>charges</th>\n",
              "      <td>0.299</td>\n",
              "      <td>0.198</td>\n",
              "      <td>0.068</td>\n",
              "      <td>0.787</td>\n",
              "      <td>-0.006</td>\n",
              "      <td>1.000</td>\n",
              "    </tr>\n",
              "  </tbody>\n",
              "</table>\n",
              "</div>\n",
              "      <button class=\"colab-df-convert\" onclick=\"convertToInteractive('df-0385ca2c-917c-44a6-b90c-7fcc8cbd55d7')\"\n",
              "              title=\"Convert this dataframe to an interactive table.\"\n",
              "              style=\"display:none;\">\n",
              "        \n",
              "  <svg xmlns=\"http://www.w3.org/2000/svg\" height=\"24px\"viewBox=\"0 0 24 24\"\n",
              "       width=\"24px\">\n",
              "    <path d=\"M0 0h24v24H0V0z\" fill=\"none\"/>\n",
              "    <path d=\"M18.56 5.44l.94 2.06.94-2.06 2.06-.94-2.06-.94-.94-2.06-.94 2.06-2.06.94zm-11 1L8.5 8.5l.94-2.06 2.06-.94-2.06-.94L8.5 2.5l-.94 2.06-2.06.94zm10 10l.94 2.06.94-2.06 2.06-.94-2.06-.94-.94-2.06-.94 2.06-2.06.94z\"/><path d=\"M17.41 7.96l-1.37-1.37c-.4-.4-.92-.59-1.43-.59-.52 0-1.04.2-1.43.59L10.3 9.45l-7.72 7.72c-.78.78-.78 2.05 0 2.83L4 21.41c.39.39.9.59 1.41.59.51 0 1.02-.2 1.41-.59l7.78-7.78 2.81-2.81c.8-.78.8-2.07 0-2.86zM5.41 20L4 18.59l7.72-7.72 1.47 1.35L5.41 20z\"/>\n",
              "  </svg>\n",
              "      </button>\n",
              "      \n",
              "  <style>\n",
              "    .colab-df-container {\n",
              "      display:flex;\n",
              "      flex-wrap:wrap;\n",
              "      gap: 12px;\n",
              "    }\n",
              "\n",
              "    .colab-df-convert {\n",
              "      background-color: #E8F0FE;\n",
              "      border: none;\n",
              "      border-radius: 50%;\n",
              "      cursor: pointer;\n",
              "      display: none;\n",
              "      fill: #1967D2;\n",
              "      height: 32px;\n",
              "      padding: 0 0 0 0;\n",
              "      width: 32px;\n",
              "    }\n",
              "\n",
              "    .colab-df-convert:hover {\n",
              "      background-color: #E2EBFA;\n",
              "      box-shadow: 0px 1px 2px rgba(60, 64, 67, 0.3), 0px 1px 3px 1px rgba(60, 64, 67, 0.15);\n",
              "      fill: #174EA6;\n",
              "    }\n",
              "\n",
              "    [theme=dark] .colab-df-convert {\n",
              "      background-color: #3B4455;\n",
              "      fill: #D2E3FC;\n",
              "    }\n",
              "\n",
              "    [theme=dark] .colab-df-convert:hover {\n",
              "      background-color: #434B5C;\n",
              "      box-shadow: 0px 1px 3px 1px rgba(0, 0, 0, 0.15);\n",
              "      filter: drop-shadow(0px 1px 2px rgba(0, 0, 0, 0.3));\n",
              "      fill: #FFFFFF;\n",
              "    }\n",
              "  </style>\n",
              "\n",
              "      <script>\n",
              "        const buttonEl =\n",
              "          document.querySelector('#df-0385ca2c-917c-44a6-b90c-7fcc8cbd55d7 button.colab-df-convert');\n",
              "        buttonEl.style.display =\n",
              "          google.colab.kernel.accessAllowed ? 'block' : 'none';\n",
              "\n",
              "        async function convertToInteractive(key) {\n",
              "          const element = document.querySelector('#df-0385ca2c-917c-44a6-b90c-7fcc8cbd55d7');\n",
              "          const dataTable =\n",
              "            await google.colab.kernel.invokeFunction('convertToInteractive',\n",
              "                                                     [key], {});\n",
              "          if (!dataTable) return;\n",
              "\n",
              "          const docLinkHtml = 'Like what you see? Visit the ' +\n",
              "            '<a target=\"_blank\" href=https://colab.research.google.com/notebooks/data_table.ipynb>data table notebook</a>'\n",
              "            + ' to learn more about interactive tables.';\n",
              "          element.innerHTML = '';\n",
              "          dataTable['output_type'] = 'display_data';\n",
              "          await google.colab.output.renderOutput(dataTable, element);\n",
              "          const docLink = document.createElement('div');\n",
              "          docLink.innerHTML = docLinkHtml;\n",
              "          element.appendChild(docLink);\n",
              "        }\n",
              "      </script>\n",
              "    </div>\n",
              "  </div>\n",
              "  "
            ]
          },
          "metadata": {},
          "execution_count": 26
        }
      ],
      "source": [
        "pd.DataFrame(df.corr())"
      ]
    },
    {
      "cell_type": "code",
      "execution_count": 27,
      "metadata": {
        "colab": {
          "base_uri": "https://localhost:8080/",
          "height": 0
        },
        "id": "ki8k-1V2ioN7",
        "outputId": "95a8521d-7ed1-4dec-8d3d-7782add2737c"
      },
      "outputs": [
        {
          "output_type": "execute_result",
          "data": {
            "text/plain": [
              "<pandas.io.formats.style.Styler at 0x7fbcf720d3d0>"
            ],
            "text/html": [
              "<style type=\"text/css\">\n",
              "#T_2d0b3_row0_col0, #T_2d0b3_row1_col1, #T_2d0b3_row2_col2, #T_2d0b3_row3_col3, #T_2d0b3_row4_col4, #T_2d0b3_row5_col5 {\n",
              "  background-color: #08306b;\n",
              "  color: #f1f1f1;\n",
              "}\n",
              "#T_2d0b3_row0_col1 {\n",
              "  background-color: #e2edf8;\n",
              "  color: #000000;\n",
              "}\n",
              "#T_2d0b3_row0_col2, #T_2d0b3_row2_col3 {\n",
              "  background-color: #f1f7fd;\n",
              "  color: #000000;\n",
              "}\n",
              "#T_2d0b3_row0_col3, #T_2d0b3_row3_col0, #T_2d0b3_row3_col1, #T_2d0b3_row3_col2, #T_2d0b3_row4_col5, #T_2d0b3_row5_col4 {\n",
              "  background-color: #f7fbff;\n",
              "  color: #000000;\n",
              "}\n",
              "#T_2d0b3_row0_col4, #T_2d0b3_row2_col1, #T_2d0b3_row4_col2 {\n",
              "  background-color: #f5fafe;\n",
              "  color: #000000;\n",
              "}\n",
              "#T_2d0b3_row0_col5 {\n",
              "  background-color: #b5d4e9;\n",
              "  color: #000000;\n",
              "}\n",
              "#T_2d0b3_row1_col0 {\n",
              "  background-color: #ddeaf7;\n",
              "  color: #000000;\n",
              "}\n",
              "#T_2d0b3_row1_col2, #T_2d0b3_row3_col4 {\n",
              "  background-color: #f6faff;\n",
              "  color: #000000;\n",
              "}\n",
              "#T_2d0b3_row1_col3 {\n",
              "  background-color: #f2f7fd;\n",
              "  color: #000000;\n",
              "}\n",
              "#T_2d0b3_row1_col4 {\n",
              "  background-color: #d7e6f5;\n",
              "  color: #000000;\n",
              "}\n",
              "#T_2d0b3_row1_col5 {\n",
              "  background-color: #cfe1f2;\n",
              "  color: #000000;\n",
              "}\n",
              "#T_2d0b3_row2_col0 {\n",
              "  background-color: #eaf3fb;\n",
              "  color: #000000;\n",
              "}\n",
              "#T_2d0b3_row2_col4, #T_2d0b3_row4_col3 {\n",
              "  background-color: #f3f8fe;\n",
              "  color: #000000;\n",
              "}\n",
              "#T_2d0b3_row2_col5 {\n",
              "  background-color: #e9f2fa;\n",
              "  color: #000000;\n",
              "}\n",
              "#T_2d0b3_row3_col5 {\n",
              "  background-color: #1967ad;\n",
              "  color: #f1f1f1;\n",
              "}\n",
              "#T_2d0b3_row4_col0 {\n",
              "  background-color: #f2f8fd;\n",
              "  color: #000000;\n",
              "}\n",
              "#T_2d0b3_row4_col1 {\n",
              "  background-color: #d9e7f5;\n",
              "  color: #000000;\n",
              "}\n",
              "#T_2d0b3_row5_col0 {\n",
              "  background-color: #b2d2e8;\n",
              "  color: #000000;\n",
              "}\n",
              "#T_2d0b3_row5_col1 {\n",
              "  background-color: #d0e2f2;\n",
              "  color: #000000;\n",
              "}\n",
              "#T_2d0b3_row5_col2 {\n",
              "  background-color: #ebf3fb;\n",
              "  color: #000000;\n",
              "}\n",
              "#T_2d0b3_row5_col3 {\n",
              "  background-color: #1966ad;\n",
              "  color: #f1f1f1;\n",
              "}\n",
              "</style>\n",
              "<table id=\"T_2d0b3_\" class=\"dataframe\">\n",
              "  <thead>\n",
              "    <tr>\n",
              "      <th class=\"blank level0\" >&nbsp;</th>\n",
              "      <th class=\"col_heading level0 col0\" >age</th>\n",
              "      <th class=\"col_heading level0 col1\" >bmi</th>\n",
              "      <th class=\"col_heading level0 col2\" >children</th>\n",
              "      <th class=\"col_heading level0 col3\" >smoker</th>\n",
              "      <th class=\"col_heading level0 col4\" >region</th>\n",
              "      <th class=\"col_heading level0 col5\" >charges</th>\n",
              "    </tr>\n",
              "  </thead>\n",
              "  <tbody>\n",
              "    <tr>\n",
              "      <th id=\"T_2d0b3_level0_row0\" class=\"row_heading level0 row0\" >age</th>\n",
              "      <td id=\"T_2d0b3_row0_col0\" class=\"data row0 col0\" >1.000000</td>\n",
              "      <td id=\"T_2d0b3_row0_col1\" class=\"data row0 col1\" >0.109272</td>\n",
              "      <td id=\"T_2d0b3_row0_col2\" class=\"data row0 col2\" >0.042469</td>\n",
              "      <td id=\"T_2d0b3_row0_col3\" class=\"data row0 col3\" >-0.025019</td>\n",
              "      <td id=\"T_2d0b3_row0_col4\" class=\"data row0 col4\" >0.002127</td>\n",
              "      <td id=\"T_2d0b3_row0_col5\" class=\"data row0 col5\" >0.299008</td>\n",
              "    </tr>\n",
              "    <tr>\n",
              "      <th id=\"T_2d0b3_level0_row1\" class=\"row_heading level0 row1\" >bmi</th>\n",
              "      <td id=\"T_2d0b3_row1_col0\" class=\"data row1 col0\" >0.109272</td>\n",
              "      <td id=\"T_2d0b3_row1_col1\" class=\"data row1 col1\" >1.000000</td>\n",
              "      <td id=\"T_2d0b3_row1_col2\" class=\"data row1 col2\" >0.012759</td>\n",
              "      <td id=\"T_2d0b3_row1_col3\" class=\"data row1 col3\" >0.003750</td>\n",
              "      <td id=\"T_2d0b3_row1_col4\" class=\"data row1 col4\" >0.157566</td>\n",
              "      <td id=\"T_2d0b3_row1_col5\" class=\"data row1 col5\" >0.198341</td>\n",
              "    </tr>\n",
              "    <tr>\n",
              "      <th id=\"T_2d0b3_level0_row2\" class=\"row_heading level0 row2\" >children</th>\n",
              "      <td id=\"T_2d0b3_row2_col0\" class=\"data row2 col0\" >0.042469</td>\n",
              "      <td id=\"T_2d0b3_row2_col1\" class=\"data row2 col1\" >0.012759</td>\n",
              "      <td id=\"T_2d0b3_row2_col2\" class=\"data row2 col2\" >1.000000</td>\n",
              "      <td id=\"T_2d0b3_row2_col3\" class=\"data row2 col3\" >0.007673</td>\n",
              "      <td id=\"T_2d0b3_row2_col4\" class=\"data row2 col4\" >0.016569</td>\n",
              "      <td id=\"T_2d0b3_row2_col5\" class=\"data row2 col5\" >0.067998</td>\n",
              "    </tr>\n",
              "    <tr>\n",
              "      <th id=\"T_2d0b3_level0_row3\" class=\"row_heading level0 row3\" >smoker</th>\n",
              "      <td id=\"T_2d0b3_row3_col0\" class=\"data row3 col0\" >-0.025019</td>\n",
              "      <td id=\"T_2d0b3_row3_col1\" class=\"data row3 col1\" >0.003750</td>\n",
              "      <td id=\"T_2d0b3_row3_col2\" class=\"data row3 col2\" >0.007673</td>\n",
              "      <td id=\"T_2d0b3_row3_col3\" class=\"data row3 col3\" >1.000000</td>\n",
              "      <td id=\"T_2d0b3_row3_col4\" class=\"data row3 col4\" >-0.002181</td>\n",
              "      <td id=\"T_2d0b3_row3_col5\" class=\"data row3 col5\" >0.787251</td>\n",
              "    </tr>\n",
              "    <tr>\n",
              "      <th id=\"T_2d0b3_level0_row4\" class=\"row_heading level0 row4\" >region</th>\n",
              "      <td id=\"T_2d0b3_row4_col0\" class=\"data row4 col0\" >0.002127</td>\n",
              "      <td id=\"T_2d0b3_row4_col1\" class=\"data row4 col1\" >0.157566</td>\n",
              "      <td id=\"T_2d0b3_row4_col2\" class=\"data row4 col2\" >0.016569</td>\n",
              "      <td id=\"T_2d0b3_row4_col3\" class=\"data row4 col3\" >-0.002181</td>\n",
              "      <td id=\"T_2d0b3_row4_col4\" class=\"data row4 col4\" >1.000000</td>\n",
              "      <td id=\"T_2d0b3_row4_col5\" class=\"data row4 col5\" >-0.006208</td>\n",
              "    </tr>\n",
              "    <tr>\n",
              "      <th id=\"T_2d0b3_level0_row5\" class=\"row_heading level0 row5\" >charges</th>\n",
              "      <td id=\"T_2d0b3_row5_col0\" class=\"data row5 col0\" >0.299008</td>\n",
              "      <td id=\"T_2d0b3_row5_col1\" class=\"data row5 col1\" >0.198341</td>\n",
              "      <td id=\"T_2d0b3_row5_col2\" class=\"data row5 col2\" >0.067998</td>\n",
              "      <td id=\"T_2d0b3_row5_col3\" class=\"data row5 col3\" >0.787251</td>\n",
              "      <td id=\"T_2d0b3_row5_col4\" class=\"data row5 col4\" >-0.006208</td>\n",
              "      <td id=\"T_2d0b3_row5_col5\" class=\"data row5 col5\" >1.000000</td>\n",
              "    </tr>\n",
              "  </tbody>\n",
              "</table>\n"
            ]
          },
          "metadata": {},
          "execution_count": 27
        }
      ],
      "source": [
        "df.corr().style.background_gradient(cmap=\"Blues\") # YlOrBr Greys GnBu"
      ]
    },
    {
      "cell_type": "markdown",
      "metadata": {
        "id": "uJJdYgtJioN8"
      },
      "source": [
        "# Data Splitting "
      ]
    },
    {
      "cell_type": "code",
      "execution_count": 28,
      "metadata": {
        "colab": {
          "base_uri": "https://localhost:8080/"
        },
        "id": "pIcTc8HcioN8",
        "outputId": "f84368ef-3639-4957-cdf1-027b6b967e63"
      },
      "outputs": [
        {
          "output_type": "stream",
          "name": "stdout",
          "text": [
            "X_train Rows size:  1137\n",
            "X_train Columns size:  5\n",
            "\n",
            "y_train Rows size:  1137\n",
            "\n",
            "X_test Rows size:  201\n",
            "X_test Columns size:  5\n",
            "\n",
            "y_test Rows size:  201\n"
          ]
        }
      ],
      "source": [
        "X = df.drop(target, axis=1)\n",
        "y = df[target]\n",
        "\n",
        "if Random == 'Enable': \n",
        "    X_train, X_test, y_train, y_test = train_test_split(X, y, test_size=Split_size, random_state=Randon_state_size)\n",
        "\n",
        "print('X_train Rows size: ', X_train.shape[0])\n",
        "print('X_train Columns size: ', X_train.shape[1])\n",
        "print('\\ny_train Rows size: ', y_train.shape[0])\n",
        "print('\\nX_test Rows size: ', X_test.shape[0])\n",
        "print('X_test Columns size: ', X_test.shape[1])\n",
        "print('\\ny_test Rows size: ', y_test.shape[0])"
      ]
    },
    {
      "cell_type": "markdown",
      "metadata": {
        "id": "_gLTnydtioN8"
      },
      "source": [
        "# Machine Learning Models "
      ]
    },
    {
      "cell_type": "markdown",
      "metadata": {
        "id": "LWYGC_vaioN8"
      },
      "source": [
        "## Build the Machine Learning Models on "
      ]
    },
    {
      "cell_type": "code",
      "execution_count": 29,
      "metadata": {
        "colab": {
          "base_uri": "https://localhost:8080/"
        },
        "id": "CgBXuEKyioN9",
        "outputId": "6c13f989-f5b6-412c-cf2f-a780bdfe5bc9"
      },
      "outputs": [
        {
          "output_type": "stream",
          "name": "stdout",
          "text": [
            "\n",
            "Random Forest Regressor model trained\n",
            "\n",
            "Gradient Boosting Regressor model trained\n",
            "\n",
            "Histogram-based Gradient Boosting Regression model trained\n",
            "\n",
            "AdaBoost Regressor model trained\n",
            "\n",
            "Extra Trees Regressor model trained\n",
            "\n",
            "K Neighbors Regressor model trained\n",
            "\n",
            "Decision Tree Regressor model trained\n",
            "[02:45:23] WARNING: /workspace/src/objective/regression_obj.cu:152: reg:linear is now deprecated in favor of reg:squarederror.\n",
            "\n",
            "XGBoost Regressors model trained\n",
            "\n",
            "Support Vector Machines Regressors model trained\n",
            "\n",
            "Linear Support Vector Regression model trained\n",
            "\n",
            "Multilayer Perceptron Regressor model trained\n"
          ]
        }
      ],
      "source": [
        "if ML_ST == 'Enable':\n",
        "\n",
        "    # Random Forest Regressor\n",
        "    rf_ST = RandomForestRegressor(random_state = Randon_state_size).fit(X_train, y_train)\n",
        "    print ('\\nRandom Forest Regressor model trained')\n",
        "\n",
        "    # Gradient Boosting Regressor\n",
        "    gb_ST = GradientBoostingRegressor(random_state = Randon_state_size).fit(X_train, y_train)\n",
        "    print ('\\nGradient Boosting Regressor model trained')\n",
        "\n",
        "    # Histogram-based Gradient Boosting Regression\n",
        "    hgb_ST = HistGradientBoostingRegressor(random_state = Randon_state_size).fit(X_train, y_train)\n",
        "    print ('\\nHistogram-based Gradient Boosting Regression model trained')\n",
        "\n",
        "    # AdaBoost Regressor\n",
        "    ad_ST = AdaBoostRegressor(random_state = Randon_state_size).fit(X_train, y_train)\n",
        "    print ('\\nAdaBoost Regressor model trained')\n",
        "\n",
        "    # Extra Trees Regressor\n",
        "    et_ST = ExtraTreesRegressor(random_state = Randon_state_size).fit(X_train, y_train)\n",
        "    print ('\\nExtra Trees Regressor model trained')\n",
        "\n",
        "    # K Neighbors Regressor\n",
        "    knn_ST = KNeighborsRegressor().fit(X_train, y_train)\n",
        "    print ('\\nK Neighbors Regressor model trained')\n",
        "\n",
        "    # Decision Tree Regressor\n",
        "    dt_ST = DecisionTreeRegressor(random_state = Randon_state_size).fit(X_train, y_train)\n",
        "    print ('\\nDecision Tree Regressor model trained')\n",
        "\n",
        "    # XGBoost Regressors\n",
        "    xgb_ST = XGBRegressor(random_state = Randon_state_size).fit(X_train, y_train)\n",
        "    print ('\\nXGBoost Regressors model trained')\n",
        "\n",
        "    # Support Vector Machines Regressors\n",
        "    svm_ST = SVR().fit(X_train, y_train)\n",
        "    print ('\\nSupport Vector Machines Regressors model trained')\n",
        "\n",
        "    # Linear Support Vector Regression\n",
        "    lsvm_ST = LinearSVR(random_state = Randon_state_size).fit(X_train, y_train)\n",
        "    print ('\\nLinear Support Vector Regression model trained')\n",
        "\n",
        "    # Multilayer Perceptron Regressor\n",
        "    mlp_ST = MLPRegressor(random_state = Randon_state_size).fit(X_train, y_train)\n",
        "    print ('\\nMultilayer Perceptron Regressor model trained')"
      ]
    },
    {
      "cell_type": "markdown",
      "metadata": {
        "id": "W3E-Yb_SioN9"
      },
      "source": [
        "## Predict y_test Using Machine Learning  Models"
      ]
    },
    {
      "cell_type": "code",
      "execution_count": 30,
      "metadata": {
        "colab": {
          "base_uri": "https://localhost:8080/"
        },
        "id": "Yai7Da2sioN9",
        "outputId": "c0fdb50e-1a4c-4b91-a5c4-e719b38ebde8"
      },
      "outputs": [
        {
          "output_type": "stream",
          "name": "stdout",
          "text": [
            "\n",
            "Predict y_test using Random Forest Regressor model\n",
            "\n",
            "Predict y_test using Gradient Boosting Regressor model done\n",
            "\n",
            "Predict y_test using Histogram-based Gradient Boosting Regression model done\n",
            "\n",
            "Predict y_test using AdaBoost Regressor model done\n",
            "\n",
            "Predict y_test using Extra Trees Regressor model done\n",
            "\n",
            "Predict y_test using K Neighbors Regressor model done\n",
            "\n",
            "Predict y_test using Decision Tree Regressor model done\n",
            "\n",
            "Predict y_test using XGBoost Regressors model done\n",
            "\n",
            "Predict y_test using Support Vector Machines Regressors model done\n",
            "\n",
            "Predict y_test using Linear Support Vector Regression model done\n",
            "\n",
            "Predict y_test using Multilayer Perceptron Regressor model done\n"
          ]
        }
      ],
      "source": [
        "if ML_ST == 'Enable':\n",
        "\n",
        "    # Random Forest Regressor\n",
        "    rf_ST_pred = rf_ST.predict(X_test)\n",
        "    print ('\\nPredict y_test using Random Forest Regressor model')\n",
        "\n",
        "    # Gradient Boosting Regressor\n",
        "    gb_ST_pred = gb_ST.predict(X_test)\n",
        "    print ('\\nPredict y_test using Gradient Boosting Regressor model done')\n",
        "\n",
        "    # Histogram-based Gradient Boosting Regression Tree\n",
        "    hgb_ST_pred = hgb_ST.predict(X_test)\n",
        "    print ('\\nPredict y_test using Histogram-based Gradient Boosting Regression model done')\n",
        "\n",
        "    # AdaBoost Regressor\n",
        "    ad_ST_pred = ad_ST.predict(X_test)\n",
        "    print ('\\nPredict y_test using AdaBoost Regressor model done')\n",
        "\n",
        "    # Extra Trees Regressor\n",
        "    et_ST_pred = et_ST.predict(X_test)\n",
        "    print ('\\nPredict y_test using Extra Trees Regressor model done')\n",
        "\n",
        "    # K Neighbors Regressor\n",
        "    knn_ST_pred = knn_ST.predict(X_test)\n",
        "    print ('\\nPredict y_test using K Neighbors Regressor model done')\n",
        "\n",
        "    # Decision Tree Regressor\n",
        "    dt_ST_pred = dt_ST.predict(X_test)\n",
        "    print ('\\nPredict y_test using Decision Tree Regressor model done')\n",
        "\n",
        "    # XGBoost Regressors\n",
        "    xgb_ST_pred = xgb_ST.predict(X_test)\n",
        "    print ('\\nPredict y_test using XGBoost Regressors model done')\n",
        "\n",
        "    # Support Vector Machines Regressors\n",
        "    svm_ST_pred = svm_ST.predict(X_test)\n",
        "    print ('\\nPredict y_test using Support Vector Machines Regressors model done')\n",
        "\n",
        "    # Linear Support Vector Regression\n",
        "    lsvm_ST_pred = lsvm_ST.predict(X_test)\n",
        "    print ('\\nPredict y_test using Linear Support Vector Regression model done')\n",
        "\n",
        "    # Multilayer Perceptron Regressor\n",
        "    mlp_ST_pred = mlp_ST.predict(X_test)\n",
        "    print ('\\nPredict y_test using Multilayer Perceptron Regressor model done')"
      ]
    },
    {
      "cell_type": "markdown",
      "metadata": {
        "id": "OU00wlWTioN9"
      },
      "source": [
        "## Evaluate the Models "
      ]
    },
    {
      "cell_type": "markdown",
      "metadata": {
        "id": "iWBNmEqxioN-"
      },
      "source": [
        "### Random Forest Regressor"
      ]
    },
    {
      "cell_type": "code",
      "execution_count": 31,
      "metadata": {
        "colab": {
          "base_uri": "https://localhost:8080/"
        },
        "id": "KhTx2ht0ioN-",
        "outputId": "974ee514-8033-4499-bbdf-341cedc17661"
      },
      "outputs": [
        {
          "output_type": "stream",
          "name": "stdout",
          "text": [
            "+----+--------------------------------------------+------------+\n",
            "|    | Random Forest Regressor Standered Models   |   Accuracy |\n",
            "|----+--------------------------------------------+------------|\n",
            "|  0 | Mean Absolute Error (MAE)                  |  0.20935   |\n",
            "|  1 | Mean Squared Error (MSE)                   |  0.144418  |\n",
            "|  2 | Root Mean Squared Error (RMSE)             |  0.380024  |\n",
            "|  3 | Explained Variance Score                   |  0.863748  |\n",
            "|  4 | Max Error                                  |  1.77539   |\n",
            "|  5 | Median Absolute Error                      |  0.0762792 |\n",
            "|  6 | R^2                                        |  0.861011  |\n",
            "+----+--------------------------------------------+------------+\n"
          ]
        }
      ],
      "source": [
        "if ML_ST == 'Enable':\n",
        "    # Mean Absolute Error (MAE)\n",
        "    mean_absolute_error_rf_ST = mean_absolute_error(y_test, rf_ST_pred)\n",
        "\n",
        "    # Mean Squared Error (MSE)\n",
        "    mean_squared_error_rf_ST = mean_squared_error(y_test, rf_ST_pred)\n",
        "\n",
        "    # Root Mean Squared Error (RMSE)\n",
        "    Root_mean_squared_error_rf_ST = mean_squared_error(y_test, rf_ST_pred, squared=False)\n",
        "\n",
        "    # Explained Variance Score\n",
        "    explained_variance_score_rf_ST = explained_variance_score(y_test, rf_ST_pred)\n",
        "\n",
        "    # Max Error\n",
        "    max_error_rf_ST = max_error(y_test, rf_ST_pred)\n",
        "\n",
        "    # Median Absolute Error\n",
        "    median_absolute_error_rf_ST = median_absolute_error(y_test, rf_ST_pred)\n",
        "\n",
        "    # R^2\n",
        "    r2_score_rf_ST = r2_score(y_test, rf_ST_pred)\n",
        "\n",
        "    _rf_ST_valid_compare = pd.DataFrame({\"Random Forest Regressor Standered Models\": [\n",
        "                                                \"Mean Absolute Error (MAE)\", \n",
        "                                                \"Mean Squared Error (MSE)\",\n",
        "                                                \"Root Mean Squared Error (RMSE)\",\n",
        "                                                \"Explained Variance Score\",\n",
        "                                                \"Max Error\",\n",
        "                                                \"Median Absolute Error\",\n",
        "                                                \"R^2\",\n",
        "                                                ],\n",
        "\n",
        "                                \"Accuracy\": [\n",
        "                                                mean_absolute_error_rf_ST, \n",
        "                                                mean_squared_error_rf_ST,\n",
        "                                                Root_mean_squared_error_rf_ST,\n",
        "                                                explained_variance_score_rf_ST,\n",
        "                                                max_error_rf_ST,\n",
        "                                                median_absolute_error_rf_ST,\n",
        "                                                r2_score_rf_ST,\n",
        "                                                ],\n",
        "                                        })  \n",
        "    print(tabulate(_rf_ST_valid_compare, headers = 'keys', tablefmt = 'psql'))"
      ]
    },
    {
      "cell_type": "markdown",
      "metadata": {
        "id": "gVLGuthLioN-"
      },
      "source": [
        "### Gradient Boosting Regressor"
      ]
    },
    {
      "cell_type": "code",
      "execution_count": 32,
      "metadata": {
        "colab": {
          "base_uri": "https://localhost:8080/"
        },
        "id": "4ePD-j9FioN-",
        "outputId": "838c34e4-15dc-46ef-ea50-2f2f8dadafad"
      },
      "outputs": [
        {
          "output_type": "stream",
          "name": "stdout",
          "text": [
            "+----+------------------------------------------------+------------+\n",
            "|    | Gradient Boosting Regressor Standered Models   |   Accuracy |\n",
            "|----+------------------------------------------------+------------|\n",
            "|  0 | Mean Absolute Error (MAE)                      |   0.194735 |\n",
            "|  1 | Mean Squared Error (MSE)                       |   0.126775 |\n",
            "|  2 | Root Mean Squared Error (RMSE)                 |   0.356054 |\n",
            "|  3 | Explained Variance Score                       |   0.878642 |\n",
            "|  4 | Max Error                                      |   1.76505  |\n",
            "|  5 | Median Absolute Error                          |   0.123757 |\n",
            "|  6 | R^2                                            |   0.877992 |\n",
            "+----+------------------------------------------------+------------+\n"
          ]
        }
      ],
      "source": [
        "if ML_ST == 'Enable':\n",
        "    \n",
        "    # Mean Absolute Error (MAE)\n",
        "    mean_absolute_error_gb_ST = mean_absolute_error(y_test, gb_ST_pred)\n",
        "\n",
        "    # Mean Squared Error (MSE)\n",
        "    mean_squared_error_gb_ST = mean_squared_error(y_test, gb_ST_pred)\n",
        "\n",
        "    # Root Mean Squared Error (RMSE)\n",
        "    Root_mean_squared_error_gb_ST = mean_squared_error(y_test, gb_ST_pred, squared=False)\n",
        "\n",
        "    # Explained Variance Score\n",
        "    explained_variance_score_gb_ST = explained_variance_score(y_test, gb_ST_pred)\n",
        "\n",
        "    # Max Error\n",
        "    max_error_gb_ST = max_error(y_test, gb_ST_pred)\n",
        "\n",
        "    # Median Absolute Error\n",
        "    median_absolute_error_gb_ST = median_absolute_error(y_test, gb_ST_pred)\n",
        "\n",
        "    # R^2\n",
        "    r2_score_gb_ST = r2_score(y_test, gb_ST_pred)\n",
        "\n",
        "    _gb_ST_valid_compare = pd.DataFrame({\"Gradient Boosting Regressor Standered Models\": [\n",
        "                                                \"Mean Absolute Error (MAE)\", \n",
        "                                                \"Mean Squared Error (MSE)\",\n",
        "                                                \"Root Mean Squared Error (RMSE)\",\n",
        "                                                \"Explained Variance Score\",\n",
        "                                                \"Max Error\",\n",
        "                                                \"Median Absolute Error\",\n",
        "                                                \"R^2\",\n",
        "                                                ],\n",
        "\n",
        "                                \"Accuracy\": [\n",
        "                                                mean_absolute_error_gb_ST, \n",
        "                                                mean_squared_error_gb_ST,\n",
        "                                                Root_mean_squared_error_gb_ST,\n",
        "                                                explained_variance_score_gb_ST,\n",
        "                                                max_error_gb_ST,\n",
        "                                                median_absolute_error_gb_ST,\n",
        "                                                r2_score_gb_ST,\n",
        "                                                ],\n",
        "                                        })  \n",
        "    print(tabulate(_gb_ST_valid_compare, headers = 'keys', tablefmt = 'psql'))"
      ]
    },
    {
      "cell_type": "markdown",
      "metadata": {
        "id": "tW0ftAcjioN_"
      },
      "source": [
        "### Histogram-based Gradient Boosting Regressor"
      ]
    },
    {
      "cell_type": "code",
      "execution_count": 33,
      "metadata": {
        "colab": {
          "base_uri": "https://localhost:8080/"
        },
        "id": "W0Brlz57ioN_",
        "outputId": "a31969c7-5898-4f19-f769-e87e67f9125d"
      },
      "outputs": [
        {
          "output_type": "stream",
          "name": "stdout",
          "text": [
            "+----+----------------------------------------------------------------+------------+\n",
            "|    | Histogram-based Gradient Boosting Regressor Standered Models   |   Accuracy |\n",
            "|----+----------------------------------------------------------------+------------|\n",
            "|  0 | Mean Absolute Error (MAE)                                      |   0.211807 |\n",
            "|  1 | Mean Squared Error (MSE)                                       |   0.133453 |\n",
            "|  2 | Root Mean Squared Error (RMSE)                                 |   0.365312 |\n",
            "|  3 | Explained Variance Score                                       |   0.872182 |\n",
            "|  4 | Max Error                                                      |   1.81468  |\n",
            "|  5 | Median Absolute Error                                          |   0.114714 |\n",
            "|  6 | R^2                                                            |   0.871565 |\n",
            "+----+----------------------------------------------------------------+------------+\n"
          ]
        }
      ],
      "source": [
        "if ML_ST == 'Enable':\n",
        "    \n",
        "    # Mean Absolute Error (MAE)\n",
        "    mean_absolute_error_hgb_ST = mean_absolute_error(y_test, hgb_ST_pred)\n",
        "\n",
        "    # Mean Squared Error (MSE)\n",
        "    mean_squared_error_hgb_ST = mean_squared_error(y_test, hgb_ST_pred)\n",
        "\n",
        "    # Root Mean Squared Error (RMSE)\n",
        "    Root_mean_squared_error_hgb_ST = mean_squared_error(y_test, hgb_ST_pred, squared=False)\n",
        "\n",
        "    # Explained Variance Score\n",
        "    explained_variance_score_hgb_ST = explained_variance_score(y_test, hgb_ST_pred)\n",
        "\n",
        "    # Max Error\n",
        "    max_error_hgb_ST = max_error(y_test, hgb_ST_pred)\n",
        "\n",
        "    # Median Absolute Error\n",
        "    median_absolute_error_hgb_ST = median_absolute_error(y_test, hgb_ST_pred)\n",
        "\n",
        "    # R^2\n",
        "    r2_score_hgb_ST = r2_score(y_test, hgb_ST_pred)\n",
        "\n",
        "    _hgb_ST_valid_compare = pd.DataFrame({\"Histogram-based Gradient Boosting Regressor Standered Models\": [\n",
        "                                                \"Mean Absolute Error (MAE)\", \n",
        "                                                \"Mean Squared Error (MSE)\",\n",
        "                                                \"Root Mean Squared Error (RMSE)\",\n",
        "                                                \"Explained Variance Score\",\n",
        "                                                \"Max Error\",\n",
        "                                                \"Median Absolute Error\",\n",
        "                                                \"R^2\",\n",
        "                                                ],\n",
        "\n",
        "                                \"Accuracy\": [\n",
        "                                                mean_absolute_error_hgb_ST, \n",
        "                                                mean_squared_error_hgb_ST,\n",
        "                                                Root_mean_squared_error_hgb_ST,\n",
        "                                                explained_variance_score_hgb_ST,\n",
        "                                                max_error_hgb_ST,\n",
        "                                                median_absolute_error_hgb_ST,\n",
        "                                                r2_score_hgb_ST,\n",
        "                                                ],\n",
        "                                        })  \n",
        "    print(tabulate(_hgb_ST_valid_compare, headers = 'keys', tablefmt = 'psql'))"
      ]
    },
    {
      "cell_type": "markdown",
      "metadata": {
        "id": "5w9Y-NFmioN_"
      },
      "source": [
        "### AdaBoost Regressor"
      ]
    },
    {
      "cell_type": "code",
      "execution_count": 34,
      "metadata": {
        "colab": {
          "base_uri": "https://localhost:8080/"
        },
        "id": "UnKOH367ioOA",
        "outputId": "78cb489e-d346-401c-e9f3-474ca7870eb3"
      },
      "outputs": [
        {
          "output_type": "stream",
          "name": "stdout",
          "text": [
            "+----+---------------------------------------+------------+\n",
            "|    | AdaBoost Regressor Standered Models   |   Accuracy |\n",
            "|----+---------------------------------------+------------|\n",
            "|  0 | Mean Absolute Error (MAE)             |   0.314258 |\n",
            "|  1 | Mean Squared Error (MSE)              |   0.174562 |\n",
            "|  2 | Root Mean Squared Error (RMSE)        |   0.417806 |\n",
            "|  3 | Explained Variance Score              |   0.855575 |\n",
            "|  4 | Max Error                             |   1.98066  |\n",
            "|  5 | Median Absolute Error                 |   0.261738 |\n",
            "|  6 | R^2                                   |   0.832001 |\n",
            "+----+---------------------------------------+------------+\n"
          ]
        }
      ],
      "source": [
        "if ML_ST == 'Enable':\n",
        "    \n",
        "    # Mean Absolute Error (MAE)\n",
        "    mean_absolute_error_ad_ST = mean_absolute_error(y_test, ad_ST_pred)\n",
        "\n",
        "    # Mean Squared Error (MSE)\n",
        "    mean_squared_error_ad_ST = mean_squared_error(y_test, ad_ST_pred)\n",
        "\n",
        "    # Root Mean Squared Error (RMSE)\n",
        "    Root_mean_squared_error_ad_ST = mean_squared_error(y_test, ad_ST_pred, squared=False)\n",
        "\n",
        "    # Explained Variance Score\n",
        "    explained_variance_score_ad_ST = explained_variance_score(y_test, ad_ST_pred)\n",
        "\n",
        "    # Max Error\n",
        "    max_error_ad_ST = max_error(y_test, ad_ST_pred)\n",
        "\n",
        "    # Median Absolute Error\n",
        "    median_absolute_error_ad_ST = median_absolute_error(y_test, ad_ST_pred)\n",
        "\n",
        "    # R^2\n",
        "    r2_score_ad_ST = r2_score(y_test, ad_ST_pred)\n",
        "\n",
        "    _ad_ST_valid_compare = pd.DataFrame({\"AdaBoost Regressor Standered Models\": [\n",
        "                                                \"Mean Absolute Error (MAE)\", \n",
        "                                                \"Mean Squared Error (MSE)\",\n",
        "                                                \"Root Mean Squared Error (RMSE)\",\n",
        "                                                \"Explained Variance Score\",\n",
        "                                                \"Max Error\",\n",
        "                                                \"Median Absolute Error\",\n",
        "                                                \"R^2\",\n",
        "                                                ],\n",
        "\n",
        "                                \"Accuracy\": [\n",
        "                                                mean_absolute_error_ad_ST, \n",
        "                                                mean_squared_error_ad_ST,\n",
        "                                                Root_mean_squared_error_ad_ST,\n",
        "                                                explained_variance_score_ad_ST,\n",
        "                                                max_error_ad_ST,\n",
        "                                                median_absolute_error_ad_ST,\n",
        "                                                r2_score_ad_ST,\n",
        "                                                ],\n",
        "                                        })  \n",
        "    print(tabulate(_ad_ST_valid_compare, headers = 'keys', tablefmt = 'psql'))"
      ]
    },
    {
      "cell_type": "markdown",
      "metadata": {
        "id": "kSSLGnMRioOA"
      },
      "source": [
        "### Extra Trees Regressor"
      ]
    },
    {
      "cell_type": "code",
      "execution_count": 35,
      "metadata": {
        "colab": {
          "base_uri": "https://localhost:8080/"
        },
        "id": "kJ5086CEioOA",
        "outputId": "2265f0a6-9b55-4880-fd29-7acc9f9e8b24"
      },
      "outputs": [
        {
          "output_type": "stream",
          "name": "stdout",
          "text": [
            "+----+------------------------------------------+------------+\n",
            "|    | Extra Trees Regressor Standered Models   |   Accuracy |\n",
            "|----+------------------------------------------+------------|\n",
            "|  0 | Mean Absolute Error (MAE)                |  0.207782  |\n",
            "|  1 | Mean Squared Error (MSE)                 |  0.159358  |\n",
            "|  2 | Root Mean Squared Error (RMSE)           |  0.399196  |\n",
            "|  3 | Explained Variance Score                 |  0.848597  |\n",
            "|  4 | Max Error                                |  1.81181   |\n",
            "|  5 | Median Absolute Error                    |  0.0618925 |\n",
            "|  6 | R^2                                      |  0.846634  |\n",
            "+----+------------------------------------------+------------+\n"
          ]
        }
      ],
      "source": [
        "if ML_ST == 'Enable':\n",
        "    \n",
        "    # Mean Absolute Error (MAE)\n",
        "    mean_absolute_error_et_ST = mean_absolute_error(y_test, et_ST_pred)\n",
        "\n",
        "    # Mean Squared Error (MSE)\n",
        "    mean_squared_error_et_ST = mean_squared_error(y_test, et_ST_pred)\n",
        "\n",
        "    # Root Mean Squared Error (RMSE)\n",
        "    Root_mean_squared_error_et_ST = mean_squared_error(y_test, et_ST_pred, squared=False)\n",
        "\n",
        "    # Explained Variance Score\n",
        "    explained_variance_score_et_ST = explained_variance_score(y_test, et_ST_pred)\n",
        "\n",
        "    # Max Error\n",
        "    max_error_et_ST = max_error(y_test, et_ST_pred)\n",
        "\n",
        "    # Median Absolute Error\n",
        "    median_absolute_error_et_ST = median_absolute_error(y_test, et_ST_pred)\n",
        "\n",
        "    # R^2\n",
        "    r2_score_et_ST = r2_score(y_test, et_ST_pred)\n",
        "\n",
        "    _et_ST_valid_compare = pd.DataFrame({\"Extra Trees Regressor Standered Models\": [\n",
        "                                                \"Mean Absolute Error (MAE)\", \n",
        "                                                \"Mean Squared Error (MSE)\",\n",
        "                                                \"Root Mean Squared Error (RMSE)\",\n",
        "                                                \"Explained Variance Score\",\n",
        "                                                \"Max Error\",\n",
        "                                                \"Median Absolute Error\",\n",
        "                                                \"R^2\",\n",
        "                                                ],\n",
        "\n",
        "                                \"Accuracy\": [\n",
        "                                                mean_absolute_error_et_ST, \n",
        "                                                mean_squared_error_et_ST,\n",
        "                                                Root_mean_squared_error_et_ST,\n",
        "                                                explained_variance_score_et_ST,\n",
        "                                                max_error_et_ST,\n",
        "                                                median_absolute_error_et_ST,\n",
        "                                                r2_score_et_ST,\n",
        "                                                ],\n",
        "                                        })  \n",
        "    print(tabulate(_et_ST_valid_compare, headers = 'keys', tablefmt = 'psql'))"
      ]
    },
    {
      "cell_type": "markdown",
      "metadata": {
        "id": "iGAmliIIioOB"
      },
      "source": [
        "### K Neighbors Regressor"
      ]
    },
    {
      "cell_type": "code",
      "execution_count": 36,
      "metadata": {
        "colab": {
          "base_uri": "https://localhost:8080/"
        },
        "id": "jFSnaciTioOB",
        "outputId": "49e1fc52-0604-4a18-bc46-b6a659154b77"
      },
      "outputs": [
        {
          "output_type": "stream",
          "name": "stdout",
          "text": [
            "+----+------------------------------------------+------------+\n",
            "|    | K Neighbors Regressor Standered Models   |   Accuracy |\n",
            "|----+------------------------------------------+------------|\n",
            "|  0 | Mean Absolute Error (MAE)                |   0.264627 |\n",
            "|  1 | Mean Squared Error (MSE)                 |   0.198132 |\n",
            "|  2 | Root Mean Squared Error (RMSE)           |   0.44512  |\n",
            "|  3 | Explained Variance Score                 |   0.809882 |\n",
            "|  4 | Max Error                                |   2.18718  |\n",
            "|  5 | Median Absolute Error                    |   0.136426 |\n",
            "|  6 | R^2                                      |   0.809318 |\n",
            "+----+------------------------------------------+------------+\n"
          ]
        }
      ],
      "source": [
        "if ML_ST == 'Enable':\n",
        "    \n",
        "    # Mean Absolute Error (MAE)\n",
        "    mean_absolute_error_knn_ST = mean_absolute_error(y_test, knn_ST_pred)\n",
        "\n",
        "    # Mean Squared Error (MSE)\n",
        "    mean_squared_error_knn_ST = mean_squared_error(y_test, knn_ST_pred)\n",
        "\n",
        "    # Root Mean Squared Error (RMSE)\n",
        "    Root_mean_squared_error_knn_ST = mean_squared_error(y_test, knn_ST_pred, squared=False)\n",
        "\n",
        "    # Explained Variance Score\n",
        "    explained_variance_score_knn_ST = explained_variance_score(y_test, knn_ST_pred)\n",
        "\n",
        "    # Max Error\n",
        "    max_error_knn_ST = max_error(y_test, knn_ST_pred)\n",
        "\n",
        "    # Median Absolute Error\n",
        "    median_absolute_error_knn_ST = median_absolute_error(y_test, knn_ST_pred)\n",
        "\n",
        "    # R^2\n",
        "    r2_score_knn_ST = r2_score(y_test, knn_ST_pred)\n",
        "\n",
        "    _knn_ST_valid_compare = pd.DataFrame({\"K Neighbors Regressor Standered Models\": [\n",
        "                                                \"Mean Absolute Error (MAE)\", \n",
        "                                                \"Mean Squared Error (MSE)\",\n",
        "                                                \"Root Mean Squared Error (RMSE)\",\n",
        "                                                \"Explained Variance Score\",\n",
        "                                                \"Max Error\",\n",
        "                                                \"Median Absolute Error\",\n",
        "                                                \"R^2\",\n",
        "                                                ],\n",
        "\n",
        "                                \"Accuracy\": [\n",
        "                                                mean_absolute_error_knn_ST, \n",
        "                                                mean_squared_error_knn_ST,\n",
        "                                                Root_mean_squared_error_knn_ST,\n",
        "                                                explained_variance_score_knn_ST,\n",
        "                                                max_error_knn_ST,\n",
        "                                                median_absolute_error_knn_ST,\n",
        "                                                r2_score_knn_ST,\n",
        "                                                ],\n",
        "                                        })  \n",
        "    print(tabulate(_knn_ST_valid_compare, headers = 'keys', tablefmt = 'psql'))"
      ]
    },
    {
      "cell_type": "markdown",
      "metadata": {
        "id": "XoCiRAR3ioOB"
      },
      "source": [
        "### Decision Tree Regressor"
      ]
    },
    {
      "cell_type": "code",
      "execution_count": 37,
      "metadata": {
        "colab": {
          "base_uri": "https://localhost:8080/"
        },
        "id": "yaqdkZwRioOB",
        "outputId": "07f1b609-db4b-4860-caf8-b7d8c278e442"
      },
      "outputs": [
        {
          "output_type": "stream",
          "name": "stdout",
          "text": [
            "+----+--------------------------------------------+------------+\n",
            "|    | Decision Tree Regressor Standered Models   |   Accuracy |\n",
            "|----+--------------------------------------------+------------|\n",
            "|  0 | Mean Absolute Error (MAE)                  |  0.229095  |\n",
            "|  1 | Mean Squared Error (MSE)                   |  0.252866  |\n",
            "|  2 | Root Mean Squared Error (RMSE)             |  0.502858  |\n",
            "|  3 | Explained Variance Score                   |  0.757939  |\n",
            "|  4 | Max Error                                  |  2.02912   |\n",
            "|  5 | Median Absolute Error                      |  0.0404294 |\n",
            "|  6 | R^2                                        |  0.756641  |\n",
            "+----+--------------------------------------------+------------+\n"
          ]
        }
      ],
      "source": [
        "if ML_ST == 'Enable':\n",
        "    \n",
        "    # Mean Absolute Error (MAE)\n",
        "    mean_absolute_error_dt_ST = mean_absolute_error(y_test, dt_ST_pred)\n",
        "\n",
        "    # Mean Squared Error (MSE)\n",
        "    mean_squared_error_dt_ST = mean_squared_error(y_test, dt_ST_pred)\n",
        "\n",
        "    # Root Mean Squared Error (RMSE)\n",
        "    Root_mean_squared_error_dt_ST = mean_squared_error(y_test, dt_ST_pred, squared=False)\n",
        "\n",
        "    # Explained Variance Score\n",
        "    explained_variance_score_dt_ST = explained_variance_score(y_test, dt_ST_pred)\n",
        "\n",
        "    # Max Error\n",
        "    max_error_dt_ST = max_error(y_test, dt_ST_pred)\n",
        "\n",
        "    # Median Absolute Error\n",
        "    median_absolute_error_dt_ST = median_absolute_error(y_test, dt_ST_pred)\n",
        "\n",
        "    # R^2\n",
        "    r2_score_dt_ST = r2_score(y_test, dt_ST_pred)\n",
        "\n",
        "    _dt_ST_valid_compare = pd.DataFrame({\"Decision Tree Regressor Standered Models\": [\n",
        "                                                \"Mean Absolute Error (MAE)\", \n",
        "                                                \"Mean Squared Error (MSE)\",\n",
        "                                                \"Root Mean Squared Error (RMSE)\",\n",
        "                                                \"Explained Variance Score\",\n",
        "                                                \"Max Error\",\n",
        "                                                \"Median Absolute Error\",\n",
        "                                                \"R^2\",\n",
        "                                                ],\n",
        "\n",
        "                                \"Accuracy\": [\n",
        "                                                mean_absolute_error_dt_ST, \n",
        "                                                mean_squared_error_dt_ST,\n",
        "                                                Root_mean_squared_error_dt_ST,\n",
        "                                                explained_variance_score_dt_ST,\n",
        "                                                max_error_dt_ST,\n",
        "                                                median_absolute_error_dt_ST,\n",
        "                                                r2_score_dt_ST,\n",
        "                                                ],\n",
        "                                        })  \n",
        "    print(tabulate(_dt_ST_valid_compare, headers = 'keys', tablefmt = 'psql'))"
      ]
    },
    {
      "cell_type": "markdown",
      "metadata": {
        "id": "35E3zRaKioOC"
      },
      "source": [
        "### XGBoost Regressor"
      ]
    },
    {
      "cell_type": "code",
      "execution_count": 38,
      "metadata": {
        "colab": {
          "base_uri": "https://localhost:8080/"
        },
        "id": "yawl49aEioOC",
        "outputId": "90b0539a-44f4-43b6-f3d6-472d88facc2f"
      },
      "outputs": [
        {
          "output_type": "stream",
          "name": "stdout",
          "text": [
            "+----+--------------------------------------+------------+\n",
            "|    | XGBoost Regressor Standered Models   |   Accuracy |\n",
            "|----+--------------------------------------+------------|\n",
            "|  0 | Mean Absolute Error (MAE)            |   0.193936 |\n",
            "|  1 | Mean Squared Error (MSE)             |   0.124683 |\n",
            "|  2 | Root Mean Squared Error (RMSE)       |   0.353105 |\n",
            "|  3 | Explained Variance Score             |   0.880713 |\n",
            "|  4 | Max Error                            |   1.75193  |\n",
            "|  5 | Median Absolute Error                |   0.119875 |\n",
            "|  6 | R^2                                  |   0.880005 |\n",
            "+----+--------------------------------------+------------+\n"
          ]
        }
      ],
      "source": [
        "if ML_ST == 'Enable':\n",
        "    \n",
        "    # Mean Absolute Error (MAE)\n",
        "    mean_absolute_error_xgb_ST = mean_absolute_error(y_test, xgb_ST_pred)\n",
        "\n",
        "    # Mean Squared Error (MSE)\n",
        "    mean_squared_error_xgb_ST = mean_squared_error(y_test, xgb_ST_pred)\n",
        "\n",
        "    # Root Mean Squared Error (RMSE)\n",
        "    Root_mean_squared_error_xgb_ST = mean_squared_error(y_test, xgb_ST_pred, squared=False)\n",
        "\n",
        "    # Explained Variance Score\n",
        "    explained_variance_score_xgb_ST = explained_variance_score(y_test, xgb_ST_pred)\n",
        "\n",
        "    # Max Error\n",
        "    max_error_xgb_ST = max_error(y_test, xgb_ST_pred)\n",
        "\n",
        "    # Median Absolute Error\n",
        "    median_absolute_error_xgb_ST = median_absolute_error(y_test, xgb_ST_pred)\n",
        "\n",
        "    # R^2\n",
        "    r2_score_xgb_ST = r2_score(y_test, xgb_ST_pred)\n",
        "\n",
        "    _xgb_ST_valid_compare = pd.DataFrame({\"XGBoost Regressor Standered Models\": [\n",
        "                                                \"Mean Absolute Error (MAE)\", \n",
        "                                                \"Mean Squared Error (MSE)\",\n",
        "                                                \"Root Mean Squared Error (RMSE)\",\n",
        "                                                \"Explained Variance Score\",\n",
        "                                                \"Max Error\",\n",
        "                                                \"Median Absolute Error\",\n",
        "                                                \"R^2\",\n",
        "                                                ],\n",
        "\n",
        "                                \"Accuracy\": [\n",
        "                                                mean_absolute_error_xgb_ST, \n",
        "                                                mean_squared_error_xgb_ST,\n",
        "                                                Root_mean_squared_error_xgb_ST,\n",
        "                                                explained_variance_score_xgb_ST,\n",
        "                                                max_error_xgb_ST,\n",
        "                                                median_absolute_error_xgb_ST,\n",
        "                                                r2_score_xgb_ST,\n",
        "                                                ],\n",
        "                                        })  \n",
        "    print(tabulate(_xgb_ST_valid_compare, headers = 'keys', tablefmt = 'psql'))"
      ]
    },
    {
      "cell_type": "markdown",
      "metadata": {
        "id": "WkE66XigioOC"
      },
      "source": [
        "### Support Vector Regressor"
      ]
    },
    {
      "cell_type": "code",
      "execution_count": 39,
      "metadata": {
        "colab": {
          "base_uri": "https://localhost:8080/"
        },
        "id": "bT9luIrLioOC",
        "outputId": "e753269b-ac57-4def-946e-f42c54724241"
      },
      "outputs": [
        {
          "output_type": "stream",
          "name": "stdout",
          "text": [
            "+----+---------------------------------------------+------------+\n",
            "|    | Support Vector Regressor Standered Models   |   Accuracy |\n",
            "|----+---------------------------------------------+------------|\n",
            "|  0 | Mean Absolute Error (MAE)                   |   0.193021 |\n",
            "|  1 | Mean Squared Error (MSE)                    |   0.145495 |\n",
            "|  2 | Root Mean Squared Error (RMSE)              |   0.381438 |\n",
            "|  3 | Explained Variance Score                    |   0.862175 |\n",
            "|  4 | Max Error                                   |   1.76736  |\n",
            "|  5 | Median Absolute Error                       |   0.077304 |\n",
            "|  6 | R^2                                         |   0.859976 |\n",
            "+----+---------------------------------------------+------------+\n"
          ]
        }
      ],
      "source": [
        "if ML_ST == 'Enable':\n",
        "    \n",
        "    # Mean Absolute Error (MAE)\n",
        "    mean_absolute_error_svm_ST = mean_absolute_error(y_test, svm_ST_pred)\n",
        "\n",
        "    # Mean Squared Error (MSE)\n",
        "    mean_squared_error_svm_ST = mean_squared_error(y_test, svm_ST_pred)\n",
        "\n",
        "    # Root Mean Squared Error (RMSE)\n",
        "    Root_mean_squared_error_svm_ST = mean_squared_error(y_test, svm_ST_pred, squared=False)\n",
        "\n",
        "    # Explained Variance Score\n",
        "    explained_variance_score_svm_ST = explained_variance_score(y_test, svm_ST_pred)\n",
        "\n",
        "    # Max Error\n",
        "    max_error_svm_ST = max_error(y_test, svm_ST_pred)\n",
        "\n",
        "    # Median Absolute Error\n",
        "    median_absolute_error_svm_ST = median_absolute_error(y_test, svm_ST_pred)\n",
        "\n",
        "    # R^2\n",
        "    r2_score_svm_ST = r2_score(y_test, svm_ST_pred)\n",
        "\n",
        "    _svm_ST_valid_compare = pd.DataFrame({\"Support Vector Regressor Standered Models\": [\n",
        "                                                \"Mean Absolute Error (MAE)\", \n",
        "                                                \"Mean Squared Error (MSE)\",\n",
        "                                                \"Root Mean Squared Error (RMSE)\",\n",
        "                                                \"Explained Variance Score\",\n",
        "                                                \"Max Error\",\n",
        "                                                \"Median Absolute Error\",\n",
        "                                                \"R^2\",\n",
        "                                                ],\n",
        "\n",
        "                                \"Accuracy\": [\n",
        "                                                mean_absolute_error_svm_ST, \n",
        "                                                mean_squared_error_svm_ST,\n",
        "                                                Root_mean_squared_error_svm_ST,\n",
        "                                                explained_variance_score_svm_ST,\n",
        "                                                max_error_svm_ST,\n",
        "                                                median_absolute_error_svm_ST,\n",
        "                                                r2_score_svm_ST,\n",
        "                                                ],\n",
        "                                        })  \n",
        "    print(tabulate(_svm_ST_valid_compare, headers = 'keys', tablefmt = 'psql'))"
      ]
    },
    {
      "cell_type": "markdown",
      "metadata": {
        "id": "bQaG_PB9ioOD"
      },
      "source": [
        "### Linear Support Vector Regressor"
      ]
    },
    {
      "cell_type": "code",
      "execution_count": 40,
      "metadata": {
        "colab": {
          "base_uri": "https://localhost:8080/"
        },
        "id": "oX8bQCm9ioOD",
        "outputId": "57b1b8dd-e2cf-47c9-c724-9aa574e15180"
      },
      "outputs": [
        {
          "output_type": "stream",
          "name": "stdout",
          "text": [
            "+----+----------------------------------------------------+------------+\n",
            "|    | Linear Support Vector Regressor Standered Models   |   Accuracy |\n",
            "|----+----------------------------------------------------+------------|\n",
            "|  0 | Mean Absolute Error (MAE)                          |  0.260278  |\n",
            "|  1 | Mean Squared Error (MSE)                           |  0.291599  |\n",
            "|  2 | Root Mean Squared Error (RMSE)                     |  0.539999  |\n",
            "|  3 | Explained Variance Score                           |  0.720193  |\n",
            "|  4 | Max Error                                          |  1.84137   |\n",
            "|  5 | Median Absolute Error                              |  0.0525081 |\n",
            "|  6 | R^2                                                |  0.719365  |\n",
            "+----+----------------------------------------------------+------------+\n"
          ]
        }
      ],
      "source": [
        "if ML_ST == 'Enable':\n",
        "    \n",
        "    # Mean Absolute Error (MAE)\n",
        "    mean_absolute_error_lsvm_ST = mean_absolute_error(y_test, lsvm_ST_pred)\n",
        "\n",
        "    # Mean Squared Error (MSE)\n",
        "    mean_squared_error_lsvm_ST = mean_squared_error(y_test, lsvm_ST_pred)\n",
        "\n",
        "    # Root Mean Squared Error (RMSE)\n",
        "    Root_mean_squared_error_lsvm_ST = mean_squared_error(y_test, lsvm_ST_pred, squared=False)\n",
        "\n",
        "    # Explained Variance Score\n",
        "    explained_variance_score_lsvm_ST = explained_variance_score(y_test, lsvm_ST_pred)\n",
        "\n",
        "    # Max Error\n",
        "    max_error_lsvm_ST = max_error(y_test, lsvm_ST_pred)\n",
        "\n",
        "    # Median Absolute Error\n",
        "    median_absolute_error_lsvm_ST = median_absolute_error(y_test, lsvm_ST_pred)\n",
        "\n",
        "    # R^2\n",
        "    r2_score_lsvm_ST = r2_score(y_test, lsvm_ST_pred)\n",
        "\n",
        "    _lsvm_ST_valid_compare = pd.DataFrame({\"Linear Support Vector Regressor Standered Models\": [\n",
        "                                                \"Mean Absolute Error (MAE)\", \n",
        "                                                \"Mean Squared Error (MSE)\",\n",
        "                                                \"Root Mean Squared Error (RMSE)\",\n",
        "                                                \"Explained Variance Score\",\n",
        "                                                \"Max Error\",\n",
        "                                                \"Median Absolute Error\",\n",
        "                                                \"R^2\",\n",
        "                                                ],\n",
        "\n",
        "                                \"Accuracy\": [\n",
        "                                                mean_absolute_error_lsvm_ST, \n",
        "                                                mean_squared_error_lsvm_ST,\n",
        "                                                Root_mean_squared_error_lsvm_ST,\n",
        "                                                explained_variance_score_lsvm_ST,\n",
        "                                                max_error_lsvm_ST,\n",
        "                                                median_absolute_error_lsvm_ST,\n",
        "                                                r2_score_lsvm_ST,\n",
        "                                                ],\n",
        "                                        })  \n",
        "    print(tabulate(_lsvm_ST_valid_compare, headers = 'keys', tablefmt = 'psql'))"
      ]
    },
    {
      "cell_type": "markdown",
      "metadata": {
        "id": "kR5WZyaoioOD"
      },
      "source": [
        "### Multilayer Perceptron Regressor"
      ]
    },
    {
      "cell_type": "code",
      "execution_count": 41,
      "metadata": {
        "colab": {
          "base_uri": "https://localhost:8080/"
        },
        "id": "pKbXa6HiioOD",
        "outputId": "da51b4f3-2919-4e26-cdb3-094b2fc83e73"
      },
      "outputs": [
        {
          "output_type": "stream",
          "name": "stdout",
          "text": [
            "+----+----------------------------------------------------+------------+\n",
            "|    | Multilayer Perceptron Regressor Standered Models   |   Accuracy |\n",
            "|----+----------------------------------------------------+------------|\n",
            "|  0 | Mean Absolute Error (MAE)                          |   0.208542 |\n",
            "|  1 | Mean Squared Error (MSE)                           |   0.129228 |\n",
            "|  2 | Root Mean Squared Error (RMSE)                     |   0.359482 |\n",
            "|  3 | Explained Variance Score                           |   0.876428 |\n",
            "|  4 | Max Error                                          |   1.68171  |\n",
            "|  5 | Median Absolute Error                              |   0.128272 |\n",
            "|  6 | R^2                                                |   0.875631 |\n",
            "+----+----------------------------------------------------+------------+\n"
          ]
        }
      ],
      "source": [
        "if ML_ST == 'Enable':\n",
        "    \n",
        "    # Mean Absolute Error (MAE)\n",
        "    mean_absolute_error_mlp_ST = mean_absolute_error(y_test, mlp_ST_pred)\n",
        "\n",
        "    # Mean Squared Error (MSE)\n",
        "    mean_squared_error_mlp_ST = mean_squared_error(y_test, mlp_ST_pred)\n",
        "\n",
        "    # Root Mean Squared Error (RMSE)\n",
        "    Root_mean_squared_error_mlp_ST = mean_squared_error(y_test, mlp_ST_pred, squared=False)\n",
        "\n",
        "    # Explained Variance Score\n",
        "    explained_variance_score_mlp_ST = explained_variance_score(y_test, mlp_ST_pred)\n",
        "\n",
        "    # Max Error\n",
        "    max_error_mlp_ST = max_error(y_test, mlp_ST_pred)\n",
        "\n",
        "    # Median Absolute Error\n",
        "    median_absolute_error_mlp_ST = median_absolute_error(y_test, mlp_ST_pred)\n",
        "\n",
        "    # R^2\n",
        "    r2_score_mlp_ST = r2_score(y_test, mlp_ST_pred)\n",
        "\n",
        "    _mlp_ST_valid_compare = pd.DataFrame({\"Multilayer Perceptron Regressor Standered Models\": [\n",
        "                                                \"Mean Absolute Error (MAE)\", \n",
        "                                                \"Mean Squared Error (MSE)\",\n",
        "                                                \"Root Mean Squared Error (RMSE)\",\n",
        "                                                \"Explained Variance Score\",\n",
        "                                                \"Max Error\",\n",
        "                                                \"Median Absolute Error\",\n",
        "                                                \"R^2\",\n",
        "                                                ],\n",
        "\n",
        "                                \"Accuracy\": [\n",
        "                                                mean_absolute_error_mlp_ST, \n",
        "                                                mean_squared_error_mlp_ST,\n",
        "                                                Root_mean_squared_error_mlp_ST,\n",
        "                                                explained_variance_score_mlp_ST,\n",
        "                                                max_error_mlp_ST,\n",
        "                                                median_absolute_error_mlp_ST,\n",
        "                                                r2_score_mlp_ST,\n",
        "                                                ],\n",
        "                                        })  \n",
        "    print(tabulate(_mlp_ST_valid_compare, headers = 'keys', tablefmt = 'psql'))"
      ]
    },
    {
      "cell_type": "markdown",
      "metadata": {
        "id": "OkmFCMSwioOE"
      },
      "source": [
        "# Machine Learning Models Optimization"
      ]
    },
    {
      "cell_type": "markdown",
      "metadata": {
        "id": "HQqCSKHmioOE"
      },
      "source": [
        "##  random grid for  Models"
      ]
    },
    {
      "cell_type": "markdown",
      "metadata": {
        "id": "uZy8aIiDioOE"
      },
      "source": [
        "### Random Forest Regressor"
      ]
    },
    {
      "cell_type": "code",
      "execution_count": 42,
      "metadata": {
        "colab": {
          "base_uri": "https://localhost:8080/"
        },
        "id": "OoncQM_AioOE",
        "outputId": "f21a1bd6-313a-402a-f6f2-f8f7ed4d3916"
      },
      "outputs": [
        {
          "output_type": "stream",
          "name": "stdout",
          "text": [
            "n_estimators  :  [50, 65, 81, 96, 112, 127, 143, 158, 174, 189, 205, 220, 236, 251, 267, 282, 298, 313, 329, 344, 360, 375, 391, 406, 422, 437, 453, 468, 484, 500]\n",
            "criterion  :  ['squared_error', 'absolute_error', 'poisson']\n",
            "max_depth  :  [1, 6, 11, 16, 21, 27, 32, 37, 42, 47, 53, 58, 63, 68, 73, 79, 84, 89, 94, 100, None]\n",
            "min_samples_split  :  [1, 2, 3, 4, 5, 6, 7, 8, 9, 10, 11, 12, 13, 14, 15, 16, 17, 18, 19, 20]\n",
            "min_samples_leaf  :  [1, 6, 11, 16, 21, 27, 32, 37, 42, 47, 53, 58, 63, 68, 73, 79, 84, 89, 94, 100]\n",
            "min_weight_fraction_leaf  :  [0.0]\n",
            "max_features  :  ['sqrt', 'log2', 'auto']\n",
            "max_leaf_nodes  :  [1, 3, 5, 7, 9, 11, 13, 15, 17, 20, None]\n",
            "min_impurity_decrease  :  [0.0, 0.2, 0.5, 0.75]\n",
            "bootstrap  :  [True, False]\n",
            "oob_score  :  [False, True]\n",
            "n_jobs  :  [-1]\n",
            "random_state  :  [42]\n",
            "verbose  :  [0]\n",
            "warm_start  :  [False]\n",
            "ccp_alpha  :  [0.0]\n",
            "max_samples  :  [None]\n"
          ]
        }
      ],
      "source": [
        "if ML_OP == 'Enable':\n",
        "\n",
        "    n_estimators = [int(x) for x in np.linspace(50, 500, num = 30)] # int, default=100 (The number of trees in the forest)\n",
        "    criterion = ['squared_error', 'absolute_error', 'poisson'] # {“squared_error”, “absolute_error”, “poisson”}, default=”squared_error”\n",
        "    max_depth = [int(x) for x in np.linspace(1, 100, num = 20)] # int, default=None\n",
        "    max_depth.append(None)\n",
        "    min_samples_split = [int(x) for x in np.linspace(1, 20, num = 20)] # int or float, default=2\n",
        "    min_samples_leaf = [int(x) for x in np.linspace(1, 100, num = 20)] # int or float, default=1\n",
        "    min_weight_fraction_leaf = [0.0] # float, default=0.0\n",
        "    max_features = ['sqrt', 'log2', 'auto'] # {“sqrt”, “log2”, 'auto' ,None}, int or float, default=1.0\n",
        "    max_leaf_nodes = [int(x) for x in np.linspace(1, 20, num = 10)] # int, default=None\n",
        "    max_leaf_nodes.append(None)\n",
        "    min_impurity_decrease = [0.0, 0.2, 0.5, 0.75] # float, default=0.0\n",
        "    bootstrap = [True, False] # bool, default=True\n",
        "    oob_score = [False, True] # bool, default=False\n",
        "    n_jobs = [-1] # int, default=None\n",
        "    random_state = [42] # int, RandomState instance or None, default=None\n",
        "    verbose = [0] # int, default=0\n",
        "    warm_start = [False] # bool, default=False\n",
        "    ccp_alpha = [0.0] # non-negative float, default=0.0\n",
        "    max_samples = [None] # int or float, default=None\n",
        "\n",
        "    # Create the random grid\n",
        "    random_grid_rf = {'n_estimators': n_estimators,\n",
        "                'criterion': criterion,\n",
        "                'max_depth': max_depth,\n",
        "                'min_samples_split': min_samples_split,\n",
        "                'min_samples_leaf': min_samples_leaf,\n",
        "                'min_weight_fraction_leaf' : min_weight_fraction_leaf,\n",
        "                'max_features': max_features,\n",
        "                'max_leaf_nodes' : max_leaf_nodes, \n",
        "                'min_impurity_decrease' : min_impurity_decrease,\n",
        "                'bootstrap' : bootstrap,\n",
        "                'oob_score' : oob_score,\n",
        "                'n_jobs' : n_jobs, \n",
        "                'random_state' : random_state,\n",
        "                'verbose' : verbose,\n",
        "                'warm_start' : warm_start, \n",
        "                'ccp_alpha' : ccp_alpha,\n",
        "                'max_samples' : max_samples\n",
        "                }\n",
        "                \n",
        "    for key, value in random_grid_rf.items():\n",
        "        print(key, ' : ', value)"
      ]
    },
    {
      "cell_type": "markdown",
      "metadata": {
        "id": "4xfC7mFRioOG"
      },
      "source": [
        "### Gradient Boosting Regressor"
      ]
    },
    {
      "cell_type": "code",
      "execution_count": 43,
      "metadata": {
        "colab": {
          "base_uri": "https://localhost:8080/"
        },
        "id": "N9_E7FUsioOG",
        "outputId": "f4cf55c5-9132-4734-fc5c-eff8119fc875"
      },
      "outputs": [
        {
          "output_type": "stream",
          "name": "stdout",
          "text": [
            "loss  :  ['squared_error', 'absolute_error', 'huber', 'quantile', 'quantile']\n",
            "learning_rate  :  [0.0, 0.1, 0.2, 0.5, 0.75]\n",
            "n_estimators  :  [50, 73, 97, 121, 144, 168, 192, 215, 239, 263, 286, 310, 334, 357, 381, 405, 428, 452, 476, 500]\n",
            "subsample  :  [0.5, 1.0]\n",
            "criterion  :  ['friedman_mse', 'friedman_mse', 'squared_error', 'mse']\n",
            "min_samples_split  :  [1, 3, 5, 7, 9, 11, 13, 15, 17, 20]\n",
            "min_samples_leaf  :  [1, 3, 5, 7, 9, 11, 13, 15, 17, 20]\n",
            "min_weight_fraction_leaf  :  [0.0, 0.1, 0.2, 0.5]\n",
            "max_depth  :  [1, 6, 11, 16, 21, 27, 32, 37, 42, 47, 53, 58, 63, 68, 73, 79, 84, 89, 94, 100]\n",
            "min_impurity_decrease  :  [0.0, 0.1, 0.2, 0.5, 0.75]\n",
            "init  :  [None]\n",
            "random_state  :  [42]\n",
            "max_features  :  ['sqrt', 'log2', 'auto']\n",
            "alpha  :  [0.9]\n",
            "verbose  :  [0]\n",
            "max_leaf_nodes  :  [None]\n",
            "warm_start  :  [False]\n",
            "validation_fraction  :  [0.1]\n",
            "n_iter_no_change  :  [None]\n",
            "tol  :  [0.0001]\n",
            "ccp_alpha  :  [0.0]\n"
          ]
        }
      ],
      "source": [
        "if ML_OP == 'Enable':\n",
        "    \n",
        "    loss = ['squared_error', 'absolute_error', 'huber', 'quantile', 'quantile'] # {‘squared_error’, ‘absolute_error’, ‘huber’, ‘quantile’}, default=’squared_error’\n",
        "    learning_rate = [0.0, 0.1, 0.2, 0.5, 0.75] # float, default=0.1 (Values must be in the range (0.0, inf))\n",
        "    n_estimators = [int(x) for x in np.linspace(50, 500, num = 20)] # int, default=100 (Values must be in the range [1, inf))\n",
        "    subsample = [0.5, 1.0] # float, default=1.0 (Values must be in the range (0.0, 1.0])\n",
        "    criterion = ['friedman_mse', 'friedman_mse', 'squared_error', 'mse'] # {‘friedman_mse’, ‘squared_error’, ‘mse’}, default=’friedman_mse’\n",
        "    min_samples_split = [int(x) for x in np.linspace(1, 20, num = 10)] # int or float, default=2 (If float, values must be in the range (0.0, 1.0] and If int, values must be in the range [2, inf))\n",
        "    min_samples_leaf = [int(x) for x in np.linspace(1, 20, num = 10)] # int or float, default=1 (If float, values must be in the range (0.0, 1.0] and If int, values must be in the range [1, inf))\n",
        "    min_weight_fraction_leaf = [0.0, 0.1, 0.2, 0.5] # float, default=0.0 (Values must be in the range [0.0, 0.5])\n",
        "    max_depth = [int(x) for x in np.linspace(1, 100, num = 20)] # int, default=3\n",
        "    min_impurity_decrease = [0.0, 0.1, 0.2, 0.5, 0.75] # float, default=0.0\n",
        "    init = [None] # estimator or ‘zero’, default=None\n",
        "    random_state = [42] # int, RandomState instance or None, default=None\n",
        "    max_features = ['sqrt', 'log2', 'auto'] # {‘auto’, ‘sqrt’, ‘log2’}, int or float, default=None\n",
        "    alpha = [0.9] # float, default=0.9 (Values must be in the range (0.0, 1.0))\n",
        "    verbose = [0] # int, default=0\n",
        "    max_leaf_nodes = [None] # int, default=None\n",
        "    warm_start = [False] # bool, default=False\n",
        "    validation_fraction = [0.1] # float, default=0.1 (Values must be in the range (0.0, 1.0))\n",
        "    n_iter_no_change = [None] # int, default=None\n",
        "    tol = [0.0001] # float, default=1e-4\n",
        "    ccp_alpha = [0.0] # non-negative float, default=0.0\n",
        "\n",
        "    # Create the random grid\n",
        "    random_grid_gb = {'loss': loss,\n",
        "                'learning_rate': learning_rate,\n",
        "                'n_estimators': n_estimators,\n",
        "                'subsample': subsample,\n",
        "                'criterion': criterion,\n",
        "                'min_samples_split': min_samples_split,\n",
        "                'min_samples_leaf' : min_samples_leaf, \n",
        "                'min_weight_fraction_leaf' : min_weight_fraction_leaf,\n",
        "                'max_depth' : max_depth,\n",
        "                'min_impurity_decrease' : min_impurity_decrease,\n",
        "                'init' : init, \n",
        "                'random_state' : random_state,\n",
        "                'max_features' : max_features,\n",
        "                'alpha' : alpha,\n",
        "                'verbose' : verbose, \n",
        "                'max_leaf_nodes' : max_leaf_nodes,\n",
        "                'warm_start' : warm_start,\n",
        "                'validation_fraction' : validation_fraction,\n",
        "                'n_iter_no_change' : n_iter_no_change, \n",
        "                'tol' : tol,\n",
        "                'ccp_alpha' : ccp_alpha\n",
        "                }\n",
        "                \n",
        "    for key, value in random_grid_gb.items():\n",
        "        print(key, ' : ', value)"
      ]
    },
    {
      "cell_type": "markdown",
      "metadata": {
        "id": "Am9__LPmioOG"
      },
      "source": [
        "### Histogram-based Gradient Boosting Regressor"
      ]
    },
    {
      "cell_type": "code",
      "execution_count": 44,
      "metadata": {
        "colab": {
          "base_uri": "https://localhost:8080/"
        },
        "id": "ScO-9Qc7ioOH",
        "outputId": "27c09a72-6019-4ad1-c0e0-1dba767fb38c"
      },
      "outputs": [
        {
          "output_type": "stream",
          "name": "stdout",
          "text": [
            "loss  :  ['squared_error', 'absolute_error', 'poisson', 'quantile']\n",
            "learning_rate  :  [0.05, 0.1, 0.2, 0.3, 0.9]\n",
            "max_iter  :  [50, 61, 72, 83, 94, 105, 116, 127, 138, 150]\n",
            "max_leaf_nodes  :  [20, 22, 24, 26, 28, 30, 32, 34, 36, 38, 41, 43, 45, 47, 49, 51, 53, 55, 57, 60]\n",
            "max_depth  :  [1, 6, 11, 16, 21, 27, 32, 37, 42, 47, 53, 58, 63, 68, 73, 79, 84, 89, 94, 100]\n",
            "min_samples_leaf  :  [10, 13, 16, 20, 23, 26, 30, 33, 36, 40]\n",
            "l2_regularization  :  [0.0, 0.1, 0.6]\n",
            "max_bins  :  [100, 108, 116, 124, 132, 140, 148, 157, 165, 173, 181, 189, 197, 206, 214, 222, 230, 238, 246, 255]\n",
            "categorical_features  :  [None]\n",
            "monotonic_cst  :  [None]\n",
            "warm_start  :  [False]\n",
            "early_stopping  :  ['auto']\n",
            "scoring  :  ['loss']\n",
            "validation_fraction  :  [0.1]\n",
            "n_iter_no_change  :  [10, 13, 16, 20, 23, 26, 30, 33, 36, 40]\n",
            "tol  :  [1e-07]\n",
            "verbose  :  [0]\n",
            "random_state  :  [42]\n"
          ]
        }
      ],
      "source": [
        "if ML_OP == 'Enable':\n",
        "    \n",
        "    loss= ['squared_error', 'absolute_error', 'poisson', 'quantile'] # {‘squared_error’, ‘absolute_error’, ‘poisson’, ‘quantile’}, default=’squared_error’\n",
        "    quantile = [None] # float, default=None (If loss is “quantile”, this parameter specifies which quantile to be estimated and must be between 0 and 1)\n",
        "    learning_rate=[0.05, 0.1, 0.2, 0.3, 0.9] # float, default=0.1\n",
        "    max_iter= [int(x) for x in np.linspace(50, 150, num = 10)] # int, default=100 (the maximum number of trees.)\n",
        "    max_leaf_nodes=[int(x) for x in np.linspace(20, 60, num = 20)] # int or None, default=31 (Must be strictly greater than 1. If None, there is no maximum limit.)\n",
        "    max_depth = [int(x) for x in np.linspace(1, 100, num = 20)] # int or None, default=None \n",
        "    min_samples_leaf=[int(x) for x in np.linspace(10, 40, num = 10)] # int, default=20\n",
        "    l2_regularization=[0.0, 0.1, 0.6] # float, default=0\n",
        "    max_bins=[int(x) for x in np.linspace(100, 255, num = 20)] # int, default=255 (Must be no larger than 255) \n",
        "\n",
        "    categorical_features=[None] # array-like of {bool, int} of shape (n_features) or shape (n_categorical_features,), default=None (None : no feature will be considered categorical , boolean array-like : boolean mask indicating categorical features and integer array-like : integer indices indicating categorical features)\n",
        "    monotonic_cst=[None] # array-like of int of shape (n_features), default=None\n",
        "    warm_start=[False] # bool, default=False\n",
        "    early_stopping=['auto'] # ‘auto’ or bool, default=’auto’\n",
        "    scoring=['loss'] # str or callable or None, default=’loss’\n",
        "    validation_fraction=[0.1] # int or float or None, default=0.1\n",
        "    n_iter_no_change=[int(x) for x in np.linspace(10, 40, num = 10)] # int, default=10\n",
        "    tol=[1e-07] # float, default=1e-7\n",
        "    verbose=[0] # int, default=0\n",
        "    random_state=[42] # int, RandomState instance or None, default=None\n",
        "\n",
        "    random_grid_hgb = {'loss' : loss,\n",
        "                    'learning_rate' : learning_rate,\n",
        "                    'max_iter' : max_iter,\n",
        "                    'max_leaf_nodes' : max_leaf_nodes,\n",
        "                    'max_depth' : max_depth,\n",
        "                    'min_samples_leaf' : min_samples_leaf,\n",
        "                    'l2_regularization' : l2_regularization,\n",
        "                    'max_bins' : max_bins,\n",
        "                    'categorical_features' : categorical_features,\n",
        "                    'monotonic_cst' : monotonic_cst,\n",
        "                    'warm_start' : warm_start,\n",
        "                    'early_stopping' : early_stopping,\n",
        "                    'scoring' : scoring,\n",
        "                    'validation_fraction' : validation_fraction,\n",
        "                    'n_iter_no_change' : n_iter_no_change,\n",
        "                    'tol' : tol,\n",
        "                    'verbose' : verbose,\n",
        "                    'random_state' : random_state\n",
        "                        }\n",
        "                        \n",
        "    for key, value in random_grid_hgb.items():\n",
        "        print(key, ' : ', value)"
      ]
    },
    {
      "cell_type": "markdown",
      "metadata": {
        "id": "5sl9uUkTioOH"
      },
      "source": [
        "### AdaBoost Regressor"
      ]
    },
    {
      "cell_type": "code",
      "execution_count": 45,
      "metadata": {
        "colab": {
          "base_uri": "https://localhost:8080/"
        },
        "id": "jucI-eaEioOI",
        "outputId": "8a9280c3-ef24-4d8e-e1b0-01700d3f7ac4"
      },
      "outputs": [
        {
          "output_type": "stream",
          "name": "stdout",
          "text": [
            "base_estimator  :  [DecisionTreeRegressor(max_depth=3)]\n",
            "n_estimators  :  [50, 73, 97, 121, 144, 168, 192, 215, 239, 263, 286, 310, 334, 357, 381, 405, 428, 452, 476, 500]\n",
            "learning_rate  :  [1.0]\n",
            "loss  :  ['linear', 'square', 'exponential']\n",
            "random_state  :  [42]\n"
          ]
        }
      ],
      "source": [
        "if ML_OP == 'Enable':\n",
        "    \n",
        "    base_estimator=[DecisionTreeRegressor(max_depth=3)] # object, default=None, None is a DecisionTreeRegressor initialized with max_depth=3.\n",
        "    # , RandomForestRegressor(), HistGradientBoostingRegressor(), GradientBoostingRegressor(), SVR(), ExtraTreesRegressor()\n",
        "    n_estimators= [int(x) for x in np.linspace(50, 500, num = 20)] # int, default=50 (Values must be in the range [1, inf))\n",
        "    learning_rate=[1.0] # float, default=1.0 (Values must be in the range (0.0, inf))\n",
        "    loss =['linear','square', 'exponential'] # {‘linear’, ‘square’, ‘exponential’}, default=’linear’\n",
        "    random_state=[42] # int, RandomState instance or None, default=None\n",
        "\n",
        "    random_grid_ad = {'base_estimator' : base_estimator,\n",
        "                    'n_estimators' : n_estimators,\n",
        "                    'learning_rate' : learning_rate,\n",
        "                    'loss' : loss,\n",
        "                    'random_state' : random_state\n",
        "    }\n",
        "\n",
        "    for key, value in random_grid_ad.items():\n",
        "        print(key, ' : ', value)"
      ]
    },
    {
      "cell_type": "markdown",
      "metadata": {
        "id": "i3LpkfzqioOP"
      },
      "source": [
        "### Extra Trees Regressor"
      ]
    },
    {
      "cell_type": "code",
      "execution_count": 46,
      "metadata": {
        "colab": {
          "base_uri": "https://localhost:8080/"
        },
        "id": "Q1J8_qCfioOP",
        "outputId": "da206a27-3f9b-4aaa-8676-bf06cf11f6fe"
      },
      "outputs": [
        {
          "output_type": "stream",
          "name": "stdout",
          "text": [
            "n_estimators  :  [100, 121, 142, 163, 184, 205, 226, 247, 268, 289, 310, 331, 352, 373, 394, 415, 436, 457, 478, 500]\n",
            "criterion  :  ['squared_error', 'absolute_error']\n",
            "max_depth  :  [1, 6, 11, 16, 21, 27, 32, 37, 42, 47, 53, 58, 63, 68, 73, 79, 84, 89, 94, 100, None]\n",
            "min_samples_split  :  [1, 3, 5, 7, 9, 11, 13, 15, 17, 20]\n",
            "min_samples_leaf  :  [1, 3, 5, 7, 9, 11, 13, 15, 17, 20]\n",
            "min_weight_fraction_leaf  :  [0.0, 0.05, 0.1, 0.3]\n",
            "max_features  :  ['sqrt', 'log2', None, 1.0]\n",
            "max_leaf_nodes  :  [1, 3, 5, 7, 9, 11, 13, 15, 17, 20]\n",
            "min_impurity_decrease  :  [0.0]\n",
            "bootstrap  :  [False]\n",
            "oob_score  :  [True, False]\n",
            "n_jobs  :  [None]\n",
            "random_state  :  [42]\n",
            "verbose  :  [0]\n",
            "warm_start  :  [False]\n",
            "ccp_alpha  :  [0.0]\n",
            "max_samples  :  [1, 3, 5, 7, 9, 11, 13, 15, 17, 20, None]\n"
          ]
        }
      ],
      "source": [
        "if ML_OP == 'Enable':\n",
        "    \n",
        "    n_estimators = [int(x) for x in np.linspace(100, 500, num = 20)] # int, default=100\n",
        "    criterion = ['squared_error', 'absolute_error'] # {“squared_error”, “absolute_error”}, default=”squared_error”\n",
        "    max_depth = [int(x) for x in np.linspace(1, 100, num = 20)] # int, default=None\n",
        "    max_depth.append(None)\n",
        "    min_samples_split = [int(x) for x in np.linspace(1, 20, num = 10)] # int or float, default=2\n",
        "    min_samples_leaf = [int(x) for x in np.linspace(1, 20, num = 10)] # int or float, default=1\n",
        "    min_weight_fraction_leaf = [0.0, 0.05, 0.1, 0.3] # float, default=0.0\n",
        "    max_features = ['sqrt', 'log2', None, 1.0] # {“sqrt”, “log2”, None}, int or float, default=1.0\n",
        "    max_leaf_nodes = [int(x) for x in np.linspace(1, 20, num = 10)] # int, default=None\n",
        "    #max_leaf_nodes.append(None)\n",
        "    min_impurity_decrease=[0.0] # float, default=0.0\n",
        "\n",
        "    bootstrap=[False] # bool, default=False\n",
        "    oob_score=[True,False] # bool, default=False\n",
        "    n_jobs=[None] # int, default=None\n",
        "    random_state=[42] # int, RandomState instance or None, default=None\n",
        "    verbose=[0] # int, default=0\n",
        "    warm_start=[False] #bool, default=False\n",
        "    ccp_alpha=[0.0] # non-negative float, default=0.0\n",
        "    max_samples = [int(x) for x in np.linspace(1, 20, num = 10)] # int or float, default=None\n",
        "    max_samples.append(None)\n",
        "\n",
        "    random_grid_et = {'n_estimators' : n_estimators,\n",
        "                    'criterion' : criterion,\n",
        "                    'max_depth' : max_depth,\n",
        "                    'min_samples_split' : min_samples_split,\n",
        "                    'min_samples_leaf' : min_samples_leaf,\n",
        "                    'min_weight_fraction_leaf' : min_weight_fraction_leaf,\n",
        "                    'max_features' : max_features,\n",
        "                    'max_leaf_nodes' : max_leaf_nodes,\n",
        "                    'min_impurity_decrease' : min_impurity_decrease,\n",
        "                    'bootstrap' : bootstrap,\n",
        "                    'oob_score' : oob_score,\n",
        "                    'n_jobs' : n_jobs,\n",
        "                    'random_state' : random_state,\n",
        "                    'verbose' : verbose,\n",
        "                    'warm_start': warm_start,\n",
        "                    'ccp_alpha' : ccp_alpha,\n",
        "                    'max_samples' : max_samples\n",
        "    }\n",
        "\n",
        "    for key, value in random_grid_et.items():\n",
        "        print(key, ' : ', value)"
      ]
    },
    {
      "cell_type": "markdown",
      "metadata": {
        "id": "JnR5zgzBioOQ"
      },
      "source": [
        "### K Neighbors Regressor"
      ]
    },
    {
      "cell_type": "code",
      "execution_count": 47,
      "metadata": {
        "colab": {
          "base_uri": "https://localhost:8080/"
        },
        "id": "d7TnGXyTioOQ",
        "outputId": "895617a2-987b-4fc2-b4bb-e9832537051d"
      },
      "outputs": [
        {
          "output_type": "stream",
          "name": "stdout",
          "text": [
            "n_neighbors  :  [1, 2, 3, 4, 5, 6, 7, 8, 9, 10]\n",
            "weights  :  ['uniform', 'distance']\n",
            "algorithm  :  ['auto', 'ball_tree', 'kd_tree', 'brute']\n",
            "leaf_size  :  [10, 14, 18, 23, 27, 32, 36, 41, 45, 50]\n",
            "p  :  [1, 2, 3, 4, 5, 6, 7, 8, 9, 10]\n",
            "metric  :  ['minkowski']\n",
            "metric_params  :  [None]\n",
            "n_jobs  :  [None]\n"
          ]
        }
      ],
      "source": [
        "if ML_OP == 'Enable':\n",
        "    \n",
        "    n_neighbors = [int(x) for x in np.linspace(1, 10, num = 10)] # int, default=5\n",
        "    weights = ['uniform', 'distance'] # {‘uniform’, ‘distance’} or callable, default=’uniform’\n",
        "    algorithm = ['auto', 'ball_tree', 'kd_tree', 'brute'] # {‘auto’, ‘ball_tree’, ‘kd_tree’, ‘brute’}, default=’auto’\n",
        "    leaf_size = [int(x) for x in np.linspace(10, 50, num = 10)] # int, default=30\n",
        "    p = [int(x) for x in np.linspace(1, 10, num = 10)] # int, default=2\n",
        "    metric = ['minkowski'] # str or callable, default=’minkowski’\n",
        "    metric_params=[None] \n",
        "    n_jobs=[None]\n",
        "\n",
        "    random_grid_knn = {'n_neighbors' : n_neighbors,\n",
        "                    'weights' : weights,\n",
        "                    'algorithm' : algorithm,\n",
        "                    'leaf_size' : leaf_size,\n",
        "                    'p' : p,\n",
        "                    'metric' : metric,\n",
        "                    'metric_params' : metric_params,\n",
        "                    'n_jobs' : n_jobs\n",
        "    }\n",
        "\n",
        "    for key, value in random_grid_knn.items():\n",
        "        print(key, ' : ', value)"
      ]
    },
    {
      "cell_type": "markdown",
      "metadata": {
        "id": "ZQVHD9MwioOQ"
      },
      "source": [
        "### Decision Tree Regressor"
      ]
    },
    {
      "cell_type": "code",
      "execution_count": 48,
      "metadata": {
        "colab": {
          "base_uri": "https://localhost:8080/"
        },
        "id": "4hWpE8EeioOR",
        "outputId": "2c1479b3-52b6-423c-c775-bab4586edc93"
      },
      "outputs": [
        {
          "output_type": "stream",
          "name": "stdout",
          "text": [
            "criterion  :  ['squared_error', 'friedman_mse', 'absolute_error', 'poisson']\n",
            "splitter  :  ['best', 'random']\n",
            "max_depth  :  [1, 6, 11, 16, 21, 27, 32, 37, 42, 47, 53, 58, 63, 68, 73, 79, 84, 89, 94, 100, None]\n",
            "min_samples_split  :  [1, 3, 5, 7, 9, 11, 13, 15, 17, 20]\n",
            "min_samples_leaf  :  [1, 3, 5, 7, 9, 11, 13, 15, 17, 20]\n",
            "min_weight_fraction_leaf  :  [0.0]\n",
            "max_features  :  ['sqrt', 'auto', 'log2']\n",
            "random_state  :  [42]\n",
            "max_leaf_nodes  :  [1, 3, 5, 7, 9, 11, 13, 15, 17, 20, None]\n",
            "min_impurity_decrease  :  [0.0]\n",
            "ccp_alpha  :  [0.0]\n"
          ]
        }
      ],
      "source": [
        "if ML_OP == 'Enable':\n",
        "    \n",
        "    criterion = ['squared_error','friedman_mse', 'absolute_error', 'poisson'] # {“squared_error”, “friedman_mse”, “absolute_error”, “poisson”}, default=”squared_error”\n",
        "    splitter = ['best', 'random'] # {“best”, “random”}, default=”best”\n",
        "    max_depth = [int(x) for x in np.linspace(1, 100, num = 20)] # int, default=None (max number of levels in each decision tree)\n",
        "    max_depth.append(None)\n",
        "    min_samples_split = [int(x) for x in np.linspace(1, 20, num = 10)] # int or float, default=2\n",
        "    min_samples_leaf = [int(x) for x in np.linspace(1, 20, num = 10)] # int or float, default=1\n",
        "    min_weight_fraction_leaf = [0.0] # float, default=0.0\n",
        "    max_features = ['sqrt', 'auto', 'log2'] # int, float or {“auto”, “sqrt”, “log2”}, default=None\n",
        "    random_state = [42] # int, RandomState instance or None, default=None\n",
        "    max_leaf_nodes = [int(x) for x in np.linspace(1, 20, num = 10)] # int, default=None\n",
        "    max_leaf_nodes.append(None)\n",
        "    min_impurity_decrease=[0.0] # float, default=0.0\n",
        "    ccp_alpha=[0.0] # non-negative float, default=0.0\n",
        "\n",
        "    random_grid_dt = {'criterion' : criterion,\n",
        "                    'splitter' : splitter,\n",
        "                    'max_depth' : max_depth,\n",
        "                    'min_samples_split' : min_samples_split,\n",
        "                    'min_samples_leaf' : min_samples_leaf,\n",
        "                    'min_weight_fraction_leaf' : min_weight_fraction_leaf,\n",
        "                    'max_features' : max_features,\n",
        "                    'random_state' : random_state,\n",
        "                    'max_leaf_nodes' : max_leaf_nodes, \n",
        "                    'min_impurity_decrease' : min_impurity_decrease,\n",
        "                    'ccp_alpha' : ccp_alpha                \n",
        "    }\n",
        "\n",
        "    for key, value in random_grid_dt.items():\n",
        "        print(key, ' : ', value)"
      ]
    },
    {
      "cell_type": "markdown",
      "metadata": {
        "id": "VCWvJ86NioOR"
      },
      "source": [
        "### Support Vector Regressor"
      ]
    },
    {
      "cell_type": "code",
      "execution_count": 49,
      "metadata": {
        "colab": {
          "base_uri": "https://localhost:8080/"
        },
        "id": "zC4aDSGmioOR",
        "outputId": "f512605f-7b5a-4d2f-b495-aab683d95bb9"
      },
      "outputs": [
        {
          "output_type": "stream",
          "name": "stdout",
          "text": [
            "C  :  [1.0]\n",
            "kernel  :  ['rbf', 'linear', 'poly', 'sigmoid']\n",
            "degree  :  [1, 2, 4, 5, 7, 8, 10, 11, 13, 15]\n",
            "gamma  :  ['scale', 'auto']\n",
            "coef0  :  [0.0]\n",
            "tol  :  [0.001]\n",
            "epsilon  :  [0.1]\n",
            "shrinking  :  [True, False]\n",
            "cache_size  :  [750, 742, 734, 726, 718, 710, 702, 694, 686, 678, 671, 663, 655, 647, 639, 631, 623, 615, 607, 600]\n",
            "verbose  :  [False]\n",
            "max_iter  :  [-5, -3, -2, 0, 0, 2, 3, 5]\n"
          ]
        }
      ],
      "source": [
        "if ML_OP == 'Enable':\n",
        "    \n",
        "    kernel=['rbf', 'linear', 'poly', 'sigmoid'] # {‘linear’, ‘poly’, ‘rbf’, ‘sigmoid’, ‘precomputed’} or callable, default=’rbf’\n",
        "    degree = [int(x) for x in np.linspace(1, 15, num = 10)] # int, default=3\n",
        "    gamma = ['scale', 'auto'] # {‘scale’, ‘auto’} or float, default=’scale’\n",
        "    coef0=[0.0] # float, default=0.0\n",
        "    tol=[0.001]# float, default=1e-3\n",
        "    C=[1.0] # float, default=1.0\n",
        "    epsilon = [0.1] # float, default=0.1\n",
        "    shrinking=[True, False] # bool, default=True\n",
        "    cache_size=[int(x) for x in np.linspace(750, 600, num = 20)] # float, default=200\n",
        "    verbose=[False] # bool, default=False\n",
        "    max_iter=  [int(x) for x in np.linspace(-5, 5, num = 8)] # int, default=-1\n",
        "\n",
        "\n",
        "    random_grid_svm = {'C' : C,\n",
        "                    'kernel' : kernel,\n",
        "                    'degree' : degree,\n",
        "                    'gamma' : gamma,\n",
        "                    'coef0' : coef0,\n",
        "                    'tol' : tol,\n",
        "                    'epsilon' : epsilon,\n",
        "                    'shrinking' : shrinking,\n",
        "                    'cache_size' : cache_size,\n",
        "                    'verbose' : verbose,\n",
        "                    'max_iter' : max_iter\n",
        "    }\n",
        "\n",
        "    for key, value in random_grid_svm.items():\n",
        "        print(key, ' : ', value)"
      ]
    },
    {
      "cell_type": "markdown",
      "metadata": {
        "id": "-mzpDAxxioOS"
      },
      "source": [
        "### Linear Support Vector Regression"
      ]
    },
    {
      "cell_type": "code",
      "execution_count": 50,
      "metadata": {
        "colab": {
          "base_uri": "https://localhost:8080/"
        },
        "id": "T_GIe_xOioOS",
        "outputId": "84657b5c-a8c2-406c-8749-0aea8149a40d"
      },
      "outputs": [
        {
          "output_type": "stream",
          "name": "stdout",
          "text": [
            "epsilon  :  [0.0]\n",
            "loss  :  ['epsilon_insensitive', 'squared_epsilon_insensitive']\n",
            "dual  :  [True, False]\n",
            "tol  :  [0.0001]\n",
            "C  :  [1.0]\n",
            "fit_intercept  :  [True, False]\n",
            "intercept_scaling  :  [1, 2, 3, 4, 5, 6, 7, 8, 9, 10]\n",
            "verbose  :  [0]\n",
            "random_state  :  [42]\n",
            "max_iter  :  [600, 855, 1110, 1365, 1620, 1875, 2131, 2386, 2641, 2896, 3151, 3406, 3662, 3917, 4172, 4427, 4682, 4937, 5193, 5448, 5703, 5958, 6213, 6468, 6724, 6979, 7234, 7489, 7744, 8000]\n"
          ]
        }
      ],
      "source": [
        "if ML_OP == 'Enable':\n",
        "    \n",
        "    epsilon = [0.0] # float, default=0.0\n",
        "    tol=[0.0001] # float, default=1e-4\n",
        "    C=[1.0] # float, default=1.0\n",
        "    loss = ['epsilon_insensitive', 'squared_epsilon_insensitive'] # {‘epsilon_insensitive’, ‘squared_epsilon_insensitive’}, default=’epsilon_insensitive’\n",
        "    fit_intercept=[True, False] # bool, default=True\n",
        "    intercept_scaling = [int(x) for x in np.linspace(1, 10, num = 10)] # float, default=1\n",
        "    dual=[True, False] # bool, default=True    \n",
        "    verbose=[0 ]# int, default=0\n",
        "    random_state=[42] # int, RandomState instance or None, default=None\n",
        "    max_iter=[int(x) for x in np.linspace(600, 8000, num = 30)] # int, default=1000\n",
        "\n",
        "    random_grid_lsvm = {'epsilon' : epsilon,\n",
        "                    'loss' : loss, \n",
        "                    'dual' : dual,\n",
        "                    'tol' : tol,\n",
        "                    'C' : C,\n",
        "                    'fit_intercept' : fit_intercept,\n",
        "                    'intercept_scaling' : intercept_scaling,\n",
        "                    'verbose' : verbose,\n",
        "                    'random_state' : random_state,\n",
        "                    'max_iter' : max_iter\n",
        "    }\n",
        "\n",
        "    for key, value in random_grid_lsvm.items():\n",
        "        print(key, ' : ', value)"
      ]
    },
    {
      "cell_type": "markdown",
      "metadata": {
        "id": "mRcryk5RioOS"
      },
      "source": [
        "## Hyperparameters Testing & Build the Optmization Models Using  "
      ]
    },
    {
      "cell_type": "code",
      "execution_count": 51,
      "metadata": {
        "colab": {
          "base_uri": "https://localhost:8080/"
        },
        "id": "X6wDD94WioOS",
        "outputId": "02156ba0-f5a3-4da0-bd1e-38cbd0c06860"
      },
      "outputs": [
        {
          "output_type": "stream",
          "name": "stdout",
          "text": [
            "Parameters currently in use:\n",
            "\n",
            "{'bootstrap': True, 'ccp_alpha': 0.0, 'criterion': 'squared_error', 'max_depth': 84, 'max_features': 'auto', 'max_leaf_nodes': 11, 'max_samples': None, 'min_impurity_decrease': 0.0, 'min_samples_leaf': 11, 'min_samples_split': 14, 'min_weight_fraction_leaf': 0.0, 'n_estimators': 112, 'n_jobs': -1, 'oob_score': True, 'random_state': 42, 'verbose': 0, 'warm_start': False}\n"
          ]
        }
      ],
      "source": [
        "'''\n",
        "        Random Forest Regressor\n",
        "'''\n",
        "if ML_OP == 'Enable':\n",
        "\n",
        "        rf = RandomForestRegressor()\n",
        "        rf_random = RandomizedSearchCV(rf, random_grid_rf, n_iter=150, cv = 3, n_jobs = -1).fit(X_train, y_train)\n",
        "        rf_op = rf_random.best_estimator_\n",
        "\n",
        "        print('Parameters currently in use:\\n')\n",
        "        print(rf_op.get_params())\n"
      ]
    },
    {
      "cell_type": "code",
      "execution_count": 52,
      "metadata": {
        "colab": {
          "base_uri": "https://localhost:8080/"
        },
        "id": "nKJqVV1yioOT",
        "outputId": "2ab627ec-1b46-491d-dca4-f4a3104a9be7"
      },
      "outputs": [
        {
          "output_type": "stream",
          "name": "stdout",
          "text": [
            "Parameters currently in use:\n",
            "\n",
            "{'alpha': 0.9, 'ccp_alpha': 0.0, 'criterion': 'mse', 'init': None, 'learning_rate': 0.1, 'loss': 'huber', 'max_depth': 42, 'max_features': 'auto', 'max_leaf_nodes': None, 'min_impurity_decrease': 0.0, 'min_samples_leaf': 17, 'min_samples_split': 15, 'min_weight_fraction_leaf': 0.0, 'n_estimators': 215, 'n_iter_no_change': None, 'random_state': 42, 'subsample': 0.5, 'tol': 0.0001, 'validation_fraction': 0.1, 'verbose': 0, 'warm_start': False}\n"
          ]
        }
      ],
      "source": [
        "'''\n",
        "        Gradient Boosting Regressor\n",
        "'''\n",
        "if ML_OP == 'Enable':\n",
        "        \n",
        "        gb = GradientBoostingRegressor()\n",
        "        gb_random = RandomizedSearchCV(gb, random_grid_gb, n_iter=150, cv = 3, n_jobs = -1).fit(X_train, y_train)\n",
        "        gb_op = gb_random.best_estimator_\n",
        "\n",
        "        print('Parameters currently in use:\\n')\n",
        "        print(gb_op.get_params())"
      ]
    },
    {
      "cell_type": "code",
      "execution_count": 53,
      "metadata": {
        "colab": {
          "base_uri": "https://localhost:8080/"
        },
        "id": "VadVPVwPioOT",
        "outputId": "27f89eeb-8f8f-42e4-d359-5a0eeb0b95b6"
      },
      "outputs": [
        {
          "output_type": "stream",
          "name": "stdout",
          "text": [
            "Parameters currently in use:\n",
            "\n",
            "{'categorical_features': None, 'early_stopping': 'auto', 'l2_regularization': 0.1, 'learning_rate': 0.05, 'loss': 'squared_error', 'max_bins': 206, 'max_depth': 100, 'max_iter': 72, 'max_leaf_nodes': 47, 'min_samples_leaf': 36, 'monotonic_cst': None, 'n_iter_no_change': 16, 'random_state': 42, 'scoring': 'loss', 'tol': 1e-07, 'validation_fraction': 0.1, 'verbose': 0, 'warm_start': False}\n"
          ]
        }
      ],
      "source": [
        "'''\n",
        "        Histogram-based Gradient Boosting Regression Tree\n",
        "'''\n",
        "if ML_OP == 'Enable':\n",
        "        \n",
        "        hgb = HistGradientBoostingRegressor()\n",
        "        hgb_random = RandomizedSearchCV(hgb, random_grid_hgb, n_iter=150, cv = 3, n_jobs = -1).fit(X_train, y_train)\n",
        "        hgb_op = hgb_random.best_estimator_\n",
        "\n",
        "        print('Parameters currently in use:\\n')\n",
        "        print(hgb_op.get_params())"
      ]
    },
    {
      "cell_type": "code",
      "execution_count": 54,
      "metadata": {
        "colab": {
          "base_uri": "https://localhost:8080/"
        },
        "id": "c4KxqObJioOT",
        "outputId": "c161dcc0-ba35-475d-f614-02cb4e6ce32b"
      },
      "outputs": [
        {
          "output_type": "stream",
          "name": "stdout",
          "text": [
            "Parameters currently in use:\n",
            "\n",
            "{'base_estimator__ccp_alpha': 0.0, 'base_estimator__criterion': 'squared_error', 'base_estimator__max_depth': 3, 'base_estimator__max_features': None, 'base_estimator__max_leaf_nodes': None, 'base_estimator__min_impurity_decrease': 0.0, 'base_estimator__min_samples_leaf': 1, 'base_estimator__min_samples_split': 2, 'base_estimator__min_weight_fraction_leaf': 0.0, 'base_estimator__random_state': None, 'base_estimator__splitter': 'best', 'base_estimator': DecisionTreeRegressor(max_depth=3), 'learning_rate': 1.0, 'loss': 'linear', 'n_estimators': 50, 'random_state': 42}\n"
          ]
        }
      ],
      "source": [
        "'''\n",
        "        AdaBoost Regressor\n",
        "'''\n",
        "if ML_OP == 'Enable':\n",
        "        \n",
        "        ad = AdaBoostRegressor()\n",
        "        ad_random = RandomizedSearchCV(ad, random_grid_ad, n_iter=150, cv = 3, n_jobs = -1).fit(X_train, y_train)\n",
        "        ad_op = ad_random.best_estimator_\n",
        "\n",
        "        print('Parameters currently in use:\\n')\n",
        "        print(ad_op.get_params())"
      ]
    },
    {
      "cell_type": "code",
      "execution_count": 55,
      "metadata": {
        "colab": {
          "base_uri": "https://localhost:8080/"
        },
        "id": "S_yPwnP0ioOT",
        "outputId": "e35d7630-24fb-4e7e-bc73-be8519565261"
      },
      "outputs": [
        {
          "output_type": "stream",
          "name": "stdout",
          "text": [
            "Parameters currently in use:\n",
            "\n",
            "{'bootstrap': False, 'ccp_alpha': 0.0, 'criterion': 'squared_error', 'max_depth': 32, 'max_features': None, 'max_leaf_nodes': 15, 'max_samples': None, 'min_impurity_decrease': 0.0, 'min_samples_leaf': 20, 'min_samples_split': 11, 'min_weight_fraction_leaf': 0.0, 'n_estimators': 352, 'n_jobs': None, 'oob_score': False, 'random_state': 42, 'verbose': 0, 'warm_start': False}\n"
          ]
        }
      ],
      "source": [
        "'''   \n",
        "        Extra Trees Regressor\n",
        "'''\n",
        "if ML_OP == 'Enable':\n",
        "        \n",
        "        et = ExtraTreesRegressor()\n",
        "        et_random = RandomizedSearchCV(et, random_grid_et, n_iter=150, cv = 3, n_jobs = -1).fit(X_train, y_train)\n",
        "        et_op = et_random.best_estimator_\n",
        "\n",
        "        print('Parameters currently in use:\\n')\n",
        "        print(et_op.get_params())"
      ]
    },
    {
      "cell_type": "code",
      "execution_count": 56,
      "metadata": {
        "colab": {
          "base_uri": "https://localhost:8080/"
        },
        "id": "ZOj7RMmFioOU",
        "outputId": "aacc268c-5187-4a18-87fb-87617fcb081c"
      },
      "outputs": [
        {
          "output_type": "stream",
          "name": "stdout",
          "text": [
            "Parameters currently in use:\n",
            "\n",
            "{'algorithm': 'auto', 'leaf_size': 23, 'metric': 'minkowski', 'metric_params': None, 'n_jobs': None, 'n_neighbors': 5, 'p': 8, 'weights': 'distance'}\n"
          ]
        }
      ],
      "source": [
        "'''   \n",
        "        K Neighbors Regressor\n",
        "'''\n",
        "if ML_OP == 'Enable':\n",
        "        \n",
        "        knn = KNeighborsRegressor()\n",
        "        knn_random = RandomizedSearchCV(knn, random_grid_knn, n_iter=150, cv = 3, n_jobs = -1).fit(X_train, y_train)\n",
        "        knn_op = knn_random.best_estimator_\n",
        "\n",
        "        print('Parameters currently in use:\\n')\n",
        "        print(knn_op.get_params())"
      ]
    },
    {
      "cell_type": "code",
      "execution_count": 57,
      "metadata": {
        "colab": {
          "base_uri": "https://localhost:8080/"
        },
        "id": "j2WaisRJioOU",
        "outputId": "777cbd7e-cba5-41af-ff2d-c622702fae2c"
      },
      "outputs": [
        {
          "output_type": "stream",
          "name": "stdout",
          "text": [
            "Parameters currently in use:\n",
            "\n",
            "{'ccp_alpha': 0.0, 'criterion': 'absolute_error', 'max_depth': 53, 'max_features': 'auto', 'max_leaf_nodes': 20, 'min_impurity_decrease': 0.0, 'min_samples_leaf': 7, 'min_samples_split': 20, 'min_weight_fraction_leaf': 0.0, 'random_state': 42, 'splitter': 'best'}\n"
          ]
        }
      ],
      "source": [
        "'''\n",
        "            Decision Tree Regressor\n",
        "'''\n",
        "if ML_OP == 'Enable':\n",
        "    \n",
        "    dt = DecisionTreeRegressor()\n",
        "    dt_random = RandomizedSearchCV(dt, random_grid_dt, n_iter=150, cv = 3, n_jobs = -1).fit(X_train, y_train)\n",
        "    dt_op = dt_random.best_estimator_\n",
        "\n",
        "    print('Parameters currently in use:\\n')\n",
        "    print(dt_op.get_params())"
      ]
    },
    {
      "cell_type": "code",
      "execution_count": 58,
      "metadata": {
        "colab": {
          "base_uri": "https://localhost:8080/"
        },
        "id": "szjQsOu0ioOU",
        "outputId": "88e3dfde-3977-472f-bfef-6b0398ee364f"
      },
      "outputs": [
        {
          "output_type": "stream",
          "name": "stdout",
          "text": [
            "Parameters currently in use:\n",
            "\n",
            "{'C': 1.0, 'cache_size': 631, 'coef0': 0.0, 'degree': 13, 'epsilon': 0.1, 'gamma': 'auto', 'kernel': 'linear', 'max_iter': 3, 'shrinking': False, 'tol': 0.001, 'verbose': False}\n"
          ]
        }
      ],
      "source": [
        "'''\n",
        "            Support Vector Machines Regressor\n",
        "'''\n",
        "if ML_OP == 'Enable':\n",
        "    \n",
        "    svm = SVR()\n",
        "    svm_random = RandomizedSearchCV(svm, random_grid_svm, n_iter=150, cv = 3, n_jobs = -1).fit(X_train, y_train)\n",
        "    svm_op = svm_random.best_estimator_\n",
        "\n",
        "    print('Parameters currently in use:\\n')\n",
        "    print(svm_op.get_params())"
      ]
    },
    {
      "cell_type": "code",
      "execution_count": 59,
      "metadata": {
        "colab": {
          "base_uri": "https://localhost:8080/"
        },
        "id": "7QOBZLAiioOU",
        "outputId": "e90356d3-a0f6-4009-b1f9-ed953b08cad6"
      },
      "outputs": [
        {
          "output_type": "stream",
          "name": "stdout",
          "text": [
            "Parameters currently in use:\n",
            "\n",
            "{'C': 1.0, 'dual': False, 'epsilon': 0.0, 'fit_intercept': True, 'intercept_scaling': 1, 'loss': 'squared_epsilon_insensitive', 'max_iter': 600, 'random_state': 42, 'tol': 0.0001, 'verbose': 0}\n"
          ]
        }
      ],
      "source": [
        "'''\n",
        "            Linear Support Vector Regressor\n",
        "'''\n",
        "if ML_OP == 'Enable':\n",
        "\n",
        "    lsvm = LinearSVR()\n",
        "    lsvm_random = RandomizedSearchCV(lsvm, random_grid_lsvm, n_iter=150, cv = 3, n_jobs = -1).fit(X_train, y_train)\n",
        "    lsvm_op = lsvm_random.best_estimator_\n",
        "\n",
        "    print('Parameters currently in use:\\n')\n",
        "    print(lsvm_op.get_params())"
      ]
    },
    {
      "cell_type": "markdown",
      "metadata": {
        "id": "PdPlLMrcioOV"
      },
      "source": [
        "## Predict y_test Using "
      ]
    },
    {
      "cell_type": "code",
      "execution_count": 60,
      "metadata": {
        "colab": {
          "base_uri": "https://localhost:8080/"
        },
        "id": "OIdWXge0ioOV",
        "outputId": "db55450d-44a6-44ad-c55c-a33dca2469e2"
      },
      "outputs": [
        {
          "output_type": "stream",
          "name": "stdout",
          "text": [
            "\n",
            "Predict y_test using Random Forest Regressor model done\n"
          ]
        }
      ],
      "source": [
        "if ML_OP == 'Enable':\n",
        "    # Random Forest Regressor\n",
        "    rf_op_pred = rf_op.predict(X_test)\n",
        "    print ('\\nPredict y_test using Random Forest Regressor model done')"
      ]
    },
    {
      "cell_type": "code",
      "execution_count": 61,
      "metadata": {
        "colab": {
          "base_uri": "https://localhost:8080/"
        },
        "id": "P_EzWWWZioOV",
        "outputId": "36916f2e-c8e0-4982-9746-07de7f2d59f0"
      },
      "outputs": [
        {
          "output_type": "stream",
          "name": "stdout",
          "text": [
            "\n",
            "Predict y_test using Gradient Boosting Regressor model done\n"
          ]
        }
      ],
      "source": [
        "if ML_OP == 'Enable':\n",
        "    # Gradient Boosting Regressor\n",
        "    gb_op_pred = gb_op.predict(X_test)\n",
        "    print ('\\nPredict y_test using Gradient Boosting Regressor model done')"
      ]
    },
    {
      "cell_type": "code",
      "execution_count": 62,
      "metadata": {
        "colab": {
          "base_uri": "https://localhost:8080/"
        },
        "id": "4uMaEBtZioOV",
        "outputId": "cd72cb52-0f57-4f04-daa5-6e0c396f779a"
      },
      "outputs": [
        {
          "output_type": "stream",
          "name": "stdout",
          "text": [
            "\n",
            "Predict y_test using Histogram-based Gradient Boosting Regression model done\n"
          ]
        }
      ],
      "source": [
        "if ML_OP == 'Enable':\n",
        "    # Histogram-based Gradient Boosting Regression Tree\n",
        "    hgb_op_pred = hgb_op.predict(X_test)\n",
        "    print ('\\nPredict y_test using Histogram-based Gradient Boosting Regression model done')"
      ]
    },
    {
      "cell_type": "code",
      "execution_count": 63,
      "metadata": {
        "colab": {
          "base_uri": "https://localhost:8080/"
        },
        "id": "e-pYVeWYioOW",
        "outputId": "d4d62b31-b65a-423c-a948-603a63906669"
      },
      "outputs": [
        {
          "output_type": "stream",
          "name": "stdout",
          "text": [
            "\n",
            "Predict y_test using AdaBoost Regressor model done\n"
          ]
        }
      ],
      "source": [
        "if ML_OP == 'Enable':\n",
        "    # AdaBoost Regressor\n",
        "    ad_op_pred = ad_op.predict(X_test)\n",
        "    print ('\\nPredict y_test using AdaBoost Regressor model done')"
      ]
    },
    {
      "cell_type": "code",
      "execution_count": 64,
      "metadata": {
        "colab": {
          "base_uri": "https://localhost:8080/"
        },
        "id": "FOFFvu79ioOW",
        "outputId": "6df45c3b-fe43-42e3-efa5-9d7bc16548a5"
      },
      "outputs": [
        {
          "output_type": "stream",
          "name": "stdout",
          "text": [
            "\n",
            "Predict y_test using Extra Trees Regressor model done\n"
          ]
        }
      ],
      "source": [
        "if ML_OP == 'Enable':\n",
        "    # Extra Trees Regressor\n",
        "    et_op_pred = et_op.predict(X_test)\n",
        "    print ('\\nPredict y_test using Extra Trees Regressor model done')"
      ]
    },
    {
      "cell_type": "code",
      "execution_count": 65,
      "metadata": {
        "colab": {
          "base_uri": "https://localhost:8080/"
        },
        "id": "DGIfOcSRioOW",
        "outputId": "b47b4dba-1545-4c5b-afdf-0ce9dec5f186"
      },
      "outputs": [
        {
          "output_type": "stream",
          "name": "stdout",
          "text": [
            "\n",
            "Predict y_test using K Neighbors Regressor model done\n"
          ]
        }
      ],
      "source": [
        "if ML_OP == 'Enable':\n",
        "    # K Neighbors Regressor\n",
        "    knn_op_pred = knn_op.predict(X_test)\n",
        "    print ('\\nPredict y_test using K Neighbors Regressor model done')"
      ]
    },
    {
      "cell_type": "code",
      "execution_count": 66,
      "metadata": {
        "colab": {
          "base_uri": "https://localhost:8080/"
        },
        "id": "Mhs9diODioOW",
        "outputId": "50d9b220-6a37-421f-af36-25264a52e73a"
      },
      "outputs": [
        {
          "output_type": "stream",
          "name": "stdout",
          "text": [
            "\n",
            "Predict y_test using Decision Tree Regressor model done\n"
          ]
        }
      ],
      "source": [
        "if ML_OP == 'Enable':\n",
        "    # Decision Tree Regressor\n",
        "    dt_op_pred = dt_op.predict(X_test)\n",
        "    print ('\\nPredict y_test using Decision Tree Regressor model done')"
      ]
    },
    {
      "cell_type": "code",
      "execution_count": 67,
      "metadata": {
        "colab": {
          "base_uri": "https://localhost:8080/"
        },
        "id": "La6yi0zKioOW",
        "outputId": "76fe530b-c57a-40d9-d998-478546bdb13c"
      },
      "outputs": [
        {
          "output_type": "stream",
          "name": "stdout",
          "text": [
            "\n",
            "Predict y_test using Support Vector Regressor model done\n"
          ]
        }
      ],
      "source": [
        "if ML_OP == 'Enable':\n",
        "    # Support Vector Machines Regressor\n",
        "    svm_op_pred = svm_op.predict(X_test)\n",
        "    print ('\\nPredict y_test using Support Vector Regressor model done')"
      ]
    },
    {
      "cell_type": "code",
      "execution_count": 68,
      "metadata": {
        "colab": {
          "base_uri": "https://localhost:8080/"
        },
        "id": "D5Gfl8_NioOX",
        "outputId": "70b003e6-91d6-424e-fa5b-e0bea2c50b39"
      },
      "outputs": [
        {
          "output_type": "stream",
          "name": "stdout",
          "text": [
            "\n",
            "Predict y_test using Linear Support Vector Regressor model done\n"
          ]
        }
      ],
      "source": [
        "if ML_OP == 'Enable':\n",
        "    # Linear Support Vector Regression\n",
        "    lsvm_op_pred = lsvm_op.predict(X_test)\n",
        "    print ('\\nPredict y_test using Linear Support Vector Regressor model done')"
      ]
    },
    {
      "cell_type": "markdown",
      "metadata": {
        "id": "Vb1kNfPdioOX"
      },
      "source": [
        "## Evaluate the Models "
      ]
    },
    {
      "cell_type": "markdown",
      "metadata": {
        "id": "bx7z7BibioOX"
      },
      "source": [
        "### Random Forest Regressor"
      ]
    },
    {
      "cell_type": "code",
      "execution_count": 69,
      "metadata": {
        "colab": {
          "base_uri": "https://localhost:8080/"
        },
        "id": "u3OozE8SioOX",
        "outputId": "fbcd700d-38d3-47cb-e95f-f4355bbdc9a7"
      },
      "outputs": [
        {
          "output_type": "stream",
          "name": "stdout",
          "text": [
            "+----+-----------------------------------------------+------------+\n",
            "|    | Random Forest Regressor Optimization Models   |   Accuracy |\n",
            "|----+-----------------------------------------------+------------|\n",
            "|  0 | Mean Absolute Error (MAE)                     |   0.215246 |\n",
            "|  1 | Mean Squared Error (MSE)                      |   0.132839 |\n",
            "|  2 | Root Mean Squared Error (RMSE)                |   0.364471 |\n",
            "|  3 | Explained Variance Score                      |   0.873221 |\n",
            "|  4 | Max Error                                     |   1.78979  |\n",
            "|  5 | Median Absolute Error                         |   0.146056 |\n",
            "|  6 | R^2                                           |   0.872156 |\n",
            "+----+-----------------------------------------------+------------+\n"
          ]
        }
      ],
      "source": [
        "if ML_OP == 'Enable':\n",
        "    # Mean Absolute Error (MAE)\n",
        "    mean_absolute_error_rf_op = mean_absolute_error(y_test, rf_op_pred)\n",
        "\n",
        "    # Mean Squared Error (MSE)\n",
        "    mean_squared_error_rf_op = mean_squared_error(y_test, rf_op_pred)\n",
        "\n",
        "    # Root Mean Squared Error (RMSE)\n",
        "    Root_mean_squared_error_rf_op = mean_squared_error(y_test, rf_op_pred, squared=False)\n",
        "\n",
        "    # Explained Variance Score\n",
        "    explained_variance_score_rf_op = explained_variance_score(y_test, rf_op_pred)\n",
        "\n",
        "    # Max Error\n",
        "    max_error_rf_op = max_error(y_test, rf_op_pred)\n",
        "\n",
        "    # Median Absolute Error\n",
        "    median_absolute_error_rf_op = median_absolute_error(y_test, rf_op_pred)\n",
        "\n",
        "    # R^2\n",
        "    r2_score_rf_op = r2_score(y_test, rf_op_pred)\n",
        "\n",
        "    rf_op_valid_compare = pd.DataFrame({\"Random Forest Regressor Optimization Models\": [\n",
        "                                                \"Mean Absolute Error (MAE)\", \n",
        "                                                \"Mean Squared Error (MSE)\",\n",
        "                                                \"Root Mean Squared Error (RMSE)\",\n",
        "                                                \"Explained Variance Score\",\n",
        "                                                \"Max Error\",\n",
        "                                                \"Median Absolute Error\",\n",
        "                                                \"R^2\",\n",
        "                                                ],\n",
        "\n",
        "                                \"Accuracy\": [\n",
        "                                                mean_absolute_error_rf_op, \n",
        "                                                mean_squared_error_rf_op,\n",
        "                                                Root_mean_squared_error_rf_op,\n",
        "                                                explained_variance_score_rf_op,\n",
        "                                                max_error_rf_op,\n",
        "                                                median_absolute_error_rf_op,\n",
        "                                                r2_score_rf_op,\n",
        "                                                ],\n",
        "                                        })  \n",
        "    print(tabulate(rf_op_valid_compare, headers = 'keys', tablefmt = 'psql'))"
      ]
    },
    {
      "cell_type": "markdown",
      "metadata": {
        "id": "AVzQHHRgioOY"
      },
      "source": [
        "### Gradient Boosting Regressor"
      ]
    },
    {
      "cell_type": "code",
      "execution_count": 70,
      "metadata": {
        "colab": {
          "base_uri": "https://localhost:8080/"
        },
        "id": "et7MxS3VioOY",
        "outputId": "b1c2f17c-20fa-40c4-9c1a-74ac3254bf64"
      },
      "outputs": [
        {
          "output_type": "stream",
          "name": "stdout",
          "text": [
            "+----+---------------------------------------------------+------------+\n",
            "|    | Gradient Boosting Regressor Optimization Models   |   Accuracy |\n",
            "|----+---------------------------------------------------+------------|\n",
            "|  0 | Mean Absolute Error (MAE)                         |  0.135142  |\n",
            "|  1 | Mean Squared Error (MSE)                          |  0.119398  |\n",
            "|  2 | Root Mean Squared Error (RMSE)                    |  0.34554   |\n",
            "|  3 | Explained Variance Score                          |  0.888419  |\n",
            "|  4 | Max Error                                         |  1.87127   |\n",
            "|  5 | Median Absolute Error                             |  0.0429703 |\n",
            "|  6 | R^2                                               |  0.885092  |\n",
            "+----+---------------------------------------------------+------------+\n"
          ]
        }
      ],
      "source": [
        "if ML_OP == 'Enable':\n",
        "    # Mean Absolute Error (MAE)\n",
        "    mean_absolute_error_gb_op = mean_absolute_error(y_test, gb_op_pred)\n",
        "\n",
        "    # Mean Squared Error (MSE)\n",
        "    mean_squared_error_gb_op = mean_squared_error(y_test, gb_op_pred)\n",
        "\n",
        "    # Root Mean Squared Error (RMSE)\n",
        "    Root_mean_squared_error_gb_op = mean_squared_error(y_test, gb_op_pred, squared=False)\n",
        "\n",
        "    # Explained Variance Score\n",
        "    explained_variance_score_gb_op = explained_variance_score(y_test, gb_op_pred)\n",
        "\n",
        "    # Max Error\n",
        "    max_error_gb_op = max_error(y_test, gb_op_pred)\n",
        "\n",
        "    # Median Absolute Error\n",
        "    median_absolute_error_gb_op = median_absolute_error(y_test, gb_op_pred)\n",
        "\n",
        "    # R^2\n",
        "    r2_score_gb_op = r2_score(y_test, gb_op_pred)\n",
        "\n",
        "    gb_op_valid_compare = pd.DataFrame({\"Gradient Boosting Regressor Optimization Models\": [\n",
        "                                                \"Mean Absolute Error (MAE)\", \n",
        "                                                \"Mean Squared Error (MSE)\",\n",
        "                                                \"Root Mean Squared Error (RMSE)\",\n",
        "                                                \"Explained Variance Score\",\n",
        "                                                \"Max Error\",\n",
        "                                                \"Median Absolute Error\",\n",
        "                                                \"R^2\",\n",
        "                                                ],\n",
        "\n",
        "                                \"Accuracy\": [\n",
        "                                                mean_absolute_error_gb_op, \n",
        "                                                mean_squared_error_gb_op,\n",
        "                                                Root_mean_squared_error_gb_op,\n",
        "                                                explained_variance_score_gb_op,\n",
        "                                                max_error_gb_op,\n",
        "                                                median_absolute_error_gb_op,\n",
        "                                                r2_score_gb_op,\n",
        "                                                ],\n",
        "                                        })  \n",
        "    print(tabulate(gb_op_valid_compare, headers = 'keys', tablefmt = 'psql'))"
      ]
    },
    {
      "cell_type": "markdown",
      "metadata": {
        "id": "149KkBy7ioOY"
      },
      "source": [
        "### Histogram-based Gradient Boosting Regressor"
      ]
    },
    {
      "cell_type": "code",
      "execution_count": 71,
      "metadata": {
        "colab": {
          "base_uri": "https://localhost:8080/"
        },
        "id": "g76J3cmrioOY",
        "outputId": "7d19888b-ddac-44e4-b3ff-d27cb04f9d46"
      },
      "outputs": [
        {
          "output_type": "stream",
          "name": "stdout",
          "text": [
            "+----+-------------------------------------------------------------------+------------+\n",
            "|    | Histogram-based Gradient Boosting Regressor Optimization Models   |   Accuracy |\n",
            "|----+-------------------------------------------------------------------+------------|\n",
            "|  0 | Mean Absolute Error (MAE)                                         |   0.208758 |\n",
            "|  1 | Mean Squared Error (MSE)                                          |   0.130452 |\n",
            "|  2 | Root Mean Squared Error (RMSE)                                    |   0.361181 |\n",
            "|  3 | Explained Variance Score                                          |   0.875375 |\n",
            "|  4 | Max Error                                                         |   1.82003  |\n",
            "|  5 | Median Absolute Error                                             |   0.133405 |\n",
            "|  6 | R^2                                                               |   0.874453 |\n",
            "+----+-------------------------------------------------------------------+------------+\n"
          ]
        }
      ],
      "source": [
        "if ML_OP == 'Enable':\n",
        "    # Mean Absolute Error (MAE)\n",
        "    mean_absolute_error_hgb_op = mean_absolute_error(y_test, hgb_op_pred)\n",
        "\n",
        "    # Mean Squared Error (MSE)\n",
        "    mean_squared_error_hgb_op = mean_squared_error(y_test, hgb_op_pred)\n",
        "\n",
        "    # Root Mean Squared Error (RMSE)\n",
        "    Root_mean_squared_error_hgb_op = mean_squared_error(y_test, hgb_op_pred, squared=False)\n",
        "\n",
        "    # Explained Variance Score\n",
        "    explained_variance_score_hgb_op = explained_variance_score(y_test, hgb_op_pred)\n",
        "\n",
        "    # Max Error\n",
        "    max_error_hgb_op = max_error(y_test, hgb_op_pred)\n",
        "\n",
        "    # Median Absolute Error\n",
        "    median_absolute_error_hgb_op = median_absolute_error(y_test, hgb_op_pred)\n",
        "\n",
        "    # R^2\n",
        "    r2_score_hgb_op = r2_score(y_test, hgb_op_pred)\n",
        "\n",
        "    hgb_op_valid_compare = pd.DataFrame({\"Histogram-based Gradient Boosting Regressor Optimization Models\": [\n",
        "                                                \"Mean Absolute Error (MAE)\", \n",
        "                                                \"Mean Squared Error (MSE)\",\n",
        "                                                \"Root Mean Squared Error (RMSE)\",\n",
        "                                                \"Explained Variance Score\",\n",
        "                                                \"Max Error\",\n",
        "                                                \"Median Absolute Error\",\n",
        "                                                \"R^2\",\n",
        "                                                ],\n",
        "\n",
        "                                \"Accuracy\": [\n",
        "                                                mean_absolute_error_hgb_op, \n",
        "                                                mean_squared_error_hgb_op,\n",
        "                                                Root_mean_squared_error_hgb_op,\n",
        "                                                explained_variance_score_hgb_op,\n",
        "                                                max_error_hgb_op,\n",
        "                                                median_absolute_error_hgb_op,\n",
        "                                                r2_score_hgb_op,\n",
        "                                                ],\n",
        "                                        })  \n",
        "    print(tabulate(hgb_op_valid_compare, headers = 'keys', tablefmt = 'psql'))"
      ]
    },
    {
      "cell_type": "markdown",
      "metadata": {
        "id": "yEJ1C15WioOZ"
      },
      "source": [
        "### AdaBoost Regressor"
      ]
    },
    {
      "cell_type": "code",
      "execution_count": 72,
      "metadata": {
        "colab": {
          "base_uri": "https://localhost:8080/"
        },
        "id": "sEYhxvjCioOZ",
        "outputId": "a1769b2b-4117-434e-bd99-42855f766b5f"
      },
      "outputs": [
        {
          "output_type": "stream",
          "name": "stdout",
          "text": [
            "+----+------------------------------------------+------------+\n",
            "|    | AdaBoost Regressor Optimization Models   |   Accuracy |\n",
            "|----+------------------------------------------+------------|\n",
            "|  0 | Mean Absolute Error (MAE)                |   0.314258 |\n",
            "|  1 | Mean Squared Error (MSE)                 |   0.174562 |\n",
            "|  2 | Root Mean Squared Error (RMSE)           |   0.417806 |\n",
            "|  3 | Explained Variance Score                 |   0.855575 |\n",
            "|  4 | Max Error                                |   1.98066  |\n",
            "|  5 | Median Absolute Error                    |   0.261738 |\n",
            "|  6 | R^2                                      |   0.832001 |\n",
            "+----+------------------------------------------+------------+\n"
          ]
        }
      ],
      "source": [
        "if ML_OP == 'Enable':\n",
        "    # Mean Absolute Error (MAE)\n",
        "    mean_absolute_error_ad_op = mean_absolute_error(y_test, ad_op_pred)\n",
        "\n",
        "    # Mean Squared Error (MSE)\n",
        "    mean_squared_error_ad_op = mean_squared_error(y_test, ad_op_pred)\n",
        "\n",
        "    # Root Mean Squared Error (RMSE)\n",
        "    Root_mean_squared_error_ad_op = mean_squared_error(y_test, ad_op_pred, squared=False)\n",
        "\n",
        "    # Explained Variance Score\n",
        "    explained_variance_score_ad_op = explained_variance_score(y_test, ad_op_pred)\n",
        "\n",
        "    # Max Error\n",
        "    max_error_ad_op = max_error(y_test, ad_op_pred)\n",
        "\n",
        "    # Median Absolute Error\n",
        "    median_absolute_error_ad_op = median_absolute_error(y_test, ad_op_pred)\n",
        "\n",
        "    # R^2\n",
        "    r2_score_ad_op = r2_score(y_test, ad_op_pred)\n",
        "\n",
        "    ad_op_valid_compare = pd.DataFrame({\"AdaBoost Regressor Optimization Models\": [\n",
        "                                                \"Mean Absolute Error (MAE)\", \n",
        "                                                \"Mean Squared Error (MSE)\",\n",
        "                                                \"Root Mean Squared Error (RMSE)\",\n",
        "                                                \"Explained Variance Score\",\n",
        "                                                \"Max Error\",\n",
        "                                                \"Median Absolute Error\",\n",
        "                                                \"R^2\",\n",
        "                                                ],\n",
        "\n",
        "                                \"Accuracy\": [\n",
        "                                                mean_absolute_error_ad_op, \n",
        "                                                mean_squared_error_ad_op,\n",
        "                                                Root_mean_squared_error_ad_op,\n",
        "                                                explained_variance_score_ad_op,\n",
        "                                                max_error_ad_op,\n",
        "                                                median_absolute_error_ad_op,\n",
        "                                                r2_score_ad_op,\n",
        "                                                ],\n",
        "                                        })  \n",
        "    print(tabulate(ad_op_valid_compare, headers = 'keys', tablefmt = 'psql'))"
      ]
    },
    {
      "cell_type": "markdown",
      "metadata": {
        "id": "-woeVr9IioOZ"
      },
      "source": [
        "### Extra Trees Regressor"
      ]
    },
    {
      "cell_type": "code",
      "execution_count": 73,
      "metadata": {
        "colab": {
          "base_uri": "https://localhost:8080/"
        },
        "id": "z3EuVLQNioOa",
        "outputId": "43dd294e-9d90-40d7-bac0-442efc94d3c1"
      },
      "outputs": [
        {
          "output_type": "stream",
          "name": "stdout",
          "text": [
            "+----+---------------------------------------------+------------+\n",
            "|    | Extra Trees Regressor Optimization Models   |   Accuracy |\n",
            "|----+---------------------------------------------+------------|\n",
            "|  0 | Mean Absolute Error (MAE)                   |   0.219408 |\n",
            "|  1 | Mean Squared Error (MSE)                    |   0.13253  |\n",
            "|  2 | Root Mean Squared Error (RMSE)              |   0.364046 |\n",
            "|  3 | Explained Variance Score                    |   0.872587 |\n",
            "|  4 | Max Error                                   |   1.77596  |\n",
            "|  5 | Median Absolute Error                       |   0.136419 |\n",
            "|  6 | R^2                                         |   0.872453 |\n",
            "+----+---------------------------------------------+------------+\n"
          ]
        }
      ],
      "source": [
        "if ML_OP == 'Enable':\n",
        "    # Mean Absolute Error (MAE)\n",
        "    mean_absolute_error_et_op = mean_absolute_error(y_test, et_op_pred)\n",
        "\n",
        "    # Mean Squared Error (MSE)\n",
        "    mean_squared_error_et_op = mean_squared_error(y_test, et_op_pred)\n",
        "\n",
        "    # Root Mean Squared Error (RMSE)\n",
        "    Root_mean_squared_error_et_op = mean_squared_error(y_test, et_op_pred, squared=False)\n",
        "\n",
        "    # Explained Variance Score\n",
        "    explained_variance_score_et_op = explained_variance_score(y_test, et_op_pred)\n",
        "\n",
        "    # Max Error\n",
        "    max_error_et_op = max_error(y_test, et_op_pred)\n",
        "\n",
        "    # Median Absolute Error\n",
        "    median_absolute_error_et_op = median_absolute_error(y_test, et_op_pred)\n",
        "\n",
        "    # R^2\n",
        "    r2_score_et_op = r2_score(y_test, et_op_pred)\n",
        "\n",
        "    et_op_valid_compare = pd.DataFrame({\"Extra Trees Regressor Optimization Models\": [\n",
        "                                                \"Mean Absolute Error (MAE)\", \n",
        "                                                \"Mean Squared Error (MSE)\",\n",
        "                                                \"Root Mean Squared Error (RMSE)\",\n",
        "                                                \"Explained Variance Score\",\n",
        "                                                \"Max Error\",\n",
        "                                                \"Median Absolute Error\",\n",
        "                                                \"R^2\",\n",
        "                                                ],\n",
        "\n",
        "                                \"Accuracy\": [\n",
        "                                                mean_absolute_error_et_op, \n",
        "                                                mean_squared_error_et_op,\n",
        "                                                Root_mean_squared_error_et_op,\n",
        "                                                explained_variance_score_et_op,\n",
        "                                                max_error_et_op,\n",
        "                                                median_absolute_error_et_op,\n",
        "                                                r2_score_et_op,\n",
        "                                                ],\n",
        "                                        })  \n",
        "    print(tabulate(et_op_valid_compare, headers = 'keys', tablefmt = 'psql'))"
      ]
    },
    {
      "cell_type": "markdown",
      "metadata": {
        "id": "qLvAt7cBioOa"
      },
      "source": [
        "### K Neighbors Regressor"
      ]
    },
    {
      "cell_type": "code",
      "execution_count": 74,
      "metadata": {
        "colab": {
          "base_uri": "https://localhost:8080/"
        },
        "id": "30FWd1_VioOa",
        "outputId": "e9294ab8-dc2f-4cbb-8230-a29c3727fdca"
      },
      "outputs": [
        {
          "output_type": "stream",
          "name": "stdout",
          "text": [
            "+----+---------------------------------------------+------------+\n",
            "|    | K Neighbors Regressor Optimization Models   |   Accuracy |\n",
            "|----+---------------------------------------------+------------|\n",
            "|  0 | Mean Absolute Error (MAE)                   |   0.243112 |\n",
            "|  1 | Mean Squared Error (MSE)                    |   0.180169 |\n",
            "|  2 | Root Mean Squared Error (RMSE)              |   0.424464 |\n",
            "|  3 | Explained Variance Score                    |   0.826698 |\n",
            "|  4 | Max Error                                   |   2.16998  |\n",
            "|  5 | Median Absolute Error                       |   0.107018 |\n",
            "|  6 | R^2                                         |   0.826605 |\n",
            "+----+---------------------------------------------+------------+\n"
          ]
        }
      ],
      "source": [
        "if ML_OP == 'Enable':\n",
        "    # Mean Absolute Error (MAE)\n",
        "    mean_absolute_error_knn_op = mean_absolute_error(y_test, knn_op_pred)\n",
        "\n",
        "    # Mean Squared Error (MSE)\n",
        "    mean_squared_error_knn_op = mean_squared_error(y_test, knn_op_pred)\n",
        "\n",
        "    # Root Mean Squared Error (RMSE)\n",
        "    Root_mean_squared_error_knn_op = mean_squared_error(y_test, knn_op_pred, squared=False)\n",
        "\n",
        "    # Explained Variance Score\n",
        "    explained_variance_score_knn_op = explained_variance_score(y_test, knn_op_pred)\n",
        "\n",
        "    # Max Error\n",
        "    max_error_knn_op = max_error(y_test, knn_op_pred)\n",
        "\n",
        "    # Median Absolute Error\n",
        "    median_absolute_error_knn_op = median_absolute_error(y_test, knn_op_pred)\n",
        "\n",
        "    # R^2\n",
        "    r2_score_knn_op = r2_score(y_test, knn_op_pred)\n",
        "\n",
        "    knn_op_valid_compare = pd.DataFrame({\"K Neighbors Regressor Optimization Models\": [\n",
        "                                                \"Mean Absolute Error (MAE)\", \n",
        "                                                \"Mean Squared Error (MSE)\",\n",
        "                                                \"Root Mean Squared Error (RMSE)\",\n",
        "                                                \"Explained Variance Score\",\n",
        "                                                \"Max Error\",\n",
        "                                                \"Median Absolute Error\",\n",
        "                                                \"R^2\",\n",
        "                                                ],\n",
        "\n",
        "                                \"Accuracy\": [\n",
        "                                                mean_absolute_error_knn_op, \n",
        "                                                mean_squared_error_knn_op,\n",
        "                                                Root_mean_squared_error_knn_op,\n",
        "                                                explained_variance_score_knn_op,\n",
        "                                                max_error_knn_op,\n",
        "                                                median_absolute_error_knn_op,\n",
        "                                                r2_score_knn_op,\n",
        "                                                ],\n",
        "                                        })  \n",
        "    print(tabulate(knn_op_valid_compare, headers = 'keys', tablefmt = 'psql'))"
      ]
    },
    {
      "cell_type": "markdown",
      "metadata": {
        "id": "ftDBRr8SioOb"
      },
      "source": [
        "### Decision Tree Regressor"
      ]
    },
    {
      "cell_type": "code",
      "execution_count": 75,
      "metadata": {
        "colab": {
          "base_uri": "https://localhost:8080/"
        },
        "id": "Rg6z2BBTioOb",
        "outputId": "bd03188b-b027-471a-9434-adb3341ef604"
      },
      "outputs": [
        {
          "output_type": "stream",
          "name": "stdout",
          "text": [
            "+----+-----------------------------------------------+------------+\n",
            "|    | Decision Tree Regressor Optimization Models   |   Accuracy |\n",
            "|----+-----------------------------------------------+------------|\n",
            "|  0 | Mean Absolute Error (MAE)                     |  0.153377  |\n",
            "|  1 | Mean Squared Error (MSE)                      |  0.133978  |\n",
            "|  2 | Root Mean Squared Error (RMSE)                |  0.36603   |\n",
            "|  3 | Explained Variance Score                      |  0.874972  |\n",
            "|  4 | Max Error                                     |  1.85823   |\n",
            "|  5 | Median Absolute Error                         |  0.0592493 |\n",
            "|  6 | R^2                                           |  0.871059  |\n",
            "+----+-----------------------------------------------+------------+\n"
          ]
        }
      ],
      "source": [
        "if ML_OP == 'Enable':\n",
        "    # Mean Absolute Error (MAE)\n",
        "    mean_absolute_error_dt_op = mean_absolute_error(y_test, dt_op_pred)\n",
        "\n",
        "    # Mean Squared Error (MSE)\n",
        "    mean_squared_error_dt_op = mean_squared_error(y_test, dt_op_pred)\n",
        "\n",
        "    # Root Mean Squared Error (RMSE)\n",
        "    Root_mean_squared_error_dt_op = mean_squared_error(y_test, dt_op_pred, squared=False)\n",
        "\n",
        "    # Explained Variance Score\n",
        "    explained_variance_score_dt_op = explained_variance_score(y_test, dt_op_pred)\n",
        "\n",
        "    # Max Error\n",
        "    max_error_dt_op = max_error(y_test, dt_op_pred)\n",
        "\n",
        "    # Median Absolute Error\n",
        "    median_absolute_error_dt_op = median_absolute_error(y_test, dt_op_pred)\n",
        "\n",
        "    # R^2\n",
        "    r2_score_dt_op = r2_score(y_test, dt_op_pred)\n",
        "\n",
        "    dt_op_valid_compare = pd.DataFrame({\"Decision Tree Regressor Optimization Models\": [\n",
        "                                                \"Mean Absolute Error (MAE)\", \n",
        "                                                \"Mean Squared Error (MSE)\",\n",
        "                                                \"Root Mean Squared Error (RMSE)\",\n",
        "                                                \"Explained Variance Score\",\n",
        "                                                \"Max Error\",\n",
        "                                                \"Median Absolute Error\",\n",
        "                                                \"R^2\",\n",
        "                                                ],\n",
        "\n",
        "                                \"Accuracy\": [\n",
        "                                                mean_absolute_error_dt_op, \n",
        "                                                mean_squared_error_dt_op,\n",
        "                                                Root_mean_squared_error_dt_op,\n",
        "                                                explained_variance_score_dt_op,\n",
        "                                                max_error_dt_op,\n",
        "                                                median_absolute_error_dt_op,\n",
        "                                                r2_score_dt_op,\n",
        "                                                ],\n",
        "                                        })  \n",
        "    print(tabulate(dt_op_valid_compare, headers = 'keys', tablefmt = 'psql'))"
      ]
    },
    {
      "cell_type": "markdown",
      "metadata": {
        "id": "N0VnqyA_ioOb"
      },
      "source": [
        "### Support Vector Regressor"
      ]
    },
    {
      "cell_type": "code",
      "execution_count": 76,
      "metadata": {
        "colab": {
          "base_uri": "https://localhost:8080/"
        },
        "id": "gcgG6r22ioOc",
        "outputId": "ec6c0d8f-e64c-4be9-adf1-1a09b6942705"
      },
      "outputs": [
        {
          "output_type": "stream",
          "name": "stdout",
          "text": [
            "+----+------------------------------------------------+------------+\n",
            "|    | Support Vector Regressor Optimization Models   |   Accuracy |\n",
            "|----+------------------------------------------------+------------|\n",
            "|  0 | Mean Absolute Error (MAE)                      |   0.631991 |\n",
            "|  1 | Mean Squared Error (MSE)                       |   0.564042 |\n",
            "|  2 | Root Mean Squared Error (RMSE)                 |   0.751027 |\n",
            "|  3 | Explained Variance Score                       |   0.677325 |\n",
            "|  4 | Max Error                                      |   1.76411  |\n",
            "|  5 | Median Absolute Error                          |   0.606485 |\n",
            "|  6 | R^2                                            |   0.457165 |\n",
            "+----+------------------------------------------------+------------+\n"
          ]
        }
      ],
      "source": [
        "if ML_OP == 'Enable':\n",
        "    # Mean Absolute Error (MAE)\n",
        "    mean_absolute_error_svm_op = mean_absolute_error(y_test, svm_op_pred)\n",
        "\n",
        "    # Mean Squared Error (MSE)\n",
        "    mean_squared_error_svm_op = mean_squared_error(y_test, svm_op_pred)\n",
        "\n",
        "    # Root Mean Squared Error (RMSE)\n",
        "    Root_mean_squared_error_svm_op = mean_squared_error(y_test, svm_op_pred, squared=False)\n",
        "\n",
        "    # Explained Variance Score\n",
        "    explained_variance_score_svm_op = explained_variance_score(y_test, svm_op_pred)\n",
        "\n",
        "    # Max Error\n",
        "    max_error_svm_op = max_error(y_test, svm_op_pred)\n",
        "\n",
        "    # Median Absolute Error\n",
        "    median_absolute_error_svm_op = median_absolute_error(y_test, svm_op_pred)\n",
        "\n",
        "    # R^2\n",
        "    r2_score_svm_op = r2_score(y_test, svm_op_pred)\n",
        "\n",
        "    svm_op_valid_compare = pd.DataFrame({\"Support Vector Regressor Optimization Models\": [\n",
        "                                                \"Mean Absolute Error (MAE)\", \n",
        "                                                \"Mean Squared Error (MSE)\",\n",
        "                                                \"Root Mean Squared Error (RMSE)\",\n",
        "                                                \"Explained Variance Score\",\n",
        "                                                \"Max Error\",\n",
        "                                                \"Median Absolute Error\",\n",
        "                                                \"R^2\",\n",
        "                                                ],\n",
        "\n",
        "                                \"Accuracy\": [\n",
        "                                                mean_absolute_error_svm_op, \n",
        "                                                mean_squared_error_svm_op,\n",
        "                                                Root_mean_squared_error_svm_op,\n",
        "                                                explained_variance_score_svm_op,\n",
        "                                                max_error_svm_op,\n",
        "                                                median_absolute_error_svm_op,\n",
        "                                                r2_score_svm_op,\n",
        "                                                ],\n",
        "                                        })  \n",
        "    print(tabulate(svm_op_valid_compare, headers = 'keys', tablefmt = 'psql'))"
      ]
    },
    {
      "cell_type": "markdown",
      "metadata": {
        "id": "ytsYMxxAioOc"
      },
      "source": [
        "### Linear Support Vector Regressor"
      ]
    },
    {
      "cell_type": "code",
      "execution_count": 77,
      "metadata": {
        "colab": {
          "base_uri": "https://localhost:8080/"
        },
        "id": "kMp3nq_8ioOc",
        "outputId": "0abda747-b976-41fd-ad9c-4f6117498eb3"
      },
      "outputs": [
        {
          "output_type": "stream",
          "name": "stdout",
          "text": [
            "+----+-------------------------------------------------------+------------+\n",
            "|    | Linear Support Vector Regressor Optimization Models   |   Accuracy |\n",
            "|----+-------------------------------------------------------+------------|\n",
            "|  0 | Mean Absolute Error (MAE)                             |   0.334697 |\n",
            "|  1 | Mean Squared Error (MSE)                              |   0.21093  |\n",
            "|  2 | Root Mean Squared Error (RMSE)                        |   0.459271 |\n",
            "|  3 | Explained Variance Score                              |   0.798014 |\n",
            "|  4 | Max Error                                             |   1.64148  |\n",
            "|  5 | Median Absolute Error                                 |   0.215783 |\n",
            "|  6 | R^2                                                   |   0.797001 |\n",
            "+----+-------------------------------------------------------+------------+\n"
          ]
        }
      ],
      "source": [
        "if ML_OP == 'Enable':\n",
        "    # Mean Absolute Error (MAE)\n",
        "    mean_absolute_error_lsvm_op = mean_absolute_error(y_test, lsvm_op_pred)\n",
        "\n",
        "    # Mean Squared Error (MSE)\n",
        "    mean_squared_error_lsvm_op = mean_squared_error(y_test, lsvm_op_pred)\n",
        "\n",
        "    # Root Mean Squared Error (RMSE)\n",
        "    Root_mean_squared_error_lsvm_op = mean_squared_error(y_test, lsvm_op_pred, squared=False)\n",
        "\n",
        "    # Explained Variance Score\n",
        "    explained_variance_score_lsvm_op = explained_variance_score(y_test, lsvm_op_pred)\n",
        "\n",
        "    # Max Error\n",
        "    max_error_lsvm_op = max_error(y_test, lsvm_op_pred)\n",
        "\n",
        "    # Median Absolute Error\n",
        "    median_absolute_error_lsvm_op = median_absolute_error(y_test, lsvm_op_pred)\n",
        "\n",
        "    # R^2\n",
        "    r2_score_lsvm_op = r2_score(y_test, lsvm_op_pred)\n",
        "\n",
        "    lsvm_op_valid_compare = pd.DataFrame({\"Linear Support Vector Regressor Optimization Models\": [\n",
        "                                                \"Mean Absolute Error (MAE)\", \n",
        "                                                \"Mean Squared Error (MSE)\",\n",
        "                                                \"Root Mean Squared Error (RMSE)\",\n",
        "                                                \"Explained Variance Score\",\n",
        "                                                \"Max Error\",\n",
        "                                                \"Median Absolute Error\",\n",
        "                                                \"R^2\",\n",
        "                                                ],\n",
        "\n",
        "                                \"Accuracy\": [\n",
        "                                                mean_absolute_error_lsvm_op, \n",
        "                                                mean_squared_error_lsvm_op,\n",
        "                                                Root_mean_squared_error_lsvm_op,\n",
        "                                                explained_variance_score_lsvm_op,\n",
        "                                                max_error_lsvm_op,\n",
        "                                                median_absolute_error_lsvm_op,\n",
        "                                                r2_score_lsvm_op,\n",
        "                                                ],\n",
        "                                        })  \n",
        "    print(tabulate(lsvm_op_valid_compare, headers = 'keys', tablefmt = 'psql'))"
      ]
    },
    {
      "cell_type": "markdown",
      "metadata": {
        "id": "rE-098G7ioOd"
      },
      "source": [
        "# Data Predication"
      ]
    },
    {
      "cell_type": "markdown",
      "metadata": {
        "id": "hE0Su2RvioOd"
      },
      "source": [
        "## Build the DataFrame"
      ]
    },
    {
      "cell_type": "code",
      "execution_count": 78,
      "metadata": {
        "id": "tjVTeCJ_ioOd"
      },
      "outputs": [],
      "source": [
        "# Original Prediction\n",
        "Predication_result = pd.DataFrame()\n",
        "Predication_result['Original Score'] = y_test\n",
        "\n",
        "# round\n",
        "Predication_result_round = pd.DataFrame()\n",
        "Predication_result_round['Original Score'] = y_test\n",
        "\n",
        "# Ceiling\n",
        "Predication_result_Ceiling= pd.DataFrame()\n",
        "Predication_result_Ceiling['Original Score'] = y_test\n",
        "\n",
        "# Floor\n",
        "Predication_result_Floor= pd.DataFrame()\n",
        "Predication_result_Floor['Original Score'] = y_test"
      ]
    },
    {
      "cell_type": "markdown",
      "metadata": {
        "id": "MuNYk3ZcioOd"
      },
      "source": [
        "## Original Prediction Score  Predication Using IDV  Historical Data"
      ]
    },
    {
      "cell_type": "code",
      "execution_count": 79,
      "metadata": {
        "id": "2nPAvkXCioOd"
      },
      "outputs": [],
      "source": [
        "if ML_ST == 'Enable':\n",
        "\n",
        "    Predication_result['ST_RF'] = rf_ST_pred\n",
        "    Predication_result['ST_GB'] = gb_ST_pred\n",
        "    Predication_result['ST_HGB'] = hgb_ST_pred\n",
        "    Predication_result['ST_AD'] = ad_ST_pred\n",
        "    Predication_result['ST_ET'] = et_ST_pred\n",
        "    Predication_result['ST_KNN'] = knn_ST_pred\n",
        "    Predication_result['ST_DT'] = dt_ST_pred\n",
        "    Predication_result['ST_XGB'] = xgb_ST_pred\n",
        "    Predication_result['ST_SVM'] = svm_ST_pred\n",
        "    Predication_result['ST_LSVM'] = lsvm_ST_pred\n",
        "    Predication_result['ST_MLP'] = mlp_ST_pred\n",
        "\n",
        "if ML_OP == 'Enable':\n",
        "\n",
        "    Predication_result['OP_RF'] = rf_op_pred\n",
        "    Predication_result['OP_GB'] = gb_op_pred\n",
        "    Predication_result['OP_HGB'] = hgb_op_pred\n",
        "    Predication_result['OP_AD'] = ad_op_pred\n",
        "    Predication_result['OP_ET'] = et_op_pred\n",
        "    Predication_result['OP_KNN'] = knn_op_pred\n",
        "    Predication_result['OP_DT'] = dt_op_pred\n",
        "    Predication_result['OP_SVM'] = svm_op_pred\n",
        "    Predication_result['OP_LSVM'] = lsvm_op_pred"
      ]
    },
    {
      "cell_type": "code",
      "execution_count": 80,
      "metadata": {
        "id": "7MEDWNYKioOe"
      },
      "outputs": [],
      "source": [
        "Predication_result.to_csv(fr'C:\\Users\\MY LAPTOP\\Desktop\\Accuyield\\Predication_Sport_Mponks\\Predication_result.csv', index=False)"
      ]
    },
    {
      "cell_type": "markdown",
      "metadata": {
        "id": "_J-9XUPOioOe"
      },
      "source": [
        "## Show the Predication Data"
      ]
    },
    {
      "cell_type": "code",
      "execution_count": 81,
      "metadata": {
        "colab": {
          "base_uri": "https://localhost:8080/",
          "height": 288
        },
        "id": "N8HoWEPgioOe",
        "outputId": "ce8c364d-a43f-41f8-d1ea-ee0dd4d468fc"
      },
      "outputs": [
        {
          "output_type": "execute_result",
          "data": {
            "text/plain": [
              "      Original Score  ST_RF  ST_GB  ST_HGB  ST_AD  ST_ET  ST_KNN  ST_DT  \\\n",
              "764           -0.345 -0.272 -0.240  -0.179 -0.261 -0.122  -0.395 -0.334   \n",
              "887           -0.661 -0.629 -0.633  -0.615 -0.551 -0.694  -0.697 -0.733   \n",
              "890            1.327  1.225  1.180   1.235  0.995  1.273   1.168  1.295   \n",
              "1293          -0.328 -0.262 -0.286  -0.360 -0.261 -0.259  -0.339 -0.334   \n",
              "259            1.692  1.758  1.723   1.711  2.073  1.810   1.204  1.690   \n",
              "\n",
              "      ST_XGB  ST_SVM  ST_LSVM  ST_MLP  OP_RF  OP_GB  OP_HGB  OP_AD  OP_ET  \\\n",
              "764   -0.211  -0.299   -0.342  -0.250 -0.249 -0.305  -0.186 -0.261 -0.305   \n",
              "887   -0.619  -0.635   -0.610  -0.675 -0.610 -0.677  -0.615 -0.551 -0.571   \n",
              "890    1.216   1.398    2.559   1.526  1.067  1.246   1.042  0.995  1.402   \n",
              "1293  -0.261  -0.284   -0.301  -0.250 -0.250 -0.377  -0.302 -0.261 -0.282   \n",
              "259    1.694   1.130    1.586   1.444  1.907  1.759   1.732  2.073  1.492   \n",
              "\n",
              "      OP_KNN  OP_DT  OP_SVM  OP_LSVM  \n",
              "764   -0.396 -0.397  -0.216   -0.358  \n",
              "887   -0.681 -0.706   0.019   -0.510  \n",
              "890    1.260  1.245   1.754    1.965  \n",
              "1293  -0.362 -0.397  -0.199   -0.305  \n",
              "259    1.563  1.772   2.179    1.132  "
            ],
            "text/html": [
              "\n",
              "  <div id=\"df-bfaf00e1-dfe3-495d-9925-4eba520a7c8f\">\n",
              "    <div class=\"colab-df-container\">\n",
              "      <div>\n",
              "<style scoped>\n",
              "    .dataframe tbody tr th:only-of-type {\n",
              "        vertical-align: middle;\n",
              "    }\n",
              "\n",
              "    .dataframe tbody tr th {\n",
              "        vertical-align: top;\n",
              "    }\n",
              "\n",
              "    .dataframe thead th {\n",
              "        text-align: right;\n",
              "    }\n",
              "</style>\n",
              "<table border=\"1\" class=\"dataframe\">\n",
              "  <thead>\n",
              "    <tr style=\"text-align: right;\">\n",
              "      <th></th>\n",
              "      <th>Original Score</th>\n",
              "      <th>ST_RF</th>\n",
              "      <th>ST_GB</th>\n",
              "      <th>ST_HGB</th>\n",
              "      <th>ST_AD</th>\n",
              "      <th>ST_ET</th>\n",
              "      <th>ST_KNN</th>\n",
              "      <th>ST_DT</th>\n",
              "      <th>ST_XGB</th>\n",
              "      <th>ST_SVM</th>\n",
              "      <th>ST_LSVM</th>\n",
              "      <th>ST_MLP</th>\n",
              "      <th>OP_RF</th>\n",
              "      <th>OP_GB</th>\n",
              "      <th>OP_HGB</th>\n",
              "      <th>OP_AD</th>\n",
              "      <th>OP_ET</th>\n",
              "      <th>OP_KNN</th>\n",
              "      <th>OP_DT</th>\n",
              "      <th>OP_SVM</th>\n",
              "      <th>OP_LSVM</th>\n",
              "    </tr>\n",
              "  </thead>\n",
              "  <tbody>\n",
              "    <tr>\n",
              "      <th>764</th>\n",
              "      <td>-0.345</td>\n",
              "      <td>-0.272</td>\n",
              "      <td>-0.240</td>\n",
              "      <td>-0.179</td>\n",
              "      <td>-0.261</td>\n",
              "      <td>-0.122</td>\n",
              "      <td>-0.395</td>\n",
              "      <td>-0.334</td>\n",
              "      <td>-0.211</td>\n",
              "      <td>-0.299</td>\n",
              "      <td>-0.342</td>\n",
              "      <td>-0.250</td>\n",
              "      <td>-0.249</td>\n",
              "      <td>-0.305</td>\n",
              "      <td>-0.186</td>\n",
              "      <td>-0.261</td>\n",
              "      <td>-0.305</td>\n",
              "      <td>-0.396</td>\n",
              "      <td>-0.397</td>\n",
              "      <td>-0.216</td>\n",
              "      <td>-0.358</td>\n",
              "    </tr>\n",
              "    <tr>\n",
              "      <th>887</th>\n",
              "      <td>-0.661</td>\n",
              "      <td>-0.629</td>\n",
              "      <td>-0.633</td>\n",
              "      <td>-0.615</td>\n",
              "      <td>-0.551</td>\n",
              "      <td>-0.694</td>\n",
              "      <td>-0.697</td>\n",
              "      <td>-0.733</td>\n",
              "      <td>-0.619</td>\n",
              "      <td>-0.635</td>\n",
              "      <td>-0.610</td>\n",
              "      <td>-0.675</td>\n",
              "      <td>-0.610</td>\n",
              "      <td>-0.677</td>\n",
              "      <td>-0.615</td>\n",
              "      <td>-0.551</td>\n",
              "      <td>-0.571</td>\n",
              "      <td>-0.681</td>\n",
              "      <td>-0.706</td>\n",
              "      <td>0.019</td>\n",
              "      <td>-0.510</td>\n",
              "    </tr>\n",
              "    <tr>\n",
              "      <th>890</th>\n",
              "      <td>1.327</td>\n",
              "      <td>1.225</td>\n",
              "      <td>1.180</td>\n",
              "      <td>1.235</td>\n",
              "      <td>0.995</td>\n",
              "      <td>1.273</td>\n",
              "      <td>1.168</td>\n",
              "      <td>1.295</td>\n",
              "      <td>1.216</td>\n",
              "      <td>1.398</td>\n",
              "      <td>2.559</td>\n",
              "      <td>1.526</td>\n",
              "      <td>1.067</td>\n",
              "      <td>1.246</td>\n",
              "      <td>1.042</td>\n",
              "      <td>0.995</td>\n",
              "      <td>1.402</td>\n",
              "      <td>1.260</td>\n",
              "      <td>1.245</td>\n",
              "      <td>1.754</td>\n",
              "      <td>1.965</td>\n",
              "    </tr>\n",
              "    <tr>\n",
              "      <th>1293</th>\n",
              "      <td>-0.328</td>\n",
              "      <td>-0.262</td>\n",
              "      <td>-0.286</td>\n",
              "      <td>-0.360</td>\n",
              "      <td>-0.261</td>\n",
              "      <td>-0.259</td>\n",
              "      <td>-0.339</td>\n",
              "      <td>-0.334</td>\n",
              "      <td>-0.261</td>\n",
              "      <td>-0.284</td>\n",
              "      <td>-0.301</td>\n",
              "      <td>-0.250</td>\n",
              "      <td>-0.250</td>\n",
              "      <td>-0.377</td>\n",
              "      <td>-0.302</td>\n",
              "      <td>-0.261</td>\n",
              "      <td>-0.282</td>\n",
              "      <td>-0.362</td>\n",
              "      <td>-0.397</td>\n",
              "      <td>-0.199</td>\n",
              "      <td>-0.305</td>\n",
              "    </tr>\n",
              "    <tr>\n",
              "      <th>259</th>\n",
              "      <td>1.692</td>\n",
              "      <td>1.758</td>\n",
              "      <td>1.723</td>\n",
              "      <td>1.711</td>\n",
              "      <td>2.073</td>\n",
              "      <td>1.810</td>\n",
              "      <td>1.204</td>\n",
              "      <td>1.690</td>\n",
              "      <td>1.694</td>\n",
              "      <td>1.130</td>\n",
              "      <td>1.586</td>\n",
              "      <td>1.444</td>\n",
              "      <td>1.907</td>\n",
              "      <td>1.759</td>\n",
              "      <td>1.732</td>\n",
              "      <td>2.073</td>\n",
              "      <td>1.492</td>\n",
              "      <td>1.563</td>\n",
              "      <td>1.772</td>\n",
              "      <td>2.179</td>\n",
              "      <td>1.132</td>\n",
              "    </tr>\n",
              "  </tbody>\n",
              "</table>\n",
              "</div>\n",
              "      <button class=\"colab-df-convert\" onclick=\"convertToInteractive('df-bfaf00e1-dfe3-495d-9925-4eba520a7c8f')\"\n",
              "              title=\"Convert this dataframe to an interactive table.\"\n",
              "              style=\"display:none;\">\n",
              "        \n",
              "  <svg xmlns=\"http://www.w3.org/2000/svg\" height=\"24px\"viewBox=\"0 0 24 24\"\n",
              "       width=\"24px\">\n",
              "    <path d=\"M0 0h24v24H0V0z\" fill=\"none\"/>\n",
              "    <path d=\"M18.56 5.44l.94 2.06.94-2.06 2.06-.94-2.06-.94-.94-2.06-.94 2.06-2.06.94zm-11 1L8.5 8.5l.94-2.06 2.06-.94-2.06-.94L8.5 2.5l-.94 2.06-2.06.94zm10 10l.94 2.06.94-2.06 2.06-.94-2.06-.94-.94-2.06-.94 2.06-2.06.94z\"/><path d=\"M17.41 7.96l-1.37-1.37c-.4-.4-.92-.59-1.43-.59-.52 0-1.04.2-1.43.59L10.3 9.45l-7.72 7.72c-.78.78-.78 2.05 0 2.83L4 21.41c.39.39.9.59 1.41.59.51 0 1.02-.2 1.41-.59l7.78-7.78 2.81-2.81c.8-.78.8-2.07 0-2.86zM5.41 20L4 18.59l7.72-7.72 1.47 1.35L5.41 20z\"/>\n",
              "  </svg>\n",
              "      </button>\n",
              "      \n",
              "  <style>\n",
              "    .colab-df-container {\n",
              "      display:flex;\n",
              "      flex-wrap:wrap;\n",
              "      gap: 12px;\n",
              "    }\n",
              "\n",
              "    .colab-df-convert {\n",
              "      background-color: #E8F0FE;\n",
              "      border: none;\n",
              "      border-radius: 50%;\n",
              "      cursor: pointer;\n",
              "      display: none;\n",
              "      fill: #1967D2;\n",
              "      height: 32px;\n",
              "      padding: 0 0 0 0;\n",
              "      width: 32px;\n",
              "    }\n",
              "\n",
              "    .colab-df-convert:hover {\n",
              "      background-color: #E2EBFA;\n",
              "      box-shadow: 0px 1px 2px rgba(60, 64, 67, 0.3), 0px 1px 3px 1px rgba(60, 64, 67, 0.15);\n",
              "      fill: #174EA6;\n",
              "    }\n",
              "\n",
              "    [theme=dark] .colab-df-convert {\n",
              "      background-color: #3B4455;\n",
              "      fill: #D2E3FC;\n",
              "    }\n",
              "\n",
              "    [theme=dark] .colab-df-convert:hover {\n",
              "      background-color: #434B5C;\n",
              "      box-shadow: 0px 1px 3px 1px rgba(0, 0, 0, 0.15);\n",
              "      filter: drop-shadow(0px 1px 2px rgba(0, 0, 0, 0.3));\n",
              "      fill: #FFFFFF;\n",
              "    }\n",
              "  </style>\n",
              "\n",
              "      <script>\n",
              "        const buttonEl =\n",
              "          document.querySelector('#df-bfaf00e1-dfe3-495d-9925-4eba520a7c8f button.colab-df-convert');\n",
              "        buttonEl.style.display =\n",
              "          google.colab.kernel.accessAllowed ? 'block' : 'none';\n",
              "\n",
              "        async function convertToInteractive(key) {\n",
              "          const element = document.querySelector('#df-bfaf00e1-dfe3-495d-9925-4eba520a7c8f');\n",
              "          const dataTable =\n",
              "            await google.colab.kernel.invokeFunction('convertToInteractive',\n",
              "                                                     [key], {});\n",
              "          if (!dataTable) return;\n",
              "\n",
              "          const docLinkHtml = 'Like what you see? Visit the ' +\n",
              "            '<a target=\"_blank\" href=https://colab.research.google.com/notebooks/data_table.ipynb>data table notebook</a>'\n",
              "            + ' to learn more about interactive tables.';\n",
              "          element.innerHTML = '';\n",
              "          dataTable['output_type'] = 'display_data';\n",
              "          await google.colab.output.renderOutput(dataTable, element);\n",
              "          const docLink = document.createElement('div');\n",
              "          docLink.innerHTML = docLinkHtml;\n",
              "          element.appendChild(docLink);\n",
              "        }\n",
              "      </script>\n",
              "    </div>\n",
              "  </div>\n",
              "  "
            ]
          },
          "metadata": {},
          "execution_count": 81
        }
      ],
      "source": [
        "pd.DataFrame(Predication_result.head())"
      ]
    },
    {
      "cell_type": "markdown",
      "metadata": {
        "id": "Ck-KJxGrioOf"
      },
      "source": [
        "# Save and Load the Machine Learning Models"
      ]
    },
    {
      "cell_type": "markdown",
      "metadata": {
        "id": "3hJDYHVrioOf"
      },
      "source": [
        "## Standered Machien Learning Models "
      ]
    },
    {
      "cell_type": "markdown",
      "metadata": {
        "id": "H-IQVG_RioOf"
      },
      "source": [
        "### Save the Machine Learning Models "
      ]
    },
    {
      "cell_type": "code",
      "execution_count": 82,
      "metadata": {
        "colab": {
          "base_uri": "https://localhost:8080/"
        },
        "id": "07bITxEvioOf",
        "outputId": "7d02eaea-b91b-49f2-c80b-3f5432daac10"
      },
      "outputs": [
        {
          "output_type": "stream",
          "name": "stdout",
          "text": [
            "Create file name rf_ST\n",
            "Model: RandomForestRegressor(random_state=42) Saved\n",
            "\n",
            "Create file name gb_ST\n",
            "Model: GradientBoostingRegressor(random_state=42) Saved\n",
            "\n",
            "Create file name hgb_ST\n",
            "Model: HistGradientBoostingRegressor(random_state=42) Saved\n",
            "\n",
            "Create file name ad_ST\n",
            "Model: AdaBoostRegressor(random_state=42) Saved\n",
            "\n",
            "Create file name et_ST\n",
            "Model: ExtraTreesRegressor(random_state=42) Saved\n",
            "\n",
            "Create file name knn_ST\n",
            "Model: KNeighborsRegressor() Saved\n",
            "\n",
            "Create file name dt_ST\n",
            "Model: DecisionTreeRegressor(random_state=42) Saved\n",
            "\n",
            "Create file name xgb_ST\n",
            "Model: XGBRegressor(random_state=42) Saved\n",
            "\n",
            "Create file name svm_ST\n",
            "Model: SVR() Saved\n",
            "\n",
            "Create file name lsvm_ST\n",
            "Model: LinearSVR(random_state=42) Saved\n",
            "\n",
            "Create file name mlp_ST\n",
            "Model: MLPRegressor(random_state=42) Saved\n",
            "\n"
          ]
        }
      ],
      "source": [
        "if ML_ST == 'Enable':\n",
        "       \n",
        "    ML_ = [\n",
        "        \n",
        "        rf_ST, gb_ST, hgb_ST, ad_ST, et_ST, knn_ST,\n",
        "        dt_ST, xgb_ST, svm_ST, lsvm_ST, mlp_ST\n",
        "        \n",
        "        ]\n",
        "\n",
        "    ML_Name_ = [\n",
        "        \n",
        "        'rf_ST', 'gb_ST', 'hgb_ST', 'ad_ST', 'et_ST', 'knn_ST',\n",
        "        'dt_ST', 'xgb_ST', 'svm_ST', 'lsvm_ST', 'mlp_ST'\n",
        "        \n",
        "        ]\n",
        "\n",
        "    Save_ML(ML_Name_, ML_)"
      ]
    },
    {
      "cell_type": "markdown",
      "metadata": {
        "id": "t7N-b6IkioOg"
      },
      "source": [
        "### load the Machine Learning Models "
      ]
    },
    {
      "cell_type": "code",
      "execution_count": 83,
      "metadata": {
        "colab": {
          "base_uri": "https://localhost:8080/"
        },
        "id": "JbjU8hMjioOg",
        "outputId": "3266aa4a-4360-489f-970c-da132193c9b2"
      },
      "outputs": [
        {
          "output_type": "stream",
          "name": "stdout",
          "text": [
            "Model: RandomForestRegressor(random_state=42) Loaded\n",
            "\n",
            "Model: GradientBoostingRegressor(random_state=42) Loaded\n",
            "\n",
            "Model: HistGradientBoostingRegressor(random_state=42) Loaded\n",
            "\n",
            "Model: AdaBoostRegressor(random_state=42) Loaded\n",
            "\n",
            "Model: ExtraTreesRegressor(random_state=42) Loaded\n",
            "\n",
            "Model: KNeighborsRegressor() Loaded\n",
            "\n",
            "Model: DecisionTreeRegressor(random_state=42) Loaded\n",
            "\n",
            "[02:54:19] WARNING: /workspace/src/objective/regression_obj.cu:152: reg:linear is now deprecated in favor of reg:squarederror.\n",
            "Model: XGBRegressor(missing=nan, random_state=42) Loaded\n",
            "\n",
            "Model: SVR() Loaded\n",
            "\n",
            "Model: LinearSVR(random_state=42) Loaded\n",
            "\n",
            "Model: MLPRegressor(random_state=42) Loaded\n",
            "\n"
          ]
        }
      ],
      "source": [
        "if ML_ST == 'Enable':\n",
        "\n",
        "    with open(\"rf_ST\", \"rb\") as file:\n",
        "        rf_ST = pickle.load(file)\n",
        "        print(f'Model: {rf_ST} Loaded\\n')\n",
        "\n",
        "    with open(\"gb_ST\", \"rb\") as file:\n",
        "        gb_ST = pickle.load(file)\n",
        "        print(f'Model: {gb_ST} Loaded\\n')\n",
        "\n",
        "    with open(\"hgb_ST\", \"rb\") as file:\n",
        "        hgb_ST = pickle.load(file)\n",
        "        print(f'Model: {hgb_ST} Loaded\\n')\n",
        "\n",
        "    with open(\"ad_ST\", \"rb\") as file:\n",
        "        ad_ST = pickle.load(file)\n",
        "        print(f'Model: {ad_ST} Loaded\\n')\n",
        "\n",
        "    with open(\"et_ST\", \"rb\") as file:\n",
        "        et_ST = pickle.load(file)\n",
        "        print(f'Model: {et_ST} Loaded\\n')\n",
        "\n",
        "    with open(\"knn_ST\", \"rb\") as file:\n",
        "        knn_ST = pickle.load(file)\n",
        "        print(f'Model: {knn_ST} Loaded\\n')\n",
        "\n",
        "    with open(\"dt_ST\", \"rb\") as file:\n",
        "        dt_ST = pickle.load(file)\n",
        "        print(f'Model: {dt_ST} Loaded\\n')\n",
        "\n",
        "    with open(\"xgb_ST\", \"rb\") as file:\n",
        "        xgb_ST = pickle.load(file)\n",
        "        print(f'Model: {xgb_ST} Loaded\\n')\n",
        "\n",
        "    with open(\"svm_ST\", \"rb\") as file:\n",
        "        svm_ST = pickle.load(file)\n",
        "        print(f'Model: {svm_ST} Loaded\\n')\n",
        "\n",
        "    with open(\"lsvm_ST\", \"rb\") as file:\n",
        "        lsvm_ST = pickle.load(file)\n",
        "        print(f'Model: {lsvm_ST} Loaded\\n')\n",
        "\n",
        "    with open(\"mlp_ST\", \"rb\") as file:\n",
        "        mlp_ST = pickle.load(file)\n",
        "        print(f'Model: {mlp_ST} Loaded\\n')"
      ]
    },
    {
      "cell_type": "markdown",
      "metadata": {
        "id": "U01RdoCsioOg"
      },
      "source": [
        "## Machine Learning Optmization Models"
      ]
    },
    {
      "cell_type": "markdown",
      "metadata": {
        "id": "3OLF-JGkioOg"
      },
      "source": [
        "### Save the Machine Learning Models "
      ]
    },
    {
      "cell_type": "code",
      "execution_count": 84,
      "metadata": {
        "colab": {
          "base_uri": "https://localhost:8080/"
        },
        "id": "Gt2p6WrIioOh",
        "outputId": "eb031864-8ac8-4979-c7f6-f4a5df167599"
      },
      "outputs": [
        {
          "output_type": "stream",
          "name": "stdout",
          "text": [
            "Create file name rf_op\n",
            "Model: RandomForestRegressor(max_depth=84, max_leaf_nodes=11, min_samples_leaf=11,\n",
            "                      min_samples_split=14, n_estimators=112, n_jobs=-1,\n",
            "                      oob_score=True, random_state=42) Saved\n",
            "\n",
            "Create file name gb_op\n",
            "Model: GradientBoostingRegressor(criterion='mse', loss='huber', max_depth=42,\n",
            "                          max_features='auto', min_samples_leaf=17,\n",
            "                          min_samples_split=15, n_estimators=215,\n",
            "                          random_state=42, subsample=0.5) Saved\n",
            "\n",
            "Create file name hgb_op\n",
            "Model: HistGradientBoostingRegressor(l2_regularization=0.1, learning_rate=0.05,\n",
            "                              max_bins=206, max_depth=100, max_iter=72,\n",
            "                              max_leaf_nodes=47, min_samples_leaf=36,\n",
            "                              n_iter_no_change=16, random_state=42) Saved\n",
            "\n",
            "Create file name ad_op\n",
            "Model: AdaBoostRegressor(base_estimator=DecisionTreeRegressor(max_depth=3),\n",
            "                  random_state=42) Saved\n",
            "\n",
            "Create file name et_op\n",
            "Model: ExtraTreesRegressor(max_depth=32, max_features=None, max_leaf_nodes=15,\n",
            "                    min_samples_leaf=20, min_samples_split=11, n_estimators=352,\n",
            "                    random_state=42) Saved\n",
            "\n",
            "Create file name knn_op\n",
            "Model: KNeighborsRegressor(leaf_size=23, p=8, weights='distance') Saved\n",
            "\n",
            "Create file name dt_op\n",
            "Model: DecisionTreeRegressor(criterion='absolute_error', max_depth=53,\n",
            "                      max_features='auto', max_leaf_nodes=20,\n",
            "                      min_samples_leaf=7, min_samples_split=20,\n",
            "                      random_state=42) Saved\n",
            "\n",
            "Create file name svm_op\n",
            "Model: SVR(cache_size=631, degree=13, gamma='auto', kernel='linear', max_iter=3,\n",
            "    shrinking=False) Saved\n",
            "\n",
            "Create file name lsvm_op\n",
            "Model: LinearSVR(dual=False, intercept_scaling=1, loss='squared_epsilon_insensitive',\n",
            "          max_iter=600, random_state=42) Saved\n",
            "\n"
          ]
        }
      ],
      "source": [
        "if ML_OP == 'Enable':\n",
        "\n",
        "    ML_ = [\n",
        "        \n",
        "        rf_op, gb_op, hgb_op, ad_op, et_op, knn_op,\n",
        "        dt_op, svm_op, lsvm_op\n",
        "        \n",
        "        ]\n",
        "\n",
        "    ML_Name_ = [\n",
        "        \n",
        "        'rf_op', 'gb_op', 'hgb_op', 'ad_op', 'et_op', 'knn_op',\n",
        "        'dt_op', 'svm_op', 'lsvm_op'\n",
        "        \n",
        "        ]\n",
        "\n",
        "    Save_ML(ML_Name_, ML_)"
      ]
    },
    {
      "cell_type": "markdown",
      "metadata": {
        "id": "BOVQh2LIioOh"
      },
      "source": [
        "### load the Machine Learning Models "
      ]
    },
    {
      "cell_type": "code",
      "execution_count": 85,
      "metadata": {
        "colab": {
          "base_uri": "https://localhost:8080/"
        },
        "id": "6WyPMPsgioOh",
        "outputId": "563df149-20b1-41d8-aa15-41409b682357"
      },
      "outputs": [
        {
          "output_type": "stream",
          "name": "stdout",
          "text": [
            "Model: RandomForestRegressor(max_depth=84, max_leaf_nodes=11, min_samples_leaf=11,\n",
            "                      min_samples_split=14, n_estimators=112, n_jobs=-1,\n",
            "                      oob_score=True, random_state=42) Loaded\n",
            "\n",
            "Model: GradientBoostingRegressor(criterion='mse', loss='huber', max_depth=42,\n",
            "                          max_features='auto', min_samples_leaf=17,\n",
            "                          min_samples_split=15, n_estimators=215,\n",
            "                          random_state=42, subsample=0.5) Loaded\n",
            "\n",
            "Model: HistGradientBoostingRegressor(l2_regularization=0.1, learning_rate=0.05,\n",
            "                              max_bins=206, max_depth=100, max_iter=72,\n",
            "                              max_leaf_nodes=47, min_samples_leaf=36,\n",
            "                              n_iter_no_change=16, random_state=42) Loaded\n",
            "\n",
            "Model: AdaBoostRegressor(base_estimator=DecisionTreeRegressor(max_depth=3),\n",
            "                  random_state=42) Loaded\n",
            "\n",
            "Model: ExtraTreesRegressor(max_depth=32, max_features=None, max_leaf_nodes=15,\n",
            "                    min_samples_leaf=20, min_samples_split=11, n_estimators=352,\n",
            "                    random_state=42) Loaded\n",
            "\n",
            "Model: KNeighborsRegressor(leaf_size=23, p=8, weights='distance') Loaded\n",
            "\n",
            "Model: DecisionTreeRegressor(criterion='absolute_error', max_depth=53,\n",
            "                      max_features='auto', max_leaf_nodes=20,\n",
            "                      min_samples_leaf=7, min_samples_split=20,\n",
            "                      random_state=42) Loaded\n",
            "\n",
            "Model: SVR(cache_size=631, degree=13, gamma='auto', kernel='linear', max_iter=3,\n",
            "    shrinking=False) Loaded\n",
            "\n",
            "Model: LinearSVR(dual=False, intercept_scaling=1, loss='squared_epsilon_insensitive',\n",
            "          max_iter=600, random_state=42) Loaded\n",
            "\n"
          ]
        }
      ],
      "source": [
        "if ML_OP == 'Enable':\n",
        "\n",
        "    with open(\"rf_op\", \"rb\") as file:\n",
        "        rf_op = pickle.load(file)\n",
        "        print(f'Model: {rf_op} Loaded\\n')\n",
        "\n",
        "    with open(\"gb_op\", \"rb\") as file:\n",
        "        gb_op = pickle.load(file)\n",
        "        print(f'Model: {gb_op} Loaded\\n')\n",
        "\n",
        "    with open(\"hgb_op\", \"rb\") as file:\n",
        "        hgb_op = pickle.load(file)\n",
        "        print(f'Model: {hgb_op} Loaded\\n')\n",
        "\n",
        "    with open(\"ad_op\", \"rb\") as file:\n",
        "        ad_op = pickle.load(file)\n",
        "        print(f'Model: {ad_op} Loaded\\n')\n",
        "\n",
        "    with open(\"et_op\", \"rb\") as file:\n",
        "        et_op = pickle.load(file)\n",
        "        print(f'Model: {et_op} Loaded\\n')\n",
        "\n",
        "    with open(\"knn_op\", \"rb\") as file:\n",
        "        knn_op = pickle.load(file)\n",
        "        print(f'Model: {knn_op} Loaded\\n')\n",
        "\n",
        "    with open(\"dt_op\", \"rb\") as file:\n",
        "        dt_op = pickle.load(file)\n",
        "        print(f'Model: {dt_op} Loaded\\n')\n",
        "\n",
        "    with open(\"svm_op\", \"rb\") as file:\n",
        "        svm_op = pickle.load(file)\n",
        "        print(f'Model: {svm_op} Loaded\\n')\n",
        "\n",
        "    with open(\"lsvm_op\", \"rb\") as file:\n",
        "        lsvm_op = pickle.load(file)\n",
        "        print(f'Model: {lsvm_op} Loaded\\n')"
      ]
    }
  ],
  "metadata": {
    "kernelspec": {
      "display_name": "Python 3.9.13 64-bit",
      "language": "python",
      "name": "python3"
    },
    "language_info": {
      "codemirror_mode": {
        "name": "ipython",
        "version": 3
      },
      "file_extension": ".py",
      "mimetype": "text/x-python",
      "name": "python",
      "nbconvert_exporter": "python",
      "pygments_lexer": "ipython3",
      "version": "3.9.13"
    },
    "orig_nbformat": 4,
    "vscode": {
      "interpreter": {
        "hash": "69b8379b5b4758758ef48c19254652c8bd7752f8cc5bec56237a734feeca976f"
      }
    },
    "colab": {
      "name": "Insurance_Premium_Prediction.ipynb",
      "provenance": [],
      "collapsed_sections": [
        "da5o8JZ9ioNw",
        "qCRRaG55ioN0",
        "y3yoiUDMioN0",
        "-LCqcj7oioN1",
        "ww1PP76MioN2",
        "DNcELPo7ioN2",
        "r_IN3AfgioN2",
        "oFXF2sdIioN3",
        "4_MT0FsLioN4",
        "8MoEDoMfioN6",
        "2BKll4D-ioN7",
        "LWYGC_vaioN8",
        "W3E-Yb_SioN9",
        "OU00wlWTioN9",
        "iWBNmEqxioN-",
        "gVLGuthLioN-",
        "tW0ftAcjioN_",
        "5w9Y-NFmioN_",
        "kSSLGnMRioOA",
        "iGAmliIIioOB",
        "XoCiRAR3ioOB",
        "35E3zRaKioOC",
        "WkE66XigioOC",
        "bQaG_PB9ioOD",
        "kR5WZyaoioOD",
        "HQqCSKHmioOE",
        "uZy8aIiDioOE",
        "4xfC7mFRioOG",
        "Am9__LPmioOG",
        "5sl9uUkTioOH",
        "i3LpkfzqioOP",
        "JnR5zgzBioOQ",
        "ZQVHD9MwioOQ",
        "VCWvJ86NioOR",
        "-mzpDAxxioOS",
        "PdPlLMrcioOV",
        "Vb1kNfPdioOX",
        "bx7z7BibioOX",
        "AVzQHHRgioOY",
        "149KkBy7ioOY",
        "yEJ1C15WioOZ",
        "-woeVr9IioOZ",
        "qLvAt7cBioOa",
        "ftDBRr8SioOb",
        "N0VnqyA_ioOb",
        "ytsYMxxAioOc",
        "hE0Su2RvioOd",
        "MuNYk3ZcioOd",
        "3hJDYHVrioOf",
        "H-IQVG_RioOf",
        "t7N-b6IkioOg",
        "U01RdoCsioOg",
        "3OLF-JGkioOg",
        "BOVQh2LIioOh"
      ]
    }
  },
  "nbformat": 4,
  "nbformat_minor": 0
}